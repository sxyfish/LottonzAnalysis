{
 "cells": [
  {
   "cell_type": "code",
   "execution_count": 42,
   "metadata": {
    "collapsed": false
   },
   "outputs": [],
   "source": [
    "import pandas as pd\n",
    "import numpy as np\n",
    "import os\n",
    "\n",
    "import matplotlib.pyplot as plt\n",
    "import matplotlib\n",
    "import seaborn as sns\n",
    "from pylab import rcParams"
   ]
  },
  {
   "cell_type": "code",
   "execution_count": 43,
   "metadata": {
    "collapsed": false
   },
   "outputs": [],
   "source": [
    "#don't forget this line\n",
    "%matplotlib inline\n",
    "\n",
    "\n",
    "matplotlib.style.use('ggplot')"
   ]
  },
  {
   "cell_type": "code",
   "execution_count": 61,
   "metadata": {
    "collapsed": false
   },
   "outputs": [
    {
     "name": "stdout",
     "output_type": "stream",
     "text": [
      "In [61] used 0.023 MiB RAM in 0.001s, peaked 0.000 MiB above current, total RAM usage 116.844 MiB\n",
      "In [61] used 0.023 MiB RAM in 0.102s, peaked 0.000 MiB above current, total RAM usage 116.844 MiB\n"
     ]
    }
   ],
   "source": [
    "rcParams['figure.figsize'] = 15, 10\n",
    "rcParams['font.size'] = 20\n",
    "rcParams['axes.facecolor'] = 'white'"
   ]
  },
  {
   "cell_type": "code",
   "execution_count": 3,
   "metadata": {
    "collapsed": false
   },
   "outputs": [
    {
     "name": "stdout",
     "output_type": "stream",
     "text": [
      "In [3] used 0.117 MiB RAM in 0.102s, peaked 0.000 MiB above current, total RAM usage 74.277 MiB\n",
      "In [3] used 0.023 MiB RAM in 0.101s, peaked 0.000 MiB above current, total RAM usage 74.277 MiB\n"
     ]
    }
   ],
   "source": [
    "from ipython_memwatcher import MemWatcher\n",
    "mw = MemWatcher()\n",
    "mw.start_watching_memory()"
   ]
  },
  {
   "cell_type": "code",
   "execution_count": 7,
   "metadata": {
    "collapsed": false
   },
   "outputs": [
    {
     "data": {
      "text/plain": [
       "'D:\\\\NZ_NewStart\\\\lectures\\\\practial data mining\\\\lotto_dataset_v1.0'"
      ]
     },
     "execution_count": 7,
     "metadata": {},
     "output_type": "execute_result"
    },
    {
     "name": "stdout",
     "output_type": "stream",
     "text": [
      "In [7] used 0.004 MiB RAM in 0.002s, peaked 0.000 MiB above current, total RAM usage 76.469 MiB\n"
     ]
    }
   ],
   "source": [
    "retval = os.getcwd()\n",
    "retval"
   ]
  },
  {
   "cell_type": "code",
   "execution_count": 2,
   "metadata": {
    "collapsed": false
   },
   "outputs": [
    {
     "data": {
      "text/plain": [
       "'D:\\\\NZ_NewStart\\\\lectures\\\\practial data mining\\\\lotto_dataset_v1.0'"
      ]
     },
     "execution_count": 2,
     "metadata": {},
     "output_type": "execute_result"
    }
   ],
   "source": [
    "path='D:\\\\NZ_NewStart\\\\lectures\\\\practial data mining\\\\lotto_dataset_v1.0'\n",
    "os.chdir( path )\n",
    "retval = os.getcwd()\n",
    "retval"
   ]
  },
  {
   "cell_type": "code",
   "execution_count": 3,
   "metadata": {
    "collapsed": false
   },
   "outputs": [],
   "source": [
    "draw_sales=pd.read_csv(\"factDrawSalesa_MDP.csv\",index_col=None,nrows=1000)"
   ]
  },
  {
   "cell_type": "code",
   "execution_count": 7,
   "metadata": {
    "collapsed": false
   },
   "outputs": [
    {
     "data": {
      "text/plain": [
       "(1000, 10)"
      ]
     },
     "execution_count": 7,
     "metadata": {},
     "output_type": "execute_result"
    },
    {
     "name": "stdout",
     "output_type": "stream",
     "text": [
      "In [7] used 0.012 MiB RAM in 0.005s, peaked 0.000 MiB above current, total RAM usage 78.391 MiB\n",
      "In [7] used 0.012 MiB RAM in 0.104s, peaked 0.000 MiB above current, total RAM usage 78.391 MiB\n"
     ]
    }
   ],
   "source": [
    "draw_sales.shape"
   ]
  },
  {
   "cell_type": "code",
   "execution_count": 6,
   "metadata": {
    "collapsed": false,
    "scrolled": false
   },
   "outputs": [
    {
     "data": {
      "text/html": [
       "<div>\n",
       "<table border=\"1\" class=\"dataframe\">\n",
       "  <thead>\n",
       "    <tr style=\"text-align: right;\">\n",
       "      <th></th>\n",
       "      <th>Unnamed: 0</th>\n",
       "      <th>factDrawSalesKey</th>\n",
       "      <th>dimProductKey</th>\n",
       "      <th>dimRetailerKey</th>\n",
       "      <th>dimDrawKey</th>\n",
       "      <th>dimDateKey</th>\n",
       "      <th>dimPurchasePeriodkey</th>\n",
       "      <th>drawSalesAmount</th>\n",
       "      <th>ticketPurchaseAmount</th>\n",
       "      <th>ticketPurchaseCount</th>\n",
       "    </tr>\n",
       "  </thead>\n",
       "  <tbody>\n",
       "    <tr>\n",
       "      <th>0</th>\n",
       "      <td>1</td>\n",
       "      <td>36307211</td>\n",
       "      <td>22</td>\n",
       "      <td>888</td>\n",
       "      <td>15784</td>\n",
       "      <td>20160401</td>\n",
       "      <td>2</td>\n",
       "      <td>24.0</td>\n",
       "      <td>24.0</td>\n",
       "      <td>0.0</td>\n",
       "    </tr>\n",
       "    <tr>\n",
       "      <th>1</th>\n",
       "      <td>2</td>\n",
       "      <td>58623470</td>\n",
       "      <td>451</td>\n",
       "      <td>2846</td>\n",
       "      <td>15855</td>\n",
       "      <td>20161207</td>\n",
       "      <td>1</td>\n",
       "      <td>2.4</td>\n",
       "      <td>2.4</td>\n",
       "      <td>1.0</td>\n",
       "    </tr>\n",
       "    <tr>\n",
       "      <th>2</th>\n",
       "      <td>3</td>\n",
       "      <td>34556685</td>\n",
       "      <td>22</td>\n",
       "      <td>3043</td>\n",
       "      <td>15778</td>\n",
       "      <td>20160311</td>\n",
       "      <td>2</td>\n",
       "      <td>108.0</td>\n",
       "      <td>108.0</td>\n",
       "      <td>17.0</td>\n",
       "    </tr>\n",
       "  </tbody>\n",
       "</table>\n",
       "</div>"
      ],
      "text/plain": [
       "   Unnamed: 0  factDrawSalesKey  dimProductKey  dimRetailerKey  dimDrawKey  \\\n",
       "0           1          36307211             22             888       15784   \n",
       "1           2          58623470            451            2846       15855   \n",
       "2           3          34556685             22            3043       15778   \n",
       "\n",
       "   dimDateKey  dimPurchasePeriodkey  drawSalesAmount  ticketPurchaseAmount  \\\n",
       "0    20160401                     2             24.0                  24.0   \n",
       "1    20161207                     1              2.4                   2.4   \n",
       "2    20160311                     2            108.0                 108.0   \n",
       "\n",
       "   ticketPurchaseCount  \n",
       "0                  0.0  \n",
       "1                  1.0  \n",
       "2                 17.0  "
      ]
     },
     "execution_count": 6,
     "metadata": {},
     "output_type": "execute_result"
    },
    {
     "name": "stdout",
     "output_type": "stream",
     "text": [
      "In [6] used 0.199 MiB RAM in 0.022s, peaked 0.000 MiB above current, total RAM usage 75.863 MiB\n"
     ]
    }
   ],
   "source": [
    "draw_sales.head(3)"
   ]
  },
  {
   "cell_type": "code",
   "execution_count": 4,
   "metadata": {
    "collapsed": false
   },
   "outputs": [],
   "source": [
    "draw_sales_tmp=draw_sales[draw_sales.dimProductKey.isin([12,22,451])]"
   ]
  },
  {
   "cell_type": "code",
   "execution_count": 5,
   "metadata": {
    "collapsed": false
   },
   "outputs": [
    {
     "data": {
      "text/html": [
       "<div>\n",
       "<table border=\"1\" class=\"dataframe\">\n",
       "  <thead>\n",
       "    <tr style=\"text-align: right;\">\n",
       "      <th></th>\n",
       "      <th>Unnamed: 0</th>\n",
       "      <th>factDrawSalesKey</th>\n",
       "      <th>dimProductKey</th>\n",
       "      <th>dimRetailerKey</th>\n",
       "      <th>dimDrawKey</th>\n",
       "      <th>dimDateKey</th>\n",
       "      <th>dimPurchasePeriodkey</th>\n",
       "      <th>drawSalesAmount</th>\n",
       "      <th>ticketPurchaseAmount</th>\n",
       "      <th>ticketPurchaseCount</th>\n",
       "    </tr>\n",
       "  </thead>\n",
       "  <tbody>\n",
       "    <tr>\n",
       "      <th>0</th>\n",
       "      <td>1</td>\n",
       "      <td>36307211</td>\n",
       "      <td>22</td>\n",
       "      <td>888</td>\n",
       "      <td>15784</td>\n",
       "      <td>20160401</td>\n",
       "      <td>2</td>\n",
       "      <td>24.0</td>\n",
       "      <td>24.0</td>\n",
       "      <td>0.0</td>\n",
       "    </tr>\n",
       "    <tr>\n",
       "      <th>1</th>\n",
       "      <td>2</td>\n",
       "      <td>58623470</td>\n",
       "      <td>451</td>\n",
       "      <td>2846</td>\n",
       "      <td>15855</td>\n",
       "      <td>20161207</td>\n",
       "      <td>1</td>\n",
       "      <td>2.4</td>\n",
       "      <td>2.4</td>\n",
       "      <td>1.0</td>\n",
       "    </tr>\n",
       "    <tr>\n",
       "      <th>2</th>\n",
       "      <td>3</td>\n",
       "      <td>34556685</td>\n",
       "      <td>22</td>\n",
       "      <td>3043</td>\n",
       "      <td>15778</td>\n",
       "      <td>20160311</td>\n",
       "      <td>2</td>\n",
       "      <td>108.0</td>\n",
       "      <td>108.0</td>\n",
       "      <td>17.0</td>\n",
       "    </tr>\n",
       "  </tbody>\n",
       "</table>\n",
       "</div>"
      ],
      "text/plain": [
       "   Unnamed: 0  factDrawSalesKey  dimProductKey  dimRetailerKey  dimDrawKey  \\\n",
       "0           1          36307211             22             888       15784   \n",
       "1           2          58623470            451            2846       15855   \n",
       "2           3          34556685             22            3043       15778   \n",
       "\n",
       "   dimDateKey  dimPurchasePeriodkey  drawSalesAmount  ticketPurchaseAmount  \\\n",
       "0    20160401                     2             24.0                  24.0   \n",
       "1    20161207                     1              2.4                   2.4   \n",
       "2    20160311                     2            108.0                 108.0   \n",
       "\n",
       "   ticketPurchaseCount  \n",
       "0                  0.0  \n",
       "1                  1.0  \n",
       "2                 17.0  "
      ]
     },
     "execution_count": 5,
     "metadata": {},
     "output_type": "execute_result"
    }
   ],
   "source": [
    "draw_sales_tmp.head(3)"
   ]
  },
  {
   "cell_type": "code",
   "execution_count": 15,
   "metadata": {
    "collapsed": false
   },
   "outputs": [
    {
     "data": {
      "text/plain": [
       "(11563005, 10)"
      ]
     },
     "execution_count": 15,
     "metadata": {},
     "output_type": "execute_result"
    },
    {
     "name": "stdout",
     "output_type": "stream",
     "text": [
      "In [15] used 0.000 MiB RAM in 0.000s, peaked 0.000 MiB above current, total RAM usage 2482.309 MiB\n"
     ]
    }
   ],
   "source": [
    "draw_sales_tmp.shape"
   ]
  },
  {
   "cell_type": "code",
   "execution_count": 13,
   "metadata": {
    "collapsed": false
   },
   "outputs": [
    {
     "data": {
      "text/plain": [
       "11736499"
      ]
     },
     "execution_count": 13,
     "metadata": {},
     "output_type": "execute_result"
    },
    {
     "name": "stdout",
     "output_type": "stream",
     "text": [
      "In [13] used 0.094 MiB RAM in 1.269s, peaked 386.777 MiB above current, total RAM usage 2496.895 MiB\n"
     ]
    }
   ],
   "source": [
    "draw_sales_tmp.factDrawSalesKey.nunique()"
   ]
  },
  {
   "cell_type": "code",
   "execution_count": 6,
   "metadata": {
    "collapsed": false
   },
   "outputs": [
    {
     "data": {
      "text/html": [
       "<div>\n",
       "<table border=\"1\" class=\"dataframe\">\n",
       "  <thead>\n",
       "    <tr style=\"text-align: right;\">\n",
       "      <th></th>\n",
       "      <th>﻿dim_retailer_key</th>\n",
       "      <th>retail_outlet_status_description</th>\n",
       "      <th>territorial_local_authority_name</th>\n",
       "      <th>territorial_local_authority_description</th>\n",
       "      <th>zone_name</th>\n",
       "      <th>suburb_name</th>\n",
       "      <th>city_name</th>\n",
       "      <th>region_name</th>\n",
       "      <th>Unnamed: 8</th>\n",
       "      <th>Unnamed: 9</th>\n",
       "      <th>Unnamed: 10</th>\n",
       "    </tr>\n",
       "  </thead>\n",
       "  <tbody>\n",
       "    <tr>\n",
       "      <th>0</th>\n",
       "      <td>1771</td>\n",
       "      <td>Active</td>\n",
       "      <td>Howick Ward</td>\n",
       "      <td>Unknown</td>\n",
       "      <td>Auckland</td>\n",
       "      <td>Lotto Kiosk</td>\n",
       "      <td>1 Ara-Tai Road</td>\n",
       "      <td>Auckland</td>\n",
       "      <td>Not Top 130 Retailer</td>\n",
       "      <td>NaN</td>\n",
       "      <td>NaN</td>\n",
       "    </tr>\n",
       "    <tr>\n",
       "      <th>1</th>\n",
       "      <td>2450</td>\n",
       "      <td>Terminated</td>\n",
       "      <td>Unknown</td>\n",
       "      <td>Unknown</td>\n",
       "      <td>Auckland</td>\n",
       "      <td>Balmoral</td>\n",
       "      <td>Auckland</td>\n",
       "      <td>Unknown</td>\n",
       "      <td>NaN</td>\n",
       "      <td>NaN</td>\n",
       "      <td>NaN</td>\n",
       "    </tr>\n",
       "  </tbody>\n",
       "</table>\n",
       "</div>"
      ],
      "text/plain": [
       "   ﻿dim_retailer_key retail_outlet_status_description  \\\n",
       "0               1771                           Active   \n",
       "1               2450                       Terminated   \n",
       "\n",
       "  territorial_local_authority_name territorial_local_authority_description  \\\n",
       "0                      Howick Ward                                 Unknown   \n",
       "1                          Unknown                                 Unknown   \n",
       "\n",
       "  zone_name   suburb_name        city_name region_name            Unnamed: 8  \\\n",
       "0  Auckland   Lotto Kiosk   1 Ara-Tai Road    Auckland  Not Top 130 Retailer   \n",
       "1  Auckland      Balmoral         Auckland     Unknown                   NaN   \n",
       "\n",
       "  Unnamed: 9 Unnamed: 10  \n",
       "0        NaN         NaN  \n",
       "1        NaN         NaN  "
      ]
     },
     "execution_count": 6,
     "metadata": {},
     "output_type": "execute_result"
    }
   ],
   "source": [
    "#dimRetailer_Updated_AKL_WGTN_CHCH\n",
    "three_retailer=pd.read_csv(\"dimRetailer_Updated_AKL_WGTN_CHCH.csv\",index_col=None)\n",
    "three_retailer.head(2)"
   ]
  },
  {
   "cell_type": "code",
   "execution_count": 40,
   "metadata": {
    "collapsed": false
   },
   "outputs": [
    {
     "data": {
      "text/html": [
       "<div>\n",
       "<table border=\"1\" class=\"dataframe\">\n",
       "  <thead>\n",
       "    <tr style=\"text-align: right;\">\n",
       "      <th></th>\n",
       "      <th>dimRetailerKey</th>\n",
       "      <th>retail_outlet_status_description</th>\n",
       "    </tr>\n",
       "  </thead>\n",
       "  <tbody>\n",
       "    <tr>\n",
       "      <th>0</th>\n",
       "      <td>1771</td>\n",
       "      <td>Active</td>\n",
       "    </tr>\n",
       "    <tr>\n",
       "      <th>1</th>\n",
       "      <td>2450</td>\n",
       "      <td>Terminated</td>\n",
       "    </tr>\n",
       "  </tbody>\n",
       "</table>\n",
       "</div>"
      ],
      "text/plain": [
       "   dimRetailerKey retail_outlet_status_description\n",
       "0            1771                           Active\n",
       "1            2450                       Terminated"
      ]
     },
     "execution_count": 40,
     "metadata": {},
     "output_type": "execute_result"
    },
    {
     "name": "stdout",
     "output_type": "stream",
     "text": [
      "In [40] used -0.094 MiB RAM in 0.010s, peaked 0.000 MiB above current, total RAM usage 80.977 MiB\n",
      "In [40] used -0.094 MiB RAM in 0.107s, peaked 0.000 MiB above current, total RAM usage 80.977 MiB\n"
     ]
    }
   ],
   "source": [
    "three_retailer.ix[:,0:2].head(2)"
   ]
  },
  {
   "cell_type": "code",
   "execution_count": 7,
   "metadata": {
    "collapsed": false
   },
   "outputs": [
    {
     "data": {
      "text/plain": [
       "Index(['dimRetailerKey', 'retail_outlet_status_description',\n",
       "       'territorial_local_authority_name',\n",
       "       'territorial_local_authority_description', 'zone_name', 'suburb_name',\n",
       "       'city_name', 'region_name', 'Unnamed: 8', 'Unnamed: 9', 'Unnamed: 10'],\n",
       "      dtype='object')"
      ]
     },
     "execution_count": 7,
     "metadata": {},
     "output_type": "execute_result"
    }
   ],
   "source": [
    "three_retailer.columns.values[0]=\"dimRetailerKey\"\n",
    "three_retailer.columns"
   ]
  },
  {
   "cell_type": "code",
   "execution_count": 8,
   "metadata": {
    "collapsed": false
   },
   "outputs": [
    {
     "data": {
      "text/html": [
       "<div>\n",
       "<table border=\"1\" class=\"dataframe\">\n",
       "  <thead>\n",
       "    <tr style=\"text-align: right;\">\n",
       "      <th></th>\n",
       "      <th>dimRetailerKey</th>\n",
       "      <th>retail_outlet_status_description</th>\n",
       "      <th>territorial_local_authority_name</th>\n",
       "      <th>territorial_local_authority_description</th>\n",
       "      <th>zone_name</th>\n",
       "      <th>suburb_name</th>\n",
       "      <th>city_name</th>\n",
       "    </tr>\n",
       "  </thead>\n",
       "  <tbody>\n",
       "    <tr>\n",
       "      <th>0</th>\n",
       "      <td>1771</td>\n",
       "      <td>Active</td>\n",
       "      <td>Howick Ward</td>\n",
       "      <td>Unknown</td>\n",
       "      <td>Auckland</td>\n",
       "      <td>Lotto Kiosk</td>\n",
       "      <td>1 Ara-Tai Road</td>\n",
       "    </tr>\n",
       "    <tr>\n",
       "      <th>1</th>\n",
       "      <td>2450</td>\n",
       "      <td>Terminated</td>\n",
       "      <td>Unknown</td>\n",
       "      <td>Unknown</td>\n",
       "      <td>Auckland</td>\n",
       "      <td>Balmoral</td>\n",
       "      <td>Auckland</td>\n",
       "    </tr>\n",
       "  </tbody>\n",
       "</table>\n",
       "</div>"
      ],
      "text/plain": [
       "   dimRetailerKey retail_outlet_status_description  \\\n",
       "0            1771                           Active   \n",
       "1            2450                       Terminated   \n",
       "\n",
       "  territorial_local_authority_name territorial_local_authority_description  \\\n",
       "0                      Howick Ward                                 Unknown   \n",
       "1                          Unknown                                 Unknown   \n",
       "\n",
       "  zone_name   suburb_name        city_name  \n",
       "0  Auckland   Lotto Kiosk   1 Ara-Tai Road  \n",
       "1  Auckland      Balmoral         Auckland  "
      ]
     },
     "execution_count": 8,
     "metadata": {},
     "output_type": "execute_result"
    }
   ],
   "source": [
    "#draw_sales_tmp.iloc[:,[0,3]]\n",
    "three_retailer_part=three_retailer.iloc[:,0:7]\n",
    "three_retailer_part.head(2)"
   ]
  },
  {
   "cell_type": "code",
   "execution_count": 9,
   "metadata": {
    "collapsed": false
   },
   "outputs": [],
   "source": [
    "draw_sales_three=pd.merge(draw_sales_tmp,three_retailer_part)\n",
    "draw_sales_three=draw_sales_three.iloc[:,1:]"
   ]
  },
  {
   "cell_type": "code",
   "execution_count": 10,
   "metadata": {
    "collapsed": false,
    "scrolled": true
   },
   "outputs": [
    {
     "data": {
      "text/html": [
       "<div>\n",
       "<table border=\"1\" class=\"dataframe\">\n",
       "  <thead>\n",
       "    <tr style=\"text-align: right;\">\n",
       "      <th></th>\n",
       "      <th>factDrawSalesKey</th>\n",
       "      <th>dimProductKey</th>\n",
       "      <th>dimRetailerKey</th>\n",
       "      <th>dimDrawKey</th>\n",
       "      <th>dimDateKey</th>\n",
       "      <th>dimPurchasePeriodkey</th>\n",
       "      <th>drawSalesAmount</th>\n",
       "      <th>ticketPurchaseAmount</th>\n",
       "      <th>ticketPurchaseCount</th>\n",
       "      <th>retail_outlet_status_description</th>\n",
       "      <th>territorial_local_authority_name</th>\n",
       "      <th>territorial_local_authority_description</th>\n",
       "      <th>zone_name</th>\n",
       "      <th>suburb_name</th>\n",
       "      <th>city_name</th>\n",
       "    </tr>\n",
       "  </thead>\n",
       "  <tbody>\n",
       "    <tr>\n",
       "      <th>0</th>\n",
       "      <td>58623470</td>\n",
       "      <td>451</td>\n",
       "      <td>2846</td>\n",
       "      <td>15855</td>\n",
       "      <td>20161207</td>\n",
       "      <td>1</td>\n",
       "      <td>2.4</td>\n",
       "      <td>2.4</td>\n",
       "      <td>1.0</td>\n",
       "      <td>Active</td>\n",
       "      <td>Waitakere Ward</td>\n",
       "      <td>Unknown</td>\n",
       "      <td>Auckland</td>\n",
       "      <td>17-19 Fred Taylor Drive</td>\n",
       "      <td>Westgate</td>\n",
       "    </tr>\n",
       "    <tr>\n",
       "      <th>1</th>\n",
       "      <td>34556685</td>\n",
       "      <td>22</td>\n",
       "      <td>3043</td>\n",
       "      <td>15778</td>\n",
       "      <td>20160311</td>\n",
       "      <td>2</td>\n",
       "      <td>108.0</td>\n",
       "      <td>108.0</td>\n",
       "      <td>17.0</td>\n",
       "      <td>Active</td>\n",
       "      <td>Whau Ward</td>\n",
       "      <td>Unknown</td>\n",
       "      <td>Auckland</td>\n",
       "      <td>Blockhouse Bay</td>\n",
       "      <td>Auckland</td>\n",
       "    </tr>\n",
       "  </tbody>\n",
       "</table>\n",
       "</div>"
      ],
      "text/plain": [
       "   factDrawSalesKey  dimProductKey  dimRetailerKey  dimDrawKey  dimDateKey  \\\n",
       "0          58623470            451            2846       15855    20161207   \n",
       "1          34556685             22            3043       15778    20160311   \n",
       "\n",
       "   dimPurchasePeriodkey  drawSalesAmount  ticketPurchaseAmount  \\\n",
       "0                     1              2.4                   2.4   \n",
       "1                     2            108.0                 108.0   \n",
       "\n",
       "   ticketPurchaseCount retail_outlet_status_description  \\\n",
       "0                  1.0                           Active   \n",
       "1                 17.0                           Active   \n",
       "\n",
       "  territorial_local_authority_name territorial_local_authority_description  \\\n",
       "0                   Waitakere Ward                                 Unknown   \n",
       "1                        Whau Ward                                 Unknown   \n",
       "\n",
       "  zone_name               suburb_name city_name  \n",
       "0  Auckland   17-19 Fred Taylor Drive  Westgate  \n",
       "1  Auckland            Blockhouse Bay  Auckland  "
      ]
     },
     "execution_count": 10,
     "metadata": {},
     "output_type": "execute_result"
    }
   ],
   "source": [
    "draw_sales_three.head(2)"
   ]
  },
  {
   "cell_type": "code",
   "execution_count": 58,
   "metadata": {
    "collapsed": false
   },
   "outputs": [
    {
     "name": "stdout",
     "output_type": "stream",
     "text": [
      "In [58] used 0.008 MiB RAM in 0.007s, peaked 0.000 MiB above current, total RAM usage 81.852 MiB\n",
      "In [58] used 0.008 MiB RAM in 0.107s, peaked 0.000 MiB above current, total RAM usage 81.852 MiB\n"
     ]
    }
   ],
   "source": [
    "draw_sales_three.to_csv(\"draw_sales_three_city.csv\")"
   ]
  },
  {
   "cell_type": "code",
   "execution_count": 62,
   "metadata": {
    "collapsed": false
   },
   "outputs": [
    {
     "data": {
      "text/html": [
       "<div>\n",
       "<table border=\"1\" class=\"dataframe\">\n",
       "  <thead>\n",
       "    <tr style=\"text-align: right;\">\n",
       "      <th></th>\n",
       "      <th>factDrawSalesKey</th>\n",
       "      <th>dimProductKey</th>\n",
       "      <th>dimRetailerKey</th>\n",
       "      <th>dimDrawKey</th>\n",
       "      <th>dimDateKey</th>\n",
       "      <th>dimPurchasePeriodkey</th>\n",
       "      <th>drawSalesAmount</th>\n",
       "      <th>ticketPurchaseAmount</th>\n",
       "      <th>ticketPurchaseCount</th>\n",
       "      <th>retail_outlet_status_description</th>\n",
       "      <th>territorial_local_authority_name</th>\n",
       "      <th>territorial_local_authority_description</th>\n",
       "      <th>zone_name</th>\n",
       "      <th>suburb_name</th>\n",
       "      <th>city_name</th>\n",
       "    </tr>\n",
       "  </thead>\n",
       "  <tbody>\n",
       "    <tr>\n",
       "      <th>0</th>\n",
       "      <td>58623470</td>\n",
       "      <td>451</td>\n",
       "      <td>2846</td>\n",
       "      <td>15855</td>\n",
       "      <td>20161207</td>\n",
       "      <td>1</td>\n",
       "      <td>2.4</td>\n",
       "      <td>2.4</td>\n",
       "      <td>1.0</td>\n",
       "      <td>Active</td>\n",
       "      <td>Waitakere Ward</td>\n",
       "      <td>Unknown</td>\n",
       "      <td>Auckland</td>\n",
       "      <td>17-19 Fred Taylor Drive</td>\n",
       "      <td>Westgate</td>\n",
       "    </tr>\n",
       "    <tr>\n",
       "      <th>1</th>\n",
       "      <td>34556685</td>\n",
       "      <td>22</td>\n",
       "      <td>3043</td>\n",
       "      <td>15778</td>\n",
       "      <td>20160311</td>\n",
       "      <td>2</td>\n",
       "      <td>108.0</td>\n",
       "      <td>108.0</td>\n",
       "      <td>17.0</td>\n",
       "      <td>Active</td>\n",
       "      <td>Whau Ward</td>\n",
       "      <td>Unknown</td>\n",
       "      <td>Auckland</td>\n",
       "      <td>Blockhouse Bay</td>\n",
       "      <td>Auckland</td>\n",
       "    </tr>\n",
       "  </tbody>\n",
       "</table>\n",
       "</div>"
      ],
      "text/plain": [
       "   factDrawSalesKey  dimProductKey  dimRetailerKey  dimDrawKey  dimDateKey  \\\n",
       "0          58623470            451            2846       15855    20161207   \n",
       "1          34556685             22            3043       15778    20160311   \n",
       "\n",
       "   dimPurchasePeriodkey  drawSalesAmount  ticketPurchaseAmount  \\\n",
       "0                     1              2.4                   2.4   \n",
       "1                     2            108.0                 108.0   \n",
       "\n",
       "   ticketPurchaseCount retail_outlet_status_description  \\\n",
       "0                  1.0                           Active   \n",
       "1                 17.0                           Active   \n",
       "\n",
       "  territorial_local_authority_name territorial_local_authority_description  \\\n",
       "0                   Waitakere Ward                                 Unknown   \n",
       "1                        Whau Ward                                 Unknown   \n",
       "\n",
       "  zone_name               suburb_name city_name  \n",
       "0  Auckland   17-19 Fred Taylor Drive  Westgate  \n",
       "1  Auckland            Blockhouse Bay  Auckland  "
      ]
     },
     "execution_count": 62,
     "metadata": {},
     "output_type": "execute_result"
    },
    {
     "name": "stdout",
     "output_type": "stream",
     "text": [
      "In [62] used 0.059 MiB RAM in 0.017s, peaked 0.000 MiB above current, total RAM usage 116.902 MiB\n",
      "In [62] used 0.059 MiB RAM in 0.117s, peaked 0.000 MiB above current, total RAM usage 116.902 MiB\n"
     ]
    }
   ],
   "source": [
    "draw_sales_three.head(2)"
   ]
  },
  {
   "cell_type": "code",
   "execution_count": 11,
   "metadata": {
    "collapsed": false
   },
   "outputs": [],
   "source": [
    "_ =draw_sales_three['drawSalesAmount'].hist(by= draw_sales_three['zone_name'] , figsize=(15, 15), sharey=True, sharex=True, bins=int(np.sqrt(len(draw_sales_three))), color='grey')"
   ]
  },
  {
   "cell_type": "code",
   "execution_count": 45,
   "metadata": {
    "collapsed": false
   },
   "outputs": [
    {
     "data": {
      "image/png": "[encoded data removed]",
      "text/plain": [
       "<matplotlib.figure.Figure at 0xb2a98d0>"
      ]
     },
     "metadata": {},
     "output_type": "display_data"
    }
   ],
   "source": [
    "#draw_sales_three['drawSalesAmount'].hist()\n",
    "_=draw_sales_three.drawSalesAmount.hist()"
   ]
  },
  {
   "cell_type": "code",
   "execution_count": 44,
   "metadata": {
    "collapsed": false
   },
   "outputs": [
    {
     "data": {
      "text/plain": [
       "<matplotlib.axes._subplots.AxesSubplot at 0xb24f860>"
      ]
     },
     "execution_count": 44,
     "metadata": {},
     "output_type": "execute_result"
    },
    {
     "data": {
      "image/png": "[encoded data removed]",
      "text/plain": [
       "<matplotlib.figure.Figure at 0xb249828>"
      ]
     },
     "metadata": {},
     "output_type": "display_data"
    }
   ],
   "source": [
    "draw_sales_three['drawSalesAmount'].plot()"
   ]
  },
  {
   "cell_type": "code",
   "execution_count": 27,
   "metadata": {
    "collapsed": false
   },
   "outputs": [],
   "source": [
    "draw_sales_three_test=draw_sales_three.iloc[0:10,:]"
   ]
  },
  {
   "cell_type": "code",
   "execution_count": 23,
   "metadata": {
    "collapsed": false
   },
   "outputs": [
    {
     "data": {
      "text/plain": [
       "pandas.core.frame.DataFrame"
      ]
     },
     "execution_count": 23,
     "metadata": {},
     "output_type": "execute_result"
    }
   ],
   "source": [
    "type(draw_sales_three_test)"
   ]
  },
  {
   "cell_type": "code",
   "execution_count": 28,
   "metadata": {
    "collapsed": false
   },
   "outputs": [],
   "source": [
    "draw_sales_three_test=draw_sales_three_test.drawSalesAmount\n",
    "#_ =draw_sales_three_test.plot()"
   ]
  },
  {
   "cell_type": "code",
   "execution_count": 36,
   "metadata": {
    "collapsed": false
   },
   "outputs": [
    {
     "data": {
      "text/html": [
       "<div>\n",
       "<table border=\"1\" class=\"dataframe\">\n",
       "  <thead>\n",
       "    <tr style=\"text-align: right;\">\n",
       "      <th></th>\n",
       "      <th>factDrawSalesKey</th>\n",
       "      <th>dimProductKey</th>\n",
       "      <th>dimRetailerKey</th>\n",
       "      <th>dimDrawKey</th>\n",
       "      <th>dimDateKey</th>\n",
       "      <th>dimPurchasePeriodkey</th>\n",
       "      <th>drawSalesAmount</th>\n",
       "      <th>ticketPurchaseAmount</th>\n",
       "      <th>ticketPurchaseCount</th>\n",
       "      <th>retail_outlet_status_description</th>\n",
       "      <th>territorial_local_authority_name</th>\n",
       "      <th>territorial_local_authority_description</th>\n",
       "      <th>zone_name</th>\n",
       "      <th>suburb_name</th>\n",
       "      <th>city_name</th>\n",
       "    </tr>\n",
       "  </thead>\n",
       "  <tbody>\n",
       "    <tr>\n",
       "      <th>0</th>\n",
       "      <td>58623470</td>\n",
       "      <td>451</td>\n",
       "      <td>2846</td>\n",
       "      <td>15855</td>\n",
       "      <td>20161207</td>\n",
       "      <td>1</td>\n",
       "      <td>2.4</td>\n",
       "      <td>2.4</td>\n",
       "      <td>1.0</td>\n",
       "      <td>Active</td>\n",
       "      <td>Waitakere Ward</td>\n",
       "      <td>Unknown</td>\n",
       "      <td>Auckland</td>\n",
       "      <td>17-19 Fred Taylor Drive</td>\n",
       "      <td>Westgate</td>\n",
       "    </tr>\n",
       "  </tbody>\n",
       "</table>\n",
       "</div>"
      ],
      "text/plain": [
       "   factDrawSalesKey  dimProductKey  dimRetailerKey  dimDrawKey  dimDateKey  \\\n",
       "0          58623470            451            2846       15855    20161207   \n",
       "\n",
       "   dimPurchasePeriodkey  drawSalesAmount  ticketPurchaseAmount  \\\n",
       "0                     1              2.4                   2.4   \n",
       "\n",
       "   ticketPurchaseCount retail_outlet_status_description  \\\n",
       "0                  1.0                           Active   \n",
       "\n",
       "  territorial_local_authority_name territorial_local_authority_description  \\\n",
       "0                   Waitakere Ward                                 Unknown   \n",
       "\n",
       "  zone_name               suburb_name city_name  \n",
       "0  Auckland   17-19 Fred Taylor Drive  Westgate  "
      ]
     },
     "execution_count": 36,
     "metadata": {},
     "output_type": "execute_result"
    }
   ],
   "source": [
    "draw_sales_three.head(1)"
   ]
  },
  {
   "cell_type": "code",
   "execution_count": 46,
   "metadata": {
    "collapsed": false
   },
   "outputs": [
    {
     "data": {
      "image/png": "[encoded data removed]",
      "text/plain": [
       "<matplotlib.figure.Figure at 0xb844048>"
      ]
     },
     "metadata": {},
     "output_type": "display_data"
    }
   ],
   "source": [
    "#draw_sales_three_test.plot()\n",
    "_=plt.scatter(draw_sales_three.drawSalesAmount,draw_sales_three.factDrawSalesKey)"
   ]
  },
  {
   "cell_type": "code",
   "execution_count": 47,
   "metadata": {
    "collapsed": false
   },
   "outputs": [
    {
     "data": {
      "image/png": "[encoded data removed]",
      "text/plain": [
       "<matplotlib.figure.Figure at 0xb8a3cf8>"
      ]
     },
     "metadata": {},
     "output_type": "display_data"
    }
   ],
   "source": [
    "_=plt.scatter(draw_sales_three.drawSalesAmount,draw_sales_three.dimDateKey)"
   ]
  },
  {
   "cell_type": "code",
   "execution_count": 31,
   "metadata": {
    "collapsed": false
   },
   "outputs": [
    {
     "data": {
      "text/plain": [
       "0      2.4\n",
       "1    108.0\n",
       "2     27.0\n",
       "3      4.8\n",
       "4    153.0\n",
       "5      4.0\n",
       "6      6.0\n",
       "7      3.0\n",
       "8      9.0\n",
       "9      2.4\n",
       "Name: drawSalesAmount, dtype: float64"
      ]
     },
     "execution_count": 31,
     "metadata": {},
     "output_type": "execute_result"
    }
   ],
   "source": [
    "draw_sales_three_test"
   ]
  },
  {
   "cell_type": "code",
   "execution_count": 8,
   "metadata": {
    "collapsed": false
   },
   "outputs": [
    {
     "name": "stdout",
     "output_type": "stream",
     "text": [
      "In [8] used 0.012 MiB RAM in 0.007s, peaked 0.000 MiB above current, total RAM usage 76.336 MiB\n"
     ]
    }
   ],
   "source": [
    "daily_sales=pd.read_csv(\"subsetfactDailySales.csv\",index_col=None,nrows=1000)\n",
    "#daily_sales=pd.read_csv(\"subsetfactDailySales.csv\",index_col=None)"
   ]
  },
  {
   "cell_type": "code",
   "execution_count": 5,
   "metadata": {
    "collapsed": false
   },
   "outputs": [
    {
     "data": {
      "text/html": [
       "<div>\n",
       "<table border=\"1\" class=\"dataframe\">\n",
       "  <thead>\n",
       "    <tr style=\"text-align: right;\">\n",
       "      <th></th>\n",
       "      <th>Unnamed: 0</th>\n",
       "      <th>factDailySalesKey</th>\n",
       "      <th>dimProductKey</th>\n",
       "      <th>dimRetailerKey</th>\n",
       "      <th>dimDateKey</th>\n",
       "      <th>transactionDate</th>\n",
       "      <th>cancelCount</th>\n",
       "      <th>cancelAmount</th>\n",
       "      <th>salesCount</th>\n",
       "      <th>salesAmount</th>\n",
       "      <th>sos_salesCount</th>\n",
       "      <th>bonusTicketAmount</th>\n",
       "      <th>bonusTicketCount</th>\n",
       "    </tr>\n",
       "  </thead>\n",
       "  <tbody>\n",
       "    <tr>\n",
       "      <th>0</th>\n",
       "      <td>1</td>\n",
       "      <td>9201510</td>\n",
       "      <td>14</td>\n",
       "      <td>2016</td>\n",
       "      <td>20150301</td>\n",
       "      <td>2015-03-01</td>\n",
       "      <td>0</td>\n",
       "      <td>0</td>\n",
       "      <td>46</td>\n",
       "      <td>280.0</td>\n",
       "      <td>0</td>\n",
       "      <td>8</td>\n",
       "      <td>2</td>\n",
       "    </tr>\n",
       "    <tr>\n",
       "      <th>1</th>\n",
       "      <td>2</td>\n",
       "      <td>9201511</td>\n",
       "      <td>22</td>\n",
       "      <td>2016</td>\n",
       "      <td>20150301</td>\n",
       "      <td>2015-03-01</td>\n",
       "      <td>0</td>\n",
       "      <td>0</td>\n",
       "      <td>9</td>\n",
       "      <td>318.6</td>\n",
       "      <td>0</td>\n",
       "      <td>0</td>\n",
       "      <td>0</td>\n",
       "    </tr>\n",
       "  </tbody>\n",
       "</table>\n",
       "</div>"
      ],
      "text/plain": [
       "   Unnamed: 0  factDailySalesKey  dimProductKey  dimRetailerKey  dimDateKey  \\\n",
       "0           1            9201510             14            2016    20150301   \n",
       "1           2            9201511             22            2016    20150301   \n",
       "\n",
       "  transactionDate  cancelCount  cancelAmount  salesCount  salesAmount  \\\n",
       "0      2015-03-01            0             0          46        280.0   \n",
       "1      2015-03-01            0             0           9        318.6   \n",
       "\n",
       "   sos_salesCount  bonusTicketAmount  bonusTicketCount  \n",
       "0               0                  8                 2  \n",
       "1               0                  0                 0  "
      ]
     },
     "execution_count": 5,
     "metadata": {},
     "output_type": "execute_result"
    },
    {
     "name": "stdout",
     "output_type": "stream",
     "text": [
      "In [5] used 0.227 MiB RAM in 0.013s, peaked 0.000 MiB above current, total RAM usage 76.203 MiB\n"
     ]
    }
   ],
   "source": [
    "daily_sales.head(2)"
   ]
  },
  {
   "cell_type": "code",
   "execution_count": 9,
   "metadata": {
    "collapsed": false
   },
   "outputs": [
    {
     "name": "stdout",
     "output_type": "stream",
     "text": [
      "In [9] used 0.016 MiB RAM in 0.000s, peaked 0.000 MiB above current, total RAM usage 76.352 MiB\n"
     ]
    }
   ],
   "source": [
    "daily_sales_tmp=daily_sales[daily_sales.dimProductKey.isin([12,22,451])]"
   ]
  },
  {
   "cell_type": "code",
   "execution_count": 10,
   "metadata": {
    "collapsed": false
   },
   "outputs": [
    {
     "data": {
      "text/plain": [
       "(167, 13)"
      ]
     },
     "execution_count": 10,
     "metadata": {},
     "output_type": "execute_result"
    },
    {
     "name": "stdout",
     "output_type": "stream",
     "text": [
      "In [10] used 0.000 MiB RAM in 0.000s, peaked 0.000 MiB above current, total RAM usage 76.352 MiB\n"
     ]
    }
   ],
   "source": [
    "daily_sales_tmp.shape"
   ]
  },
  {
   "cell_type": "code",
   "execution_count": 20,
   "metadata": {
    "collapsed": false,
    "scrolled": true
   },
   "outputs": [
    {
     "data": {
      "text/html": [
       "<div>\n",
       "<table border=\"1\" class=\"dataframe\">\n",
       "  <thead>\n",
       "    <tr style=\"text-align: right;\">\n",
       "      <th></th>\n",
       "      <th>Unnamed: 0</th>\n",
       "      <th>factDailySalesKey</th>\n",
       "      <th>dimProductKey</th>\n",
       "      <th>dimRetailerKey</th>\n",
       "      <th>dimDateKey</th>\n",
       "      <th>transactionDate</th>\n",
       "      <th>cancelCount</th>\n",
       "      <th>cancelAmount</th>\n",
       "      <th>salesCount</th>\n",
       "      <th>salesAmount</th>\n",
       "      <th>sos_salesCount</th>\n",
       "      <th>bonusTicketAmount</th>\n",
       "      <th>bonusTicketCount</th>\n",
       "    </tr>\n",
       "  </thead>\n",
       "  <tbody>\n",
       "    <tr>\n",
       "      <th>1</th>\n",
       "      <td>2</td>\n",
       "      <td>9201511</td>\n",
       "      <td>22</td>\n",
       "      <td>2016</td>\n",
       "      <td>20150301</td>\n",
       "      <td>2015-03-01</td>\n",
       "      <td>0</td>\n",
       "      <td>0.0</td>\n",
       "      <td>9</td>\n",
       "      <td>318.6</td>\n",
       "      <td>0</td>\n",
       "      <td>0</td>\n",
       "      <td>0</td>\n",
       "    </tr>\n",
       "    <tr>\n",
       "      <th>7</th>\n",
       "      <td>8</td>\n",
       "      <td>9199071</td>\n",
       "      <td>12</td>\n",
       "      <td>1811</td>\n",
       "      <td>20150301</td>\n",
       "      <td>2015-03-01</td>\n",
       "      <td>0</td>\n",
       "      <td>0.0</td>\n",
       "      <td>6</td>\n",
       "      <td>7.0</td>\n",
       "      <td>0</td>\n",
       "      <td>5</td>\n",
       "      <td>5</td>\n",
       "    </tr>\n",
       "  </tbody>\n",
       "</table>\n",
       "</div>"
      ],
      "text/plain": [
       "   Unnamed: 0  factDailySalesKey  dimProductKey  dimRetailerKey  dimDateKey  \\\n",
       "1           2            9201511             22            2016    20150301   \n",
       "7           8            9199071             12            1811    20150301   \n",
       "\n",
       "  transactionDate  cancelCount  cancelAmount  salesCount  salesAmount  \\\n",
       "1      2015-03-01            0           0.0           9        318.6   \n",
       "7      2015-03-01            0           0.0           6          7.0   \n",
       "\n",
       "   sos_salesCount  bonusTicketAmount  bonusTicketCount  \n",
       "1               0                  0                 0  \n",
       "7               0                  5                 5  "
      ]
     },
     "execution_count": 20,
     "metadata": {},
     "output_type": "execute_result"
    },
    {
     "name": "stdout",
     "output_type": "stream",
     "text": [
      "In [20] used 0.055 MiB RAM in 0.016s, peaked 0.000 MiB above current, total RAM usage 3888.805 MiB\n"
     ]
    }
   ],
   "source": [
    "daily_sales_tmp.head(2)"
   ]
  },
  {
   "cell_type": "code",
   "execution_count": null,
   "metadata": {
    "collapsed": true
   },
   "outputs": [],
   "source": [
    "daily_sales_tmp[daily_sales_tmp.dimDateKey='']"
   ]
  },
  {
   "cell_type": "code",
   "execution_count": 3,
   "metadata": {
    "collapsed": false,
    "scrolled": true
   },
   "outputs": [
    {
     "data": {
      "text/html": [
       "<div>\n",
       "<table border=\"1\" class=\"dataframe\">\n",
       "  <thead>\n",
       "    <tr style=\"text-align: right;\">\n",
       "      <th></th>\n",
       "      <th>dim_product_key</th>\n",
       "      <th>product_number</th>\n",
       "      <th>product_type_code</th>\n",
       "      <th>product_description</th>\n",
       "      <th>product_family_code</th>\n",
       "      <th>product_family_description</th>\n",
       "      <th>online_flag</th>\n",
       "      <th>instant_flag</th>\n",
       "      <th>product_type</th>\n",
       "      <th>product_reporting_seq</th>\n",
       "      <th>...</th>\n",
       "      <th>product_size_description</th>\n",
       "      <th>product_width</th>\n",
       "      <th>product_height</th>\n",
       "      <th>product_colour_description</th>\n",
       "      <th>product_area</th>\n",
       "      <th>product_category</th>\n",
       "      <th>product_category_sort</th>\n",
       "      <th>Unnamed: 41</th>\n",
       "      <th>Unnamed: 42</th>\n",
       "      <th>Unnamed: 43</th>\n",
       "    </tr>\n",
       "  </thead>\n",
       "  <tbody>\n",
       "    <tr>\n",
       "      <th>0</th>\n",
       "      <td>0</td>\n",
       "      <td>0</td>\n",
       "      <td>0</td>\n",
       "      <td>Unknown</td>\n",
       "      <td>NaN</td>\n",
       "      <td>Unknown</td>\n",
       "      <td>Unk</td>\n",
       "      <td>Unk</td>\n",
       "      <td>Unknown</td>\n",
       "      <td>NaN</td>\n",
       "      <td>...</td>\n",
       "      <td>Unknown</td>\n",
       "      <td>0</td>\n",
       "      <td>0</td>\n",
       "      <td>Unknown</td>\n",
       "      <td>0</td>\n",
       "      <td>Unknown</td>\n",
       "      <td>0</td>\n",
       "      <td>NaN</td>\n",
       "      <td>NaN</td>\n",
       "      <td>NaN</td>\n",
       "    </tr>\n",
       "    <tr>\n",
       "      <th>1</th>\n",
       "      <td>1</td>\n",
       "      <td>1</td>\n",
       "      <td>1</td>\n",
       "      <td>01 $3 EDREAM</td>\n",
       "      <td>3.0</td>\n",
       "      <td>Instant Kiwi</td>\n",
       "      <td>No</td>\n",
       "      <td>Yes</td>\n",
       "      <td>Instant</td>\n",
       "      <td>9999.0</td>\n",
       "      <td>...</td>\n",
       "      <td>Not Used</td>\n",
       "      <td>0</td>\n",
       "      <td>0</td>\n",
       "      <td>Not Used</td>\n",
       "      <td>0</td>\n",
       "      <td>Instant Kiwi</td>\n",
       "      <td>30</td>\n",
       "      <td>NaN</td>\n",
       "      <td>NaN</td>\n",
       "      <td>NaN</td>\n",
       "    </tr>\n",
       "    <tr>\n",
       "      <th>2</th>\n",
       "      <td>2</td>\n",
       "      <td>2</td>\n",
       "      <td>2</td>\n",
       "      <td>Promotions</td>\n",
       "      <td>0.0</td>\n",
       "      <td>Undefined</td>\n",
       "      <td>No</td>\n",
       "      <td>No</td>\n",
       "      <td>Undefined</td>\n",
       "      <td>9999.0</td>\n",
       "      <td>...</td>\n",
       "      <td>Not Used</td>\n",
       "      <td>0</td>\n",
       "      <td>0</td>\n",
       "      <td>Not Used</td>\n",
       "      <td>0</td>\n",
       "      <td>Undefined</td>\n",
       "      <td>90</td>\n",
       "      <td>NaN</td>\n",
       "      <td>NaN</td>\n",
       "      <td>NaN</td>\n",
       "    </tr>\n",
       "    <tr>\n",
       "      <th>3</th>\n",
       "      <td>3</td>\n",
       "      <td>3</td>\n",
       "      <td>1</td>\n",
       "      <td>03 $8 K XMAS</td>\n",
       "      <td>3.0</td>\n",
       "      <td>Instant Kiwi</td>\n",
       "      <td>No</td>\n",
       "      <td>Yes</td>\n",
       "      <td>Instant</td>\n",
       "      <td>9999.0</td>\n",
       "      <td>...</td>\n",
       "      <td>Not Used</td>\n",
       "      <td>0</td>\n",
       "      <td>0</td>\n",
       "      <td>Not Used</td>\n",
       "      <td>0</td>\n",
       "      <td>Instant Kiwi</td>\n",
       "      <td>30</td>\n",
       "      <td>NaN</td>\n",
       "      <td>NaN</td>\n",
       "      <td>NaN</td>\n",
       "    </tr>\n",
       "    <tr>\n",
       "      <th>4</th>\n",
       "      <td>4</td>\n",
       "      <td>4</td>\n",
       "      <td>1</td>\n",
       "      <td>04 $3 AUTMNX</td>\n",
       "      <td>3.0</td>\n",
       "      <td>Instant Kiwi</td>\n",
       "      <td>No</td>\n",
       "      <td>Yes</td>\n",
       "      <td>Instant</td>\n",
       "      <td>9999.0</td>\n",
       "      <td>...</td>\n",
       "      <td>Not Used</td>\n",
       "      <td>0</td>\n",
       "      <td>0</td>\n",
       "      <td>Not Used</td>\n",
       "      <td>0</td>\n",
       "      <td>Instant Kiwi</td>\n",
       "      <td>30</td>\n",
       "      <td>NaN</td>\n",
       "      <td>NaN</td>\n",
       "      <td>NaN</td>\n",
       "    </tr>\n",
       "  </tbody>\n",
       "</table>\n",
       "<p>5 rows × 44 columns</p>\n",
       "</div>"
      ],
      "text/plain": [
       "   dim_product_key  product_number  product_type_code product_description  \\\n",
       "0                0               0                  0             Unknown   \n",
       "1                1               1                  1        01 $3 EDREAM   \n",
       "2                2               2                  2          Promotions   \n",
       "3                3               3                  1        03 $8 K XMAS   \n",
       "4                4               4                  1        04 $3 AUTMNX   \n",
       "\n",
       "   product_family_code product_family_description online_flag instant_flag  \\\n",
       "0                  NaN                    Unknown         Unk          Unk   \n",
       "1                  3.0               Instant Kiwi          No          Yes   \n",
       "2                  0.0                  Undefined          No           No   \n",
       "3                  3.0               Instant Kiwi          No          Yes   \n",
       "4                  3.0               Instant Kiwi          No          Yes   \n",
       "\n",
       "  product_type  product_reporting_seq     ...      product_size_description  \\\n",
       "0      Unknown                    NaN     ...                       Unknown   \n",
       "1      Instant                 9999.0     ...                      Not Used   \n",
       "2    Undefined                 9999.0     ...                      Not Used   \n",
       "3      Instant                 9999.0     ...                      Not Used   \n",
       "4      Instant                 9999.0     ...                      Not Used   \n",
       "\n",
       "   product_width  product_height  product_colour_description  product_area  \\\n",
       "0              0               0                     Unknown             0   \n",
       "1              0               0                    Not Used             0   \n",
       "2              0               0                    Not Used             0   \n",
       "3              0               0                    Not Used             0   \n",
       "4              0               0                    Not Used             0   \n",
       "\n",
       "   product_category  product_category_sort  Unnamed: 41  Unnamed: 42  \\\n",
       "0           Unknown                      0          NaN          NaN   \n",
       "1      Instant Kiwi                     30          NaN          NaN   \n",
       "2         Undefined                     90          NaN          NaN   \n",
       "3      Instant Kiwi                     30          NaN          NaN   \n",
       "4      Instant Kiwi                     30          NaN          NaN   \n",
       "\n",
       "   Unnamed: 43  \n",
       "0          NaN  \n",
       "1          NaN  \n",
       "2          NaN  \n",
       "3          NaN  \n",
       "4          NaN  \n",
       "\n",
       "[5 rows x 44 columns]"
      ]
     },
     "execution_count": 3,
     "metadata": {},
     "output_type": "execute_result"
    }
   ],
   "source": [
    "dim_product=pd.read_csv(\"dimProduct.csv\")\n",
    "dim_product.head()"
   ]
  },
  {
   "cell_type": "code",
   "execution_count": 4,
   "metadata": {
    "collapsed": false
   },
   "outputs": [
    {
     "data": {
      "text/plain": [
       "(577, 44)"
      ]
     },
     "execution_count": 4,
     "metadata": {},
     "output_type": "execute_result"
    }
   ],
   "source": [
    "dim_product.shape"
   ]
  },
  {
   "cell_type": "code",
   "execution_count": 40,
   "metadata": {
    "collapsed": false
   },
   "outputs": [],
   "source": [
    "lotto_product=dim_product[dim_product.product_family_code==1]\n",
    "#lotto_product.info()"
   ]
  },
  {
   "cell_type": "code",
   "execution_count": 41,
   "metadata": {
    "collapsed": false
   },
   "outputs": [
    {
     "data": {
      "text/plain": [
       "(3, 44)"
      ]
     },
     "execution_count": 41,
     "metadata": {},
     "output_type": "execute_result"
    }
   ],
   "source": [
    "lotto_product.shape"
   ]
  },
  {
   "cell_type": "code",
   "execution_count": 42,
   "metadata": {
    "collapsed": false,
    "scrolled": true
   },
   "outputs": [
    {
     "data": {
      "text/html": [
       "<div>\n",
       "<table border=\"1\" class=\"dataframe\">\n",
       "  <thead>\n",
       "    <tr style=\"text-align: right;\">\n",
       "      <th></th>\n",
       "      <th>dim_product_key</th>\n",
       "      <th>product_number</th>\n",
       "      <th>product_type_code</th>\n",
       "      <th>product_description</th>\n",
       "      <th>product_family_code</th>\n",
       "      <th>product_family_description</th>\n",
       "      <th>online_flag</th>\n",
       "      <th>instant_flag</th>\n",
       "      <th>product_type</th>\n",
       "      <th>product_reporting_seq</th>\n",
       "      <th>...</th>\n",
       "      <th>product_size_description</th>\n",
       "      <th>product_width</th>\n",
       "      <th>product_height</th>\n",
       "      <th>product_colour_description</th>\n",
       "      <th>product_area</th>\n",
       "      <th>product_category</th>\n",
       "      <th>product_category_sort</th>\n",
       "      <th>Unnamed: 41</th>\n",
       "      <th>Unnamed: 42</th>\n",
       "      <th>Unnamed: 43</th>\n",
       "    </tr>\n",
       "  </thead>\n",
       "  <tbody>\n",
       "    <tr>\n",
       "      <th>12</th>\n",
       "      <td>12</td>\n",
       "      <td>12</td>\n",
       "      <td>0</td>\n",
       "      <td>Strike</td>\n",
       "      <td>1.0</td>\n",
       "      <td>Lotto</td>\n",
       "      <td>Yes</td>\n",
       "      <td>No</td>\n",
       "      <td>Online</td>\n",
       "      <td>3.0</td>\n",
       "      <td>...</td>\n",
       "      <td>Not Used</td>\n",
       "      <td>0</td>\n",
       "      <td>0</td>\n",
       "      <td>Not Used</td>\n",
       "      <td>0</td>\n",
       "      <td>Large Jackpot Games</td>\n",
       "      <td>10</td>\n",
       "      <td>NaN</td>\n",
       "      <td>NaN</td>\n",
       "      <td>NaN</td>\n",
       "    </tr>\n",
       "    <tr>\n",
       "      <th>22</th>\n",
       "      <td>22</td>\n",
       "      <td>20</td>\n",
       "      <td>0</td>\n",
       "      <td>Lotto/Powerball</td>\n",
       "      <td>1.0</td>\n",
       "      <td>Lotto</td>\n",
       "      <td>Yes</td>\n",
       "      <td>No</td>\n",
       "      <td>Online</td>\n",
       "      <td>1.0</td>\n",
       "      <td>...</td>\n",
       "      <td>Not Used</td>\n",
       "      <td>0</td>\n",
       "      <td>0</td>\n",
       "      <td>Not Used</td>\n",
       "      <td>0</td>\n",
       "      <td>Large Jackpot Games</td>\n",
       "      <td>10</td>\n",
       "      <td>NaN</td>\n",
       "      <td>NaN</td>\n",
       "      <td>NaN</td>\n",
       "    </tr>\n",
       "    <tr>\n",
       "      <th>450</th>\n",
       "      <td>451</td>\n",
       "      <td>70</td>\n",
       "      <td>0</td>\n",
       "      <td>Powerball</td>\n",
       "      <td>1.0</td>\n",
       "      <td>Lotto</td>\n",
       "      <td>Yes</td>\n",
       "      <td>No</td>\n",
       "      <td>Online</td>\n",
       "      <td>2.0</td>\n",
       "      <td>...</td>\n",
       "      <td>Not Used</td>\n",
       "      <td>0</td>\n",
       "      <td>0</td>\n",
       "      <td>Not Used</td>\n",
       "      <td>0</td>\n",
       "      <td>Large Jackpot Games</td>\n",
       "      <td>10</td>\n",
       "      <td>NaN</td>\n",
       "      <td>NaN</td>\n",
       "      <td>NaN</td>\n",
       "    </tr>\n",
       "  </tbody>\n",
       "</table>\n",
       "<p>3 rows × 44 columns</p>\n",
       "</div>"
      ],
      "text/plain": [
       "     dim_product_key  product_number  product_type_code product_description  \\\n",
       "12                12              12                  0              Strike   \n",
       "22                22              20                  0     Lotto/Powerball   \n",
       "450              451              70                  0           Powerball   \n",
       "\n",
       "     product_family_code product_family_description online_flag instant_flag  \\\n",
       "12                   1.0                      Lotto         Yes           No   \n",
       "22                   1.0                      Lotto         Yes           No   \n",
       "450                  1.0                      Lotto         Yes           No   \n",
       "\n",
       "    product_type  product_reporting_seq     ...      product_size_description  \\\n",
       "12        Online                    3.0     ...                      Not Used   \n",
       "22        Online                    1.0     ...                      Not Used   \n",
       "450       Online                    2.0     ...                      Not Used   \n",
       "\n",
       "     product_width  product_height  product_colour_description  product_area  \\\n",
       "12               0               0                    Not Used             0   \n",
       "22               0               0                    Not Used             0   \n",
       "450              0               0                    Not Used             0   \n",
       "\n",
       "        product_category  product_category_sort  Unnamed: 41  Unnamed: 42  \\\n",
       "12   Large Jackpot Games                     10          NaN          NaN   \n",
       "22   Large Jackpot Games                     10          NaN          NaN   \n",
       "450  Large Jackpot Games                     10          NaN          NaN   \n",
       "\n",
       "     Unnamed: 43  \n",
       "12           NaN  \n",
       "22           NaN  \n",
       "450          NaN  \n",
       "\n",
       "[3 rows x 44 columns]"
      ]
     },
     "execution_count": 42,
     "metadata": {},
     "output_type": "execute_result"
    }
   ],
   "source": [
    "#product_number must be 12,20 and 70 in terms of thish project\n",
    "lotto_product"
   ]
  },
  {
   "cell_type": "code",
   "execution_count": 44,
   "metadata": {
    "collapsed": true
   },
   "outputs": [],
   "source": [
    "lotto_product.to_csv(\".\\\\lotto_product.csv\")"
   ]
  },
  {
   "cell_type": "code",
   "execution_count": 3,
   "metadata": {
    "collapsed": false,
    "scrolled": true
   },
   "outputs": [
    {
     "name": "stderr",
     "output_type": "stream",
     "text": [
      "d:\\Users\\Admin\\Anaconda3\\lib\\site-packages\\IPython\\core\\interactiveshell.py:2723: DtypeWarning: Columns (12) have mixed types. Specify dtype option on import or set low_memory=False.\n",
      "  interactivity=interactivity, compiler=compiler, result=result)\n"
     ]
    },
    {
     "data": {
      "text/html": [
       "<div>\n",
       "<table border=\"1\" class=\"dataframe\">\n",
       "  <thead>\n",
       "    <tr style=\"text-align: right;\">\n",
       "      <th></th>\n",
       "      <th>dimDrawKey</th>\n",
       "      <th>drawNumber</th>\n",
       "      <th>productNumber</th>\n",
       "      <th>drawProduct</th>\n",
       "      <th>drawDescription</th>\n",
       "      <th>drawDate</th>\n",
       "      <th>jackpot</th>\n",
       "      <th>jackpotCycle</th>\n",
       "      <th>supplementaryJackpot</th>\n",
       "      <th>promotion</th>\n",
       "      <th>...</th>\n",
       "      <th>familyjackpot</th>\n",
       "      <th>currentDraw</th>\n",
       "      <th>currentDrawDay</th>\n",
       "      <th>drawDatetime</th>\n",
       "      <th>currentDrawSameJackpot</th>\n",
       "      <th>JackpotAmount</th>\n",
       "      <th>PreviousDrawSameJackpot</th>\n",
       "      <th>CurrentDrawSameJackpotSameDay</th>\n",
       "      <th>PreviousDrawSameJackpotSameDay</th>\n",
       "      <th>PreviousDrawSameJackpotSameDayRank</th>\n",
       "    </tr>\n",
       "  </thead>\n",
       "  <tbody>\n",
       "    <tr>\n",
       "      <th>4</th>\n",
       "      <td>4</td>\n",
       "      <td>1</td>\n",
       "      <td>20</td>\n",
       "      <td>Lotto Powerball</td>\n",
       "      <td>1 - Lotto Powerball</td>\n",
       "      <td>19870801</td>\n",
       "      <td>Unknown</td>\n",
       "      <td>0</td>\n",
       "      <td>Unknown</td>\n",
       "      <td>Unknown</td>\n",
       "      <td>...</td>\n",
       "      <td>Unknown</td>\n",
       "      <td>No</td>\n",
       "      <td>No</td>\n",
       "      <td>1/08/1987 19:01</td>\n",
       "      <td>No</td>\n",
       "      <td>0</td>\n",
       "      <td>No</td>\n",
       "      <td>No</td>\n",
       "      <td>No</td>\n",
       "      <td>NaN</td>\n",
       "    </tr>\n",
       "    <tr>\n",
       "      <th>8</th>\n",
       "      <td>8</td>\n",
       "      <td>2</td>\n",
       "      <td>20</td>\n",
       "      <td>Lotto Powerball</td>\n",
       "      <td>2 - Lotto Powerball</td>\n",
       "      <td>19870808</td>\n",
       "      <td>Unknown</td>\n",
       "      <td>0</td>\n",
       "      <td>Unknown</td>\n",
       "      <td>Unknown</td>\n",
       "      <td>...</td>\n",
       "      <td>Unknown</td>\n",
       "      <td>No</td>\n",
       "      <td>No</td>\n",
       "      <td>8/08/1987 19:01</td>\n",
       "      <td>No</td>\n",
       "      <td>0</td>\n",
       "      <td>No</td>\n",
       "      <td>No</td>\n",
       "      <td>No</td>\n",
       "      <td>NaN</td>\n",
       "    </tr>\n",
       "    <tr>\n",
       "      <th>12</th>\n",
       "      <td>12</td>\n",
       "      <td>3</td>\n",
       "      <td>20</td>\n",
       "      <td>Lotto Powerball</td>\n",
       "      <td>3 - Lotto Powerball</td>\n",
       "      <td>19870815</td>\n",
       "      <td>Unknown</td>\n",
       "      <td>0</td>\n",
       "      <td>Unknown</td>\n",
       "      <td>Unknown</td>\n",
       "      <td>...</td>\n",
       "      <td>Unknown</td>\n",
       "      <td>No</td>\n",
       "      <td>No</td>\n",
       "      <td>15/08/1987 19:01</td>\n",
       "      <td>No</td>\n",
       "      <td>0</td>\n",
       "      <td>No</td>\n",
       "      <td>No</td>\n",
       "      <td>No</td>\n",
       "      <td>NaN</td>\n",
       "    </tr>\n",
       "    <tr>\n",
       "      <th>16</th>\n",
       "      <td>16</td>\n",
       "      <td>4</td>\n",
       "      <td>20</td>\n",
       "      <td>Lotto Powerball</td>\n",
       "      <td>4 - Lotto Powerball</td>\n",
       "      <td>19870822</td>\n",
       "      <td>Unknown</td>\n",
       "      <td>0</td>\n",
       "      <td>Unknown</td>\n",
       "      <td>Unknown</td>\n",
       "      <td>...</td>\n",
       "      <td>Unknown</td>\n",
       "      <td>No</td>\n",
       "      <td>No</td>\n",
       "      <td>22/08/1987 19:01</td>\n",
       "      <td>No</td>\n",
       "      <td>0</td>\n",
       "      <td>No</td>\n",
       "      <td>No</td>\n",
       "      <td>No</td>\n",
       "      <td>NaN</td>\n",
       "    </tr>\n",
       "    <tr>\n",
       "      <th>20</th>\n",
       "      <td>20</td>\n",
       "      <td>5</td>\n",
       "      <td>20</td>\n",
       "      <td>Lotto Powerball</td>\n",
       "      <td>5 - Lotto Powerball</td>\n",
       "      <td>19870829</td>\n",
       "      <td>Unknown</td>\n",
       "      <td>0</td>\n",
       "      <td>Unknown</td>\n",
       "      <td>Unknown</td>\n",
       "      <td>...</td>\n",
       "      <td>Unknown</td>\n",
       "      <td>No</td>\n",
       "      <td>No</td>\n",
       "      <td>29/08/1987 19:01</td>\n",
       "      <td>No</td>\n",
       "      <td>0</td>\n",
       "      <td>No</td>\n",
       "      <td>No</td>\n",
       "      <td>No</td>\n",
       "      <td>NaN</td>\n",
       "    </tr>\n",
       "  </tbody>\n",
       "</table>\n",
       "<p>5 rows × 42 columns</p>\n",
       "</div>"
      ],
      "text/plain": [
       "    dimDrawKey  drawNumber  productNumber      drawProduct  \\\n",
       "4            4           1             20  Lotto Powerball   \n",
       "8            8           2             20  Lotto Powerball   \n",
       "12          12           3             20  Lotto Powerball   \n",
       "16          16           4             20  Lotto Powerball   \n",
       "20          20           5             20  Lotto Powerball   \n",
       "\n",
       "        drawDescription  drawDate  jackpot  jackpotCycle supplementaryJackpot  \\\n",
       "4   1 - Lotto Powerball  19870801  Unknown             0              Unknown   \n",
       "8   2 - Lotto Powerball  19870808  Unknown             0              Unknown   \n",
       "12  3 - Lotto Powerball  19870815  Unknown             0              Unknown   \n",
       "16  4 - Lotto Powerball  19870822  Unknown             0              Unknown   \n",
       "20  5 - Lotto Powerball  19870829  Unknown             0              Unknown   \n",
       "\n",
       "   promotion                ...                  familyjackpot  currentDraw  \\\n",
       "4    Unknown                ...                        Unknown           No   \n",
       "8    Unknown                ...                        Unknown           No   \n",
       "12   Unknown                ...                        Unknown           No   \n",
       "16   Unknown                ...                        Unknown           No   \n",
       "20   Unknown                ...                        Unknown           No   \n",
       "\n",
       "   currentDrawDay      drawDatetime currentDrawSameJackpot JackpotAmount  \\\n",
       "4              No   1/08/1987 19:01                     No             0   \n",
       "8              No   8/08/1987 19:01                     No             0   \n",
       "12             No  15/08/1987 19:01                     No             0   \n",
       "16             No  22/08/1987 19:01                     No             0   \n",
       "20             No  29/08/1987 19:01                     No             0   \n",
       "\n",
       "   PreviousDrawSameJackpot  CurrentDrawSameJackpotSameDay  \\\n",
       "4                       No                             No   \n",
       "8                       No                             No   \n",
       "12                      No                             No   \n",
       "16                      No                             No   \n",
       "20                      No                             No   \n",
       "\n",
       "    PreviousDrawSameJackpotSameDay PreviousDrawSameJackpotSameDayRank  \n",
       "4                               No                                NaN  \n",
       "8                               No                                NaN  \n",
       "12                              No                                NaN  \n",
       "16                              No                                NaN  \n",
       "20                              No                                NaN  \n",
       "\n",
       "[5 rows x 42 columns]"
      ]
     },
     "execution_count": 3,
     "metadata": {},
     "output_type": "execute_result"
    }
   ],
   "source": [
    "dim_draw=pd.read_csv(\"dimDraw.csv\")\n",
    "lotto_draw=dim_draw[dim_draw.productNumber.isin([12,20,70])]\n",
    "lotto_draw.head()"
   ]
  },
  {
   "cell_type": "code",
   "execution_count": 35,
   "metadata": {
    "collapsed": false
   },
   "outputs": [
    {
     "data": {
      "text/plain": [
       "(4504, 42)"
      ]
     },
     "execution_count": 35,
     "metadata": {},
     "output_type": "execute_result"
    },
    {
     "name": "stdout",
     "output_type": "stream",
     "text": [
      "In [35] used 0.004 MiB RAM in 0.000s, peaked 0.000 MiB above current, total RAM usage 113.504 MiB\n"
     ]
    }
   ],
   "source": [
    "lotto_draw.shape"
   ]
  },
  {
   "cell_type": "code",
   "execution_count": 41,
   "metadata": {
    "collapsed": false
   },
   "outputs": [
    {
     "data": {
      "text/html": [
       "<div>\n",
       "<table border=\"1\" class=\"dataframe\">\n",
       "  <thead>\n",
       "    <tr style=\"text-align: right;\">\n",
       "      <th></th>\n",
       "      <th>dimDrawKey</th>\n",
       "      <th>drawNumber</th>\n",
       "      <th>productNumber</th>\n",
       "      <th>drawProduct</th>\n",
       "      <th>drawDescription</th>\n",
       "      <th>drawDate</th>\n",
       "      <th>jackpot</th>\n",
       "      <th>jackpotCycle</th>\n",
       "      <th>supplementaryJackpot</th>\n",
       "      <th>promotion</th>\n",
       "    </tr>\n",
       "  </thead>\n",
       "  <tbody>\n",
       "    <tr>\n",
       "      <th>4</th>\n",
       "      <td>4</td>\n",
       "      <td>1</td>\n",
       "      <td>20</td>\n",
       "      <td>Lotto Powerball</td>\n",
       "      <td>1 - Lotto Powerball</td>\n",
       "      <td>19870801</td>\n",
       "      <td>Unknown</td>\n",
       "      <td>0</td>\n",
       "      <td>Unknown</td>\n",
       "      <td>Unknown</td>\n",
       "    </tr>\n",
       "    <tr>\n",
       "      <th>8</th>\n",
       "      <td>8</td>\n",
       "      <td>2</td>\n",
       "      <td>20</td>\n",
       "      <td>Lotto Powerball</td>\n",
       "      <td>2 - Lotto Powerball</td>\n",
       "      <td>19870808</td>\n",
       "      <td>Unknown</td>\n",
       "      <td>0</td>\n",
       "      <td>Unknown</td>\n",
       "      <td>Unknown</td>\n",
       "    </tr>\n",
       "    <tr>\n",
       "      <th>12</th>\n",
       "      <td>12</td>\n",
       "      <td>3</td>\n",
       "      <td>20</td>\n",
       "      <td>Lotto Powerball</td>\n",
       "      <td>3 - Lotto Powerball</td>\n",
       "      <td>19870815</td>\n",
       "      <td>Unknown</td>\n",
       "      <td>0</td>\n",
       "      <td>Unknown</td>\n",
       "      <td>Unknown</td>\n",
       "    </tr>\n",
       "    <tr>\n",
       "      <th>16</th>\n",
       "      <td>16</td>\n",
       "      <td>4</td>\n",
       "      <td>20</td>\n",
       "      <td>Lotto Powerball</td>\n",
       "      <td>4 - Lotto Powerball</td>\n",
       "      <td>19870822</td>\n",
       "      <td>Unknown</td>\n",
       "      <td>0</td>\n",
       "      <td>Unknown</td>\n",
       "      <td>Unknown</td>\n",
       "    </tr>\n",
       "    <tr>\n",
       "      <th>20</th>\n",
       "      <td>20</td>\n",
       "      <td>5</td>\n",
       "      <td>20</td>\n",
       "      <td>Lotto Powerball</td>\n",
       "      <td>5 - Lotto Powerball</td>\n",
       "      <td>19870829</td>\n",
       "      <td>Unknown</td>\n",
       "      <td>0</td>\n",
       "      <td>Unknown</td>\n",
       "      <td>Unknown</td>\n",
       "    </tr>\n",
       "  </tbody>\n",
       "</table>\n",
       "</div>"
      ],
      "text/plain": [
       "    dimDrawKey  drawNumber  productNumber      drawProduct  \\\n",
       "4            4           1             20  Lotto Powerball   \n",
       "8            8           2             20  Lotto Powerball   \n",
       "12          12           3             20  Lotto Powerball   \n",
       "16          16           4             20  Lotto Powerball   \n",
       "20          20           5             20  Lotto Powerball   \n",
       "\n",
       "        drawDescription  drawDate  jackpot  jackpotCycle supplementaryJackpot  \\\n",
       "4   1 - Lotto Powerball  19870801  Unknown             0              Unknown   \n",
       "8   2 - Lotto Powerball  19870808  Unknown             0              Unknown   \n",
       "12  3 - Lotto Powerball  19870815  Unknown             0              Unknown   \n",
       "16  4 - Lotto Powerball  19870822  Unknown             0              Unknown   \n",
       "20  5 - Lotto Powerball  19870829  Unknown             0              Unknown   \n",
       "\n",
       "   promotion  \n",
       "4    Unknown  \n",
       "8    Unknown  \n",
       "12   Unknown  \n",
       "16   Unknown  \n",
       "20   Unknown  "
      ]
     },
     "execution_count": 41,
     "metadata": {},
     "output_type": "execute_result"
    },
    {
     "name": "stdout",
     "output_type": "stream",
     "text": [
      "In [41] used 0.293 MiB RAM in 0.016s, peaked 0.000 MiB above current, total RAM usage 114.309 MiB\n"
     ]
    }
   ],
   "source": [
    "lotto_draw.ix[:,0:10].head()"
   ]
  },
  {
   "cell_type": "code",
   "execution_count": 30,
   "metadata": {
    "collapsed": true
   },
   "outputs": [],
   "source": [
    "lotto_draw_01=lotto_draw.ix[:,['dimDrawKey','productNumber','jackpot','jackpotCycle','supplementaryJackpot','promotion']]"
   ]
  },
  {
   "cell_type": "code",
   "execution_count": 31,
   "metadata": {
    "collapsed": false
   },
   "outputs": [
    {
     "data": {
      "text/plain": [
       "(4504, 6)"
      ]
     },
     "execution_count": 31,
     "metadata": {},
     "output_type": "execute_result"
    }
   ],
   "source": [
    "lotto_draw_01.shape"
   ]
  },
  {
   "cell_type": "code",
   "execution_count": 19,
   "metadata": {
    "collapsed": false
   },
   "outputs": [
    {
     "data": {
      "text/html": [
       "<div>\n",
       "<table border=\"1\" class=\"dataframe\">\n",
       "  <thead>\n",
       "    <tr style=\"text-align: right;\">\n",
       "      <th></th>\n",
       "      <th>dimDrawKey</th>\n",
       "      <th>productNumber</th>\n",
       "      <th>drawDate</th>\n",
       "      <th>jackpot</th>\n",
       "      <th>jackpotCycle</th>\n",
       "      <th>supplementaryJackpot</th>\n",
       "      <th>promotion</th>\n",
       "    </tr>\n",
       "  </thead>\n",
       "  <tbody>\n",
       "    <tr>\n",
       "      <th>4209</th>\n",
       "      <td>4209</td>\n",
       "      <td>20</td>\n",
       "      <td>20060520</td>\n",
       "      <td>$17.5m</td>\n",
       "      <td>1</td>\n",
       "      <td>$1.0m</td>\n",
       "      <td>No Promotion</td>\n",
       "    </tr>\n",
       "    <tr>\n",
       "      <th>4210</th>\n",
       "      <td>4210</td>\n",
       "      <td>12</td>\n",
       "      <td>20060520</td>\n",
       "      <td>$500k</td>\n",
       "      <td>1</td>\n",
       "      <td>No Jackpot</td>\n",
       "      <td>No Promotion</td>\n",
       "    </tr>\n",
       "    <tr>\n",
       "      <th>4213</th>\n",
       "      <td>4213</td>\n",
       "      <td>20</td>\n",
       "      <td>20060527</td>\n",
       "      <td>$1.0m</td>\n",
       "      <td>1</td>\n",
       "      <td>$1.0m</td>\n",
       "      <td>No Promotion</td>\n",
       "    </tr>\n",
       "    <tr>\n",
       "      <th>4214</th>\n",
       "      <td>4214</td>\n",
       "      <td>12</td>\n",
       "      <td>20060527</td>\n",
       "      <td>$700k</td>\n",
       "      <td>2</td>\n",
       "      <td>No Jackpot</td>\n",
       "      <td>No Promotion</td>\n",
       "    </tr>\n",
       "    <tr>\n",
       "      <th>4217</th>\n",
       "      <td>4217</td>\n",
       "      <td>20</td>\n",
       "      <td>20060603</td>\n",
       "      <td>$1.5m</td>\n",
       "      <td>2</td>\n",
       "      <td>$1.0m</td>\n",
       "      <td>No Promotion</td>\n",
       "    </tr>\n",
       "  </tbody>\n",
       "</table>\n",
       "</div>"
      ],
      "text/plain": [
       "      dimDrawKey  productNumber  drawDate jackpot  jackpotCycle  \\\n",
       "4209        4209             20  20060520  $17.5m             1   \n",
       "4210        4210             12  20060520   $500k             1   \n",
       "4213        4213             20  20060527   $1.0m             1   \n",
       "4214        4214             12  20060527   $700k             2   \n",
       "4217        4217             20  20060603   $1.5m             2   \n",
       "\n",
       "     supplementaryJackpot     promotion  \n",
       "4209                $1.0m  No Promotion  \n",
       "4210           No Jackpot  No Promotion  \n",
       "4213                $1.0m  No Promotion  \n",
       "4214           No Jackpot  No Promotion  \n",
       "4217                $1.0m  No Promotion  "
      ]
     },
     "execution_count": 19,
     "metadata": {},
     "output_type": "execute_result"
    }
   ],
   "source": [
    "lotto_draw_01[lotto_draw_01.jackpotCycle!=0].head()"
   ]
  },
  {
   "cell_type": "code",
   "execution_count": 42,
   "metadata": {
    "collapsed": false
   },
   "outputs": [
    {
     "data": {
      "text/html": [
       "<div>\n",
       "<table border=\"1\" class=\"dataframe\">\n",
       "  <thead>\n",
       "    <tr style=\"text-align: right;\">\n",
       "      <th></th>\n",
       "      <th>updateAuditKey</th>\n",
       "      <th>etlSource</th>\n",
       "      <th>dss_update_time</th>\n",
       "      <th>drawTime</th>\n",
       "      <th>drawTimeDescription</th>\n",
       "      <th>drawdayweek</th>\n",
       "      <th>drawdaysort</th>\n",
       "      <th>jackpotRun</th>\n",
       "      <th>JackpotRunDescription</th>\n",
       "    </tr>\n",
       "  </thead>\n",
       "  <tbody>\n",
       "    <tr>\n",
       "      <th>4</th>\n",
       "      <td>NaN</td>\n",
       "      <td>stg_ia_winner_online_historical</td>\n",
       "      <td>46:34.9</td>\n",
       "      <td>19:01:00</td>\n",
       "      <td>7:00 p.m.</td>\n",
       "      <td>Saturday</td>\n",
       "      <td>7</td>\n",
       "      <td>0</td>\n",
       "      <td>0 Jackpot Run</td>\n",
       "    </tr>\n",
       "    <tr>\n",
       "      <th>8</th>\n",
       "      <td>NaN</td>\n",
       "      <td>stg_ia_winner_online_historical</td>\n",
       "      <td>46:34.9</td>\n",
       "      <td>19:01:00</td>\n",
       "      <td>7:00 p.m.</td>\n",
       "      <td>Saturday</td>\n",
       "      <td>7</td>\n",
       "      <td>0</td>\n",
       "      <td>0 Jackpot Run</td>\n",
       "    </tr>\n",
       "    <tr>\n",
       "      <th>12</th>\n",
       "      <td>NaN</td>\n",
       "      <td>stg_ia_winner_online_historical</td>\n",
       "      <td>46:34.9</td>\n",
       "      <td>19:01:00</td>\n",
       "      <td>7:00 p.m.</td>\n",
       "      <td>Saturday</td>\n",
       "      <td>7</td>\n",
       "      <td>0</td>\n",
       "      <td>0 Jackpot Run</td>\n",
       "    </tr>\n",
       "    <tr>\n",
       "      <th>16</th>\n",
       "      <td>NaN</td>\n",
       "      <td>stg_ia_winner_online_historical</td>\n",
       "      <td>46:34.9</td>\n",
       "      <td>19:01:00</td>\n",
       "      <td>7:00 p.m.</td>\n",
       "      <td>Saturday</td>\n",
       "      <td>7</td>\n",
       "      <td>0</td>\n",
       "      <td>0 Jackpot Run</td>\n",
       "    </tr>\n",
       "    <tr>\n",
       "      <th>20</th>\n",
       "      <td>NaN</td>\n",
       "      <td>stg_ia_winner_online_historical</td>\n",
       "      <td>46:34.9</td>\n",
       "      <td>19:01:00</td>\n",
       "      <td>7:00 p.m.</td>\n",
       "      <td>Saturday</td>\n",
       "      <td>7</td>\n",
       "      <td>0</td>\n",
       "      <td>0 Jackpot Run</td>\n",
       "    </tr>\n",
       "  </tbody>\n",
       "</table>\n",
       "</div>"
      ],
      "text/plain": [
       "    updateAuditKey                        etlSource dss_update_time  drawTime  \\\n",
       "4              NaN  stg_ia_winner_online_historical         46:34.9  19:01:00   \n",
       "8              NaN  stg_ia_winner_online_historical         46:34.9  19:01:00   \n",
       "12             NaN  stg_ia_winner_online_historical         46:34.9  19:01:00   \n",
       "16             NaN  stg_ia_winner_online_historical         46:34.9  19:01:00   \n",
       "20             NaN  stg_ia_winner_online_historical         46:34.9  19:01:00   \n",
       "\n",
       "   drawTimeDescription drawdayweek  drawdaysort  jackpotRun  \\\n",
       "4            7:00 p.m.    Saturday            7           0   \n",
       "8            7:00 p.m.    Saturday            7           0   \n",
       "12           7:00 p.m.    Saturday            7           0   \n",
       "16           7:00 p.m.    Saturday            7           0   \n",
       "20           7:00 p.m.    Saturday            7           0   \n",
       "\n",
       "   JackpotRunDescription  \n",
       "4          0 Jackpot Run  \n",
       "8          0 Jackpot Run  \n",
       "12         0 Jackpot Run  \n",
       "16         0 Jackpot Run  \n",
       "20         0 Jackpot Run  "
      ]
     },
     "execution_count": 42,
     "metadata": {},
     "output_type": "execute_result"
    },
    {
     "name": "stdout",
     "output_type": "stream",
     "text": [
      "In [42] used 0.281 MiB RAM in 0.016s, peaked 0.000 MiB above current, total RAM usage 114.590 MiB\n"
     ]
    }
   ],
   "source": [
    "lotto_draw.ix[:,11:20].head()"
   ]
  },
  {
   "cell_type": "code",
   "execution_count": 20,
   "metadata": {
    "collapsed": false
   },
   "outputs": [
    {
     "data": {
      "text/html": [
       "<div>\n",
       "<table border=\"1\" class=\"dataframe\">\n",
       "  <thead>\n",
       "    <tr style=\"text-align: right;\">\n",
       "      <th></th>\n",
       "      <th>dimDrawKey</th>\n",
       "      <th>drawNumber</th>\n",
       "      <th>productNumber</th>\n",
       "      <th>drawProduct</th>\n",
       "      <th>drawDescription</th>\n",
       "      <th>drawDate</th>\n",
       "      <th>jackpot</th>\n",
       "      <th>jackpotCycle</th>\n",
       "      <th>supplementaryJackpot</th>\n",
       "      <th>promotion</th>\n",
       "      <th>...</th>\n",
       "      <th>familyjackpot</th>\n",
       "      <th>currentDraw</th>\n",
       "      <th>currentDrawDay</th>\n",
       "      <th>drawDatetime</th>\n",
       "      <th>currentDrawSameJackpot</th>\n",
       "      <th>JackpotAmount</th>\n",
       "      <th>PreviousDrawSameJackpot</th>\n",
       "      <th>CurrentDrawSameJackpotSameDay</th>\n",
       "      <th>PreviousDrawSameJackpotSameDay</th>\n",
       "      <th>PreviousDrawSameJackpotSameDayRank</th>\n",
       "    </tr>\n",
       "  </thead>\n",
       "  <tbody>\n",
       "  </tbody>\n",
       "</table>\n",
       "<p>0 rows × 42 columns</p>\n",
       "</div>"
      ],
      "text/plain": [
       "Empty DataFrame\n",
       "Columns: [dimDrawKey, drawNumber, productNumber, drawProduct, drawDescription, drawDate, jackpot, jackpotCycle, supplementaryJackpot, promotion, insertAuditKey, updateAuditKey, etlSource, dss_update_time, drawTime, drawTimeDescription, drawdayweek, drawdaysort, jackpotRun, JackpotRunDescription, lotto_jackpot_id, lotto_jackpot_amount, pball_jackpot_id, pball_jackpot_amount, strike_jackpot_id, strike_jackpot_amount, bullseye_jackpot_id, bullseye_jackpot_amount, pbjackpot_1m, pbjackpot_1m_desc, pbjackpot_5m, pbjackpot_5m_desc, familyjackpot, currentDraw, currentDrawDay, drawDatetime, currentDrawSameJackpot, JackpotAmount, PreviousDrawSameJackpot, CurrentDrawSameJackpotSameDay, PreviousDrawSameJackpotSameDay, PreviousDrawSameJackpotSameDayRank]\n",
       "Index: []\n",
       "\n",
       "[0 rows x 42 columns]"
      ]
     },
     "execution_count": 20,
     "metadata": {},
     "output_type": "execute_result"
    }
   ],
   "source": [
    "lotto_draw[(lotto_draw.updateAuditKey.notnull()) & (lotto_draw.updateAuditKey!=0.0)].head()"
   ]
  },
  {
   "cell_type": "code",
   "execution_count": 21,
   "metadata": {
    "collapsed": true
   },
   "outputs": [],
   "source": [
    "lotto_draw_02=lotto_draw.ix[:,['drawdayweek']]"
   ]
  },
  {
   "cell_type": "code",
   "execution_count": 23,
   "metadata": {
    "collapsed": false
   },
   "outputs": [
    {
     "data": {
      "text/plain": [
       "(4504, 1)"
      ]
     },
     "execution_count": 23,
     "metadata": {},
     "output_type": "execute_result"
    }
   ],
   "source": [
    "lotto_draw_02.shape"
   ]
  },
  {
   "cell_type": "code",
   "execution_count": 43,
   "metadata": {
    "collapsed": false
   },
   "outputs": [
    {
     "data": {
      "text/html": [
       "<div>\n",
       "<table border=\"1\" class=\"dataframe\">\n",
       "  <thead>\n",
       "    <tr style=\"text-align: right;\">\n",
       "      <th></th>\n",
       "      <th>lotto_jackpot_amount</th>\n",
       "      <th>pball_jackpot_id</th>\n",
       "      <th>pball_jackpot_amount</th>\n",
       "      <th>strike_jackpot_id</th>\n",
       "      <th>strike_jackpot_amount</th>\n",
       "      <th>bullseye_jackpot_id</th>\n",
       "      <th>bullseye_jackpot_amount</th>\n",
       "      <th>pbjackpot_1m</th>\n",
       "      <th>pbjackpot_1m_desc</th>\n",
       "    </tr>\n",
       "  </thead>\n",
       "  <tbody>\n",
       "    <tr>\n",
       "      <th>4</th>\n",
       "      <td>Unknown</td>\n",
       "      <td>999999</td>\n",
       "      <td>Unknown</td>\n",
       "      <td>999999</td>\n",
       "      <td>Unknown</td>\n",
       "      <td>999999</td>\n",
       "      <td>Unknown</td>\n",
       "      <td>1000</td>\n",
       "      <td>Unknown</td>\n",
       "    </tr>\n",
       "    <tr>\n",
       "      <th>8</th>\n",
       "      <td>Unknown</td>\n",
       "      <td>999999</td>\n",
       "      <td>Unknown</td>\n",
       "      <td>999999</td>\n",
       "      <td>Unknown</td>\n",
       "      <td>999999</td>\n",
       "      <td>Unknown</td>\n",
       "      <td>1000</td>\n",
       "      <td>Unknown</td>\n",
       "    </tr>\n",
       "    <tr>\n",
       "      <th>12</th>\n",
       "      <td>Unknown</td>\n",
       "      <td>999999</td>\n",
       "      <td>Unknown</td>\n",
       "      <td>999999</td>\n",
       "      <td>Unknown</td>\n",
       "      <td>999999</td>\n",
       "      <td>Unknown</td>\n",
       "      <td>1000</td>\n",
       "      <td>Unknown</td>\n",
       "    </tr>\n",
       "    <tr>\n",
       "      <th>16</th>\n",
       "      <td>Unknown</td>\n",
       "      <td>999999</td>\n",
       "      <td>Unknown</td>\n",
       "      <td>999999</td>\n",
       "      <td>Unknown</td>\n",
       "      <td>999999</td>\n",
       "      <td>Unknown</td>\n",
       "      <td>1000</td>\n",
       "      <td>Unknown</td>\n",
       "    </tr>\n",
       "    <tr>\n",
       "      <th>20</th>\n",
       "      <td>Unknown</td>\n",
       "      <td>999999</td>\n",
       "      <td>Unknown</td>\n",
       "      <td>999999</td>\n",
       "      <td>Unknown</td>\n",
       "      <td>999999</td>\n",
       "      <td>Unknown</td>\n",
       "      <td>1000</td>\n",
       "      <td>Unknown</td>\n",
       "    </tr>\n",
       "  </tbody>\n",
       "</table>\n",
       "</div>"
      ],
      "text/plain": [
       "   lotto_jackpot_amount  pball_jackpot_id pball_jackpot_amount  \\\n",
       "4               Unknown            999999              Unknown   \n",
       "8               Unknown            999999              Unknown   \n",
       "12              Unknown            999999              Unknown   \n",
       "16              Unknown            999999              Unknown   \n",
       "20              Unknown            999999              Unknown   \n",
       "\n",
       "    strike_jackpot_id strike_jackpot_amount  bullseye_jackpot_id  \\\n",
       "4              999999               Unknown               999999   \n",
       "8              999999               Unknown               999999   \n",
       "12             999999               Unknown               999999   \n",
       "16             999999               Unknown               999999   \n",
       "20             999999               Unknown               999999   \n",
       "\n",
       "   bullseye_jackpot_amount  pbjackpot_1m pbjackpot_1m_desc  \n",
       "4                  Unknown          1000           Unknown  \n",
       "8                  Unknown          1000           Unknown  \n",
       "12                 Unknown          1000           Unknown  \n",
       "16                 Unknown          1000           Unknown  \n",
       "20                 Unknown          1000           Unknown  "
      ]
     },
     "execution_count": 43,
     "metadata": {},
     "output_type": "execute_result"
    },
    {
     "name": "stdout",
     "output_type": "stream",
     "text": [
      "In [43] used 0.309 MiB RAM in 0.016s, peaked 0.000 MiB above current, total RAM usage 114.898 MiB\n"
     ]
    }
   ],
   "source": [
    "lotto_draw.ix[:,21:30].head()"
   ]
  },
  {
   "cell_type": "code",
   "execution_count": 24,
   "metadata": {
    "collapsed": true
   },
   "outputs": [],
   "source": [
    "lotto_draw_03=lotto_draw.ix[:,['lotto_jackpot_amount','pball_jackpot_id','pball_jackpot_amount','strike_jackpot_id','strike_jackpot_amount','pbjackpot_1m']]"
   ]
  },
  {
   "cell_type": "code",
   "execution_count": 25,
   "metadata": {
    "collapsed": false
   },
   "outputs": [
    {
     "data": {
      "text/plain": [
       "(4504, 6)"
      ]
     },
     "execution_count": 25,
     "metadata": {},
     "output_type": "execute_result"
    }
   ],
   "source": [
    "lotto_draw_03.shape"
   ]
  },
  {
   "cell_type": "code",
   "execution_count": 8,
   "metadata": {
    "collapsed": false
   },
   "outputs": [
    {
     "data": {
      "text/html": [
       "<div>\n",
       "<table border=\"1\" class=\"dataframe\">\n",
       "  <thead>\n",
       "    <tr style=\"text-align: right;\">\n",
       "      <th></th>\n",
       "      <th>lotto_jackpot_amount</th>\n",
       "      <th>pball_jackpot_id</th>\n",
       "      <th>pball_jackpot_amount</th>\n",
       "      <th>strike_jackpot_id</th>\n",
       "      <th>strike_jackpot_amount</th>\n",
       "      <th>bullseye_jackpot_id</th>\n",
       "      <th>bullseye_jackpot_amount</th>\n",
       "      <th>pbjackpot_1m</th>\n",
       "      <th>pbjackpot_1m_desc</th>\n",
       "    </tr>\n",
       "  </thead>\n",
       "  <tbody>\n",
       "    <tr>\n",
       "      <th>4209</th>\n",
       "      <td>$1.0m</td>\n",
       "      <td>17500</td>\n",
       "      <td>$17.5m</td>\n",
       "      <td>500</td>\n",
       "      <td>$500k</td>\n",
       "      <td>999999</td>\n",
       "      <td>Unknown</td>\n",
       "      <td>16</td>\n",
       "      <td>16 - 17m</td>\n",
       "    </tr>\n",
       "    <tr>\n",
       "      <th>4210</th>\n",
       "      <td>$1.0m</td>\n",
       "      <td>17500</td>\n",
       "      <td>$17.5m</td>\n",
       "      <td>500</td>\n",
       "      <td>$500k</td>\n",
       "      <td>999999</td>\n",
       "      <td>Unknown</td>\n",
       "      <td>16</td>\n",
       "      <td>16 - 17m</td>\n",
       "    </tr>\n",
       "    <tr>\n",
       "      <th>4213</th>\n",
       "      <td>$1.0m</td>\n",
       "      <td>1000</td>\n",
       "      <td>$1.0m</td>\n",
       "      <td>700</td>\n",
       "      <td>$700k</td>\n",
       "      <td>999999</td>\n",
       "      <td>Unknown</td>\n",
       "      <td>0</td>\n",
       "      <td>0 - 1m</td>\n",
       "    </tr>\n",
       "    <tr>\n",
       "      <th>4214</th>\n",
       "      <td>$1.0m</td>\n",
       "      <td>1000</td>\n",
       "      <td>$1.0m</td>\n",
       "      <td>700</td>\n",
       "      <td>$700k</td>\n",
       "      <td>999999</td>\n",
       "      <td>Unknown</td>\n",
       "      <td>0</td>\n",
       "      <td>0 - 1m</td>\n",
       "    </tr>\n",
       "    <tr>\n",
       "      <th>4217</th>\n",
       "      <td>$1.0m</td>\n",
       "      <td>1500</td>\n",
       "      <td>$1.5m</td>\n",
       "      <td>800</td>\n",
       "      <td>$800k</td>\n",
       "      <td>999999</td>\n",
       "      <td>Unknown</td>\n",
       "      <td>0</td>\n",
       "      <td>0 - 1m</td>\n",
       "    </tr>\n",
       "  </tbody>\n",
       "</table>\n",
       "</div>"
      ],
      "text/plain": [
       "     lotto_jackpot_amount  pball_jackpot_id pball_jackpot_amount  \\\n",
       "4209                $1.0m             17500               $17.5m   \n",
       "4210                $1.0m             17500               $17.5m   \n",
       "4213                $1.0m              1000                $1.0m   \n",
       "4214                $1.0m              1000                $1.0m   \n",
       "4217                $1.0m              1500                $1.5m   \n",
       "\n",
       "      strike_jackpot_id strike_jackpot_amount  bullseye_jackpot_id  \\\n",
       "4209                500                 $500k               999999   \n",
       "4210                500                 $500k               999999   \n",
       "4213                700                 $700k               999999   \n",
       "4214                700                 $700k               999999   \n",
       "4217                800                 $800k               999999   \n",
       "\n",
       "     bullseye_jackpot_amount  pbjackpot_1m pbjackpot_1m_desc  \n",
       "4209                 Unknown            16          16 - 17m  \n",
       "4210                 Unknown            16          16 - 17m  \n",
       "4213                 Unknown             0            0 - 1m  \n",
       "4214                 Unknown             0            0 - 1m  \n",
       "4217                 Unknown             0            0 - 1m  "
      ]
     },
     "execution_count": 8,
     "metadata": {},
     "output_type": "execute_result"
    }
   ],
   "source": [
    "lotto_draw.ix[:,21:30][lotto_draw.lotto_jackpot_amount!='Unknown' ].head()"
   ]
  },
  {
   "cell_type": "code",
   "execution_count": 13,
   "metadata": {
    "collapsed": false
   },
   "outputs": [
    {
     "data": {
      "text/html": [
       "<div>\n",
       "<table border=\"1\" class=\"dataframe\">\n",
       "  <thead>\n",
       "    <tr style=\"text-align: right;\">\n",
       "      <th></th>\n",
       "      <th>lotto_jackpot_amount</th>\n",
       "      <th>pball_jackpot_id</th>\n",
       "      <th>pball_jackpot_amount</th>\n",
       "      <th>strike_jackpot_id</th>\n",
       "      <th>strike_jackpot_amount</th>\n",
       "      <th>bullseye_jackpot_id</th>\n",
       "      <th>bullseye_jackpot_amount</th>\n",
       "      <th>pbjackpot_1m</th>\n",
       "      <th>pbjackpot_1m_desc</th>\n",
       "    </tr>\n",
       "  </thead>\n",
       "  <tbody>\n",
       "    <tr>\n",
       "      <th>4925</th>\n",
       "      <td>$1.0m</td>\n",
       "      <td>5000</td>\n",
       "      <td>$5.0m</td>\n",
       "      <td>400</td>\n",
       "      <td>$400k</td>\n",
       "      <td>105</td>\n",
       "      <td>$105k</td>\n",
       "      <td>4</td>\n",
       "      <td>4 - 5m</td>\n",
       "    </tr>\n",
       "    <tr>\n",
       "      <th>4926</th>\n",
       "      <td>$1.0m</td>\n",
       "      <td>5000</td>\n",
       "      <td>$5.0m</td>\n",
       "      <td>400</td>\n",
       "      <td>$400k</td>\n",
       "      <td>105</td>\n",
       "      <td>$105k</td>\n",
       "      <td>4</td>\n",
       "      <td>4 - 5m</td>\n",
       "    </tr>\n",
       "    <tr>\n",
       "      <th>4929</th>\n",
       "      <td>$1.0m</td>\n",
       "      <td>3000</td>\n",
       "      <td>$3.0m</td>\n",
       "      <td>100</td>\n",
       "      <td>$100k</td>\n",
       "      <td>140</td>\n",
       "      <td>$140k</td>\n",
       "      <td>2</td>\n",
       "      <td>2 - 3m</td>\n",
       "    </tr>\n",
       "    <tr>\n",
       "      <th>4930</th>\n",
       "      <td>$1.0m</td>\n",
       "      <td>3000</td>\n",
       "      <td>$3.0m</td>\n",
       "      <td>100</td>\n",
       "      <td>$100k</td>\n",
       "      <td>140</td>\n",
       "      <td>$140k</td>\n",
       "      <td>2</td>\n",
       "      <td>2 - 3m</td>\n",
       "    </tr>\n",
       "    <tr>\n",
       "      <th>4933</th>\n",
       "      <td>$1.0m</td>\n",
       "      <td>4000</td>\n",
       "      <td>$4.0m</td>\n",
       "      <td>200</td>\n",
       "      <td>$200k</td>\n",
       "      <td>175</td>\n",
       "      <td>$175k</td>\n",
       "      <td>3</td>\n",
       "      <td>3 - 4m</td>\n",
       "    </tr>\n",
       "  </tbody>\n",
       "</table>\n",
       "</div>"
      ],
      "text/plain": [
       "     lotto_jackpot_amount  pball_jackpot_id pball_jackpot_amount  \\\n",
       "4925                $1.0m              5000                $5.0m   \n",
       "4926                $1.0m              5000                $5.0m   \n",
       "4929                $1.0m              3000                $3.0m   \n",
       "4930                $1.0m              3000                $3.0m   \n",
       "4933                $1.0m              4000                $4.0m   \n",
       "\n",
       "      strike_jackpot_id strike_jackpot_amount  bullseye_jackpot_id  \\\n",
       "4925                400                 $400k                  105   \n",
       "4926                400                 $400k                  105   \n",
       "4929                100                 $100k                  140   \n",
       "4930                100                 $100k                  140   \n",
       "4933                200                 $200k                  175   \n",
       "\n",
       "     bullseye_jackpot_amount  pbjackpot_1m pbjackpot_1m_desc  \n",
       "4925                   $105k             4            4 - 5m  \n",
       "4926                   $105k             4            4 - 5m  \n",
       "4929                   $140k             2            2 - 3m  \n",
       "4930                   $140k             2            2 - 3m  \n",
       "4933                   $175k             3            3 - 4m  "
      ]
     },
     "execution_count": 13,
     "metadata": {},
     "output_type": "execute_result"
    }
   ],
   "source": [
    "lotto_draw.ix[:,21:30][lotto_draw.bullseye_jackpot_amount!='Unknown' ].head()"
   ]
  },
  {
   "cell_type": "code",
   "execution_count": 4,
   "metadata": {
    "collapsed": false
   },
   "outputs": [
    {
     "data": {
      "text/html": [
       "<div>\n",
       "<table border=\"1\" class=\"dataframe\">\n",
       "  <thead>\n",
       "    <tr style=\"text-align: right;\">\n",
       "      <th></th>\n",
       "      <th>pbjackpot_5m_desc</th>\n",
       "      <th>familyjackpot</th>\n",
       "      <th>currentDraw</th>\n",
       "      <th>currentDrawDay</th>\n",
       "      <th>drawDatetime</th>\n",
       "      <th>currentDrawSameJackpot</th>\n",
       "      <th>JackpotAmount</th>\n",
       "      <th>PreviousDrawSameJackpot</th>\n",
       "      <th>CurrentDrawSameJackpotSameDay</th>\n",
       "      <th>PreviousDrawSameJackpotSameDay</th>\n",
       "      <th>PreviousDrawSameJackpotSameDayRank</th>\n",
       "    </tr>\n",
       "  </thead>\n",
       "  <tbody>\n",
       "    <tr>\n",
       "      <th>4</th>\n",
       "      <td>Unknown</td>\n",
       "      <td>Unknown</td>\n",
       "      <td>No</td>\n",
       "      <td>No</td>\n",
       "      <td>1/08/1987 19:01</td>\n",
       "      <td>No</td>\n",
       "      <td>0</td>\n",
       "      <td>No</td>\n",
       "      <td>No</td>\n",
       "      <td>No</td>\n",
       "      <td>NaN</td>\n",
       "    </tr>\n",
       "    <tr>\n",
       "      <th>8</th>\n",
       "      <td>Unknown</td>\n",
       "      <td>Unknown</td>\n",
       "      <td>No</td>\n",
       "      <td>No</td>\n",
       "      <td>8/08/1987 19:01</td>\n",
       "      <td>No</td>\n",
       "      <td>0</td>\n",
       "      <td>No</td>\n",
       "      <td>No</td>\n",
       "      <td>No</td>\n",
       "      <td>NaN</td>\n",
       "    </tr>\n",
       "    <tr>\n",
       "      <th>12</th>\n",
       "      <td>Unknown</td>\n",
       "      <td>Unknown</td>\n",
       "      <td>No</td>\n",
       "      <td>No</td>\n",
       "      <td>15/08/1987 19:01</td>\n",
       "      <td>No</td>\n",
       "      <td>0</td>\n",
       "      <td>No</td>\n",
       "      <td>No</td>\n",
       "      <td>No</td>\n",
       "      <td>NaN</td>\n",
       "    </tr>\n",
       "    <tr>\n",
       "      <th>16</th>\n",
       "      <td>Unknown</td>\n",
       "      <td>Unknown</td>\n",
       "      <td>No</td>\n",
       "      <td>No</td>\n",
       "      <td>22/08/1987 19:01</td>\n",
       "      <td>No</td>\n",
       "      <td>0</td>\n",
       "      <td>No</td>\n",
       "      <td>No</td>\n",
       "      <td>No</td>\n",
       "      <td>NaN</td>\n",
       "    </tr>\n",
       "    <tr>\n",
       "      <th>20</th>\n",
       "      <td>Unknown</td>\n",
       "      <td>Unknown</td>\n",
       "      <td>No</td>\n",
       "      <td>No</td>\n",
       "      <td>29/08/1987 19:01</td>\n",
       "      <td>No</td>\n",
       "      <td>0</td>\n",
       "      <td>No</td>\n",
       "      <td>No</td>\n",
       "      <td>No</td>\n",
       "      <td>NaN</td>\n",
       "    </tr>\n",
       "  </tbody>\n",
       "</table>\n",
       "</div>"
      ],
      "text/plain": [
       "   pbjackpot_5m_desc familyjackpot currentDraw currentDrawDay  \\\n",
       "4            Unknown       Unknown          No             No   \n",
       "8            Unknown       Unknown          No             No   \n",
       "12           Unknown       Unknown          No             No   \n",
       "16           Unknown       Unknown          No             No   \n",
       "20           Unknown       Unknown          No             No   \n",
       "\n",
       "        drawDatetime currentDrawSameJackpot  JackpotAmount  \\\n",
       "4    1/08/1987 19:01                     No              0   \n",
       "8    8/08/1987 19:01                     No              0   \n",
       "12  15/08/1987 19:01                     No              0   \n",
       "16  22/08/1987 19:01                     No              0   \n",
       "20  29/08/1987 19:01                     No              0   \n",
       "\n",
       "   PreviousDrawSameJackpot CurrentDrawSameJackpotSameDay  \\\n",
       "4                       No                            No   \n",
       "8                       No                            No   \n",
       "12                      No                            No   \n",
       "16                      No                            No   \n",
       "20                      No                            No   \n",
       "\n",
       "   PreviousDrawSameJackpotSameDay  PreviousDrawSameJackpotSameDayRank  \n",
       "4                              No                                 NaN  \n",
       "8                              No                                 NaN  \n",
       "12                             No                                 NaN  \n",
       "16                             No                                 NaN  \n",
       "20                             No                                 NaN  "
      ]
     },
     "execution_count": 4,
     "metadata": {},
     "output_type": "execute_result"
    }
   ],
   "source": [
    "lotto_draw.ix[:,31:42].head()"
   ]
  },
  {
   "cell_type": "code",
   "execution_count": 29,
   "metadata": {
    "collapsed": true
   },
   "outputs": [],
   "source": [
    "lotto_draw_04=lotto_draw.ix[:,['drawDatetime']]"
   ]
  },
  {
   "cell_type": "code",
   "execution_count": 16,
   "metadata": {
    "collapsed": false
   },
   "outputs": [
    {
     "data": {
      "text/html": [
       "<div>\n",
       "<table border=\"1\" class=\"dataframe\">\n",
       "  <thead>\n",
       "    <tr style=\"text-align: right;\">\n",
       "      <th></th>\n",
       "      <th>pbjackpot_5m_desc</th>\n",
       "      <th>familyjackpot</th>\n",
       "      <th>currentDraw</th>\n",
       "      <th>currentDrawDay</th>\n",
       "      <th>drawDatetime</th>\n",
       "      <th>currentDrawSameJackpot</th>\n",
       "      <th>JackpotAmount</th>\n",
       "      <th>PreviousDrawSameJackpot</th>\n",
       "      <th>CurrentDrawSameJackpotSameDay</th>\n",
       "      <th>PreviousDrawSameJackpotSameDay</th>\n",
       "      <th>PreviousDrawSameJackpotSameDayRank</th>\n",
       "    </tr>\n",
       "  </thead>\n",
       "  <tbody>\n",
       "    <tr>\n",
       "      <th>15085</th>\n",
       "      <td>0 - 5m</td>\n",
       "      <td>$5.5m</td>\n",
       "      <td>Previous Draw</td>\n",
       "      <td>Previous Draw Day</td>\n",
       "      <td>22/03/2017 19:31</td>\n",
       "      <td>No</td>\n",
       "      <td>100000</td>\n",
       "      <td>Same Jackpot as Previous</td>\n",
       "      <td>No</td>\n",
       "      <td>Same Jackpot and Day as Previous</td>\n",
       "      <td>NaN</td>\n",
       "    </tr>\n",
       "    <tr>\n",
       "      <th>15086</th>\n",
       "      <td>5 - 10m</td>\n",
       "      <td>$6.0m</td>\n",
       "      <td>Current Draw</td>\n",
       "      <td>Current Draw Day</td>\n",
       "      <td>25/03/2017 19:31</td>\n",
       "      <td>Same Jackpot as Current</td>\n",
       "      <td>200000</td>\n",
       "      <td>No</td>\n",
       "      <td>Same Jackpot and Day as Current</td>\n",
       "      <td>No</td>\n",
       "      <td>NaN</td>\n",
       "    </tr>\n",
       "    <tr>\n",
       "      <th>15087</th>\n",
       "      <td>Unknown</td>\n",
       "      <td>Unknown</td>\n",
       "      <td>Next Draw</td>\n",
       "      <td>Next Draw Day</td>\n",
       "      <td>29/03/2017 19:31</td>\n",
       "      <td>No</td>\n",
       "      <td>0</td>\n",
       "      <td>No</td>\n",
       "      <td>No</td>\n",
       "      <td>No</td>\n",
       "      <td>NaN</td>\n",
       "    </tr>\n",
       "    <tr>\n",
       "      <th>15885</th>\n",
       "      <td>0 - 5m</td>\n",
       "      <td>$5.5m</td>\n",
       "      <td>Previous Draw</td>\n",
       "      <td>Previous Draw Day</td>\n",
       "      <td>22/03/2017 19:31</td>\n",
       "      <td>No</td>\n",
       "      <td>5500000</td>\n",
       "      <td>Same Jackpot as Previous</td>\n",
       "      <td>No</td>\n",
       "      <td>Same Jackpot and Day as Previous</td>\n",
       "      <td>NaN</td>\n",
       "    </tr>\n",
       "    <tr>\n",
       "      <th>15886</th>\n",
       "      <td>5 - 10m</td>\n",
       "      <td>$6.0m</td>\n",
       "      <td>Current Draw</td>\n",
       "      <td>Current Draw Day</td>\n",
       "      <td>25/03/2017 19:31</td>\n",
       "      <td>Same Jackpot as Current</td>\n",
       "      <td>6000000</td>\n",
       "      <td>No</td>\n",
       "      <td>Same Jackpot and Day as Current</td>\n",
       "      <td>No</td>\n",
       "      <td>NaN</td>\n",
       "    </tr>\n",
       "  </tbody>\n",
       "</table>\n",
       "</div>"
      ],
      "text/plain": [
       "      pbjackpot_5m_desc familyjackpot    currentDraw     currentDrawDay  \\\n",
       "15085            0 - 5m         $5.5m  Previous Draw  Previous Draw Day   \n",
       "15086           5 - 10m         $6.0m   Current Draw   Current Draw Day   \n",
       "15087           Unknown       Unknown      Next Draw      Next Draw Day   \n",
       "15885            0 - 5m         $5.5m  Previous Draw  Previous Draw Day   \n",
       "15886           5 - 10m         $6.0m   Current Draw   Current Draw Day   \n",
       "\n",
       "           drawDatetime   currentDrawSameJackpot  JackpotAmount  \\\n",
       "15085  22/03/2017 19:31                       No         100000   \n",
       "15086  25/03/2017 19:31  Same Jackpot as Current         200000   \n",
       "15087  29/03/2017 19:31                       No              0   \n",
       "15885  22/03/2017 19:31                       No        5500000   \n",
       "15886  25/03/2017 19:31  Same Jackpot as Current        6000000   \n",
       "\n",
       "        PreviousDrawSameJackpot    CurrentDrawSameJackpotSameDay  \\\n",
       "15085  Same Jackpot as Previous                               No   \n",
       "15086                        No  Same Jackpot and Day as Current   \n",
       "15087                        No                               No   \n",
       "15885  Same Jackpot as Previous                               No   \n",
       "15886                        No  Same Jackpot and Day as Current   \n",
       "\n",
       "         PreviousDrawSameJackpotSameDay  PreviousDrawSameJackpotSameDayRank  \n",
       "15085  Same Jackpot and Day as Previous                                 NaN  \n",
       "15086                                No                                 NaN  \n",
       "15087                                No                                 NaN  \n",
       "15885  Same Jackpot and Day as Previous                                 NaN  \n",
       "15886                                No                                 NaN  "
      ]
     },
     "execution_count": 16,
     "metadata": {},
     "output_type": "execute_result"
    }
   ],
   "source": [
    "lotto_draw.ix[:,31:42][lotto_draw.currentDraw!='No'].head()"
   ]
  },
  {
   "cell_type": "code",
   "execution_count": 32,
   "metadata": {
    "collapsed": true
   },
   "outputs": [],
   "source": [
    "lotto_draw_new=pd.concat([lotto_draw_01,lotto_draw_02,lotto_draw_03,lotto_draw_04],axis=1)"
   ]
  },
  {
   "cell_type": "code",
   "execution_count": 33,
   "metadata": {
    "collapsed": false
   },
   "outputs": [
    {
     "data": {
      "text/html": [
       "<div>\n",
       "<table border=\"1\" class=\"dataframe\">\n",
       "  <thead>\n",
       "    <tr style=\"text-align: right;\">\n",
       "      <th></th>\n",
       "      <th>dimDrawKey</th>\n",
       "      <th>productNumber</th>\n",
       "      <th>jackpot</th>\n",
       "      <th>jackpotCycle</th>\n",
       "      <th>supplementaryJackpot</th>\n",
       "      <th>promotion</th>\n",
       "      <th>drawdayweek</th>\n",
       "      <th>lotto_jackpot_amount</th>\n",
       "      <th>pball_jackpot_id</th>\n",
       "      <th>pball_jackpot_amount</th>\n",
       "      <th>strike_jackpot_id</th>\n",
       "      <th>strike_jackpot_amount</th>\n",
       "      <th>pbjackpot_1m</th>\n",
       "      <th>drawDatetime</th>\n",
       "    </tr>\n",
       "  </thead>\n",
       "  <tbody>\n",
       "    <tr>\n",
       "      <th>4</th>\n",
       "      <td>4</td>\n",
       "      <td>20</td>\n",
       "      <td>Unknown</td>\n",
       "      <td>0</td>\n",
       "      <td>Unknown</td>\n",
       "      <td>Unknown</td>\n",
       "      <td>Saturday</td>\n",
       "      <td>Unknown</td>\n",
       "      <td>999999</td>\n",
       "      <td>Unknown</td>\n",
       "      <td>999999</td>\n",
       "      <td>Unknown</td>\n",
       "      <td>1000</td>\n",
       "      <td>1/08/1987 19:01</td>\n",
       "    </tr>\n",
       "    <tr>\n",
       "      <th>8</th>\n",
       "      <td>8</td>\n",
       "      <td>20</td>\n",
       "      <td>Unknown</td>\n",
       "      <td>0</td>\n",
       "      <td>Unknown</td>\n",
       "      <td>Unknown</td>\n",
       "      <td>Saturday</td>\n",
       "      <td>Unknown</td>\n",
       "      <td>999999</td>\n",
       "      <td>Unknown</td>\n",
       "      <td>999999</td>\n",
       "      <td>Unknown</td>\n",
       "      <td>1000</td>\n",
       "      <td>8/08/1987 19:01</td>\n",
       "    </tr>\n",
       "    <tr>\n",
       "      <th>12</th>\n",
       "      <td>12</td>\n",
       "      <td>20</td>\n",
       "      <td>Unknown</td>\n",
       "      <td>0</td>\n",
       "      <td>Unknown</td>\n",
       "      <td>Unknown</td>\n",
       "      <td>Saturday</td>\n",
       "      <td>Unknown</td>\n",
       "      <td>999999</td>\n",
       "      <td>Unknown</td>\n",
       "      <td>999999</td>\n",
       "      <td>Unknown</td>\n",
       "      <td>1000</td>\n",
       "      <td>15/08/1987 19:01</td>\n",
       "    </tr>\n",
       "    <tr>\n",
       "      <th>16</th>\n",
       "      <td>16</td>\n",
       "      <td>20</td>\n",
       "      <td>Unknown</td>\n",
       "      <td>0</td>\n",
       "      <td>Unknown</td>\n",
       "      <td>Unknown</td>\n",
       "      <td>Saturday</td>\n",
       "      <td>Unknown</td>\n",
       "      <td>999999</td>\n",
       "      <td>Unknown</td>\n",
       "      <td>999999</td>\n",
       "      <td>Unknown</td>\n",
       "      <td>1000</td>\n",
       "      <td>22/08/1987 19:01</td>\n",
       "    </tr>\n",
       "    <tr>\n",
       "      <th>20</th>\n",
       "      <td>20</td>\n",
       "      <td>20</td>\n",
       "      <td>Unknown</td>\n",
       "      <td>0</td>\n",
       "      <td>Unknown</td>\n",
       "      <td>Unknown</td>\n",
       "      <td>Saturday</td>\n",
       "      <td>Unknown</td>\n",
       "      <td>999999</td>\n",
       "      <td>Unknown</td>\n",
       "      <td>999999</td>\n",
       "      <td>Unknown</td>\n",
       "      <td>1000</td>\n",
       "      <td>29/08/1987 19:01</td>\n",
       "    </tr>\n",
       "  </tbody>\n",
       "</table>\n",
       "</div>"
      ],
      "text/plain": [
       "    dimDrawKey  productNumber  jackpot  jackpotCycle supplementaryJackpot  \\\n",
       "4            4             20  Unknown             0              Unknown   \n",
       "8            8             20  Unknown             0              Unknown   \n",
       "12          12             20  Unknown             0              Unknown   \n",
       "16          16             20  Unknown             0              Unknown   \n",
       "20          20             20  Unknown             0              Unknown   \n",
       "\n",
       "   promotion drawdayweek lotto_jackpot_amount  pball_jackpot_id  \\\n",
       "4    Unknown    Saturday              Unknown            999999   \n",
       "8    Unknown    Saturday              Unknown            999999   \n",
       "12   Unknown    Saturday              Unknown            999999   \n",
       "16   Unknown    Saturday              Unknown            999999   \n",
       "20   Unknown    Saturday              Unknown            999999   \n",
       "\n",
       "   pball_jackpot_amount  strike_jackpot_id strike_jackpot_amount  \\\n",
       "4               Unknown             999999               Unknown   \n",
       "8               Unknown             999999               Unknown   \n",
       "12              Unknown             999999               Unknown   \n",
       "16              Unknown             999999               Unknown   \n",
       "20              Unknown             999999               Unknown   \n",
       "\n",
       "    pbjackpot_1m      drawDatetime  \n",
       "4           1000   1/08/1987 19:01  \n",
       "8           1000   8/08/1987 19:01  \n",
       "12          1000  15/08/1987 19:01  \n",
       "16          1000  22/08/1987 19:01  \n",
       "20          1000  29/08/1987 19:01  "
      ]
     },
     "execution_count": 33,
     "metadata": {},
     "output_type": "execute_result"
    }
   ],
   "source": [
    "lotto_draw_new.head()"
   ]
  },
  {
   "cell_type": "code",
   "execution_count": 45,
   "metadata": {
    "collapsed": true
   },
   "outputs": [],
   "source": [
    "lotto_draw_new.to_csv(\".\\\\lotto_draw_new.csv\")"
   ]
  },
  {
   "cell_type": "code",
   "execution_count": 9,
   "metadata": {
    "collapsed": false
   },
   "outputs": [],
   "source": [
    "#pb_file= pd.ExcelFile(\"factDrawSalesa_merged_excel_lotto-powerball.xlsx\")\n",
    "pb_file=pd.read_excel(\"factDrawSalesa_merged_excel_lotto-powerball.xlsx\")"
   ]
  },
  {
   "cell_type": "code",
   "execution_count": 10,
   "metadata": {
    "collapsed": false
   },
   "outputs": [
    {
     "data": {
      "text/html": [
       "<div>\n",
       "<table border=\"1\" class=\"dataframe\">\n",
       "  <thead>\n",
       "    <tr style=\"text-align: right;\">\n",
       "      <th></th>\n",
       "      <th>factDrawSalesKey</th>\n",
       "      <th>dimProductKey</th>\n",
       "      <th>product_number</th>\n",
       "      <th>product_description</th>\n",
       "      <th>product_family_description</th>\n",
       "      <th>msbi_product_description</th>\n",
       "      <th>mylotto_product_description</th>\n",
       "      <th>dimRetailerKey</th>\n",
       "      <th>retail_outlet_status_description</th>\n",
       "      <th>industry_name</th>\n",
       "      <th>...</th>\n",
       "      <th>month and day</th>\n",
       "      <th>Week day</th>\n",
       "      <th>Year and week</th>\n",
       "      <th>quarter and week</th>\n",
       "      <th>dimPurchasePeriodkey</th>\n",
       "      <th>purchase_days_to_draw</th>\n",
       "      <th>purchase_period_summary_desc</th>\n",
       "      <th>drawSalesAmount</th>\n",
       "      <th>ticketPurchaseAmount</th>\n",
       "      <th>ticketPurchaseCount</th>\n",
       "    </tr>\n",
       "  </thead>\n",
       "  <tbody>\n",
       "    <tr>\n",
       "      <th>62</th>\n",
       "      <td>15733412</td>\n",
       "      <td>22</td>\n",
       "      <td>20</td>\n",
       "      <td>Lotto/Powerball</td>\n",
       "      <td>Lotto</td>\n",
       "      <td>Lotto</td>\n",
       "      <td>Lotto Powerball</td>\n",
       "      <td>6</td>\n",
       "      <td>Active</td>\n",
       "      <td>Unknown</td>\n",
       "      <td>...</td>\n",
       "      <td>2018-04-01</td>\n",
       "      <td>Saturday</td>\n",
       "      <td>201516</td>\n",
       "      <td>Q4W03</td>\n",
       "      <td>1</td>\n",
       "      <td>0</td>\n",
       "      <td>Unknown</td>\n",
       "      <td>-6.0</td>\n",
       "      <td>-6.0</td>\n",
       "      <td>0.0</td>\n",
       "    </tr>\n",
       "    <tr>\n",
       "      <th>14306</th>\n",
       "      <td>42700348</td>\n",
       "      <td>22</td>\n",
       "      <td>20</td>\n",
       "      <td>Lotto/Powerball</td>\n",
       "      <td>Lotto</td>\n",
       "      <td>Lotto</td>\n",
       "      <td>Lotto Powerball</td>\n",
       "      <td>6</td>\n",
       "      <td>Active</td>\n",
       "      <td>Unknown</td>\n",
       "      <td>...</td>\n",
       "      <td>2015-06-01</td>\n",
       "      <td>Wednesday</td>\n",
       "      <td>201625</td>\n",
       "      <td>Q4W12</td>\n",
       "      <td>4</td>\n",
       "      <td>3</td>\n",
       "      <td>2 Days to Draw</td>\n",
       "      <td>0.0</td>\n",
       "      <td>0.0</td>\n",
       "      <td>0.0</td>\n",
       "    </tr>\n",
       "    <tr>\n",
       "      <th>78672</th>\n",
       "      <td>15989662</td>\n",
       "      <td>22</td>\n",
       "      <td>20</td>\n",
       "      <td>Lotto/Powerball</td>\n",
       "      <td>Lotto</td>\n",
       "      <td>Lotto</td>\n",
       "      <td>Lotto Powerball</td>\n",
       "      <td>6</td>\n",
       "      <td>Active</td>\n",
       "      <td>Unknown</td>\n",
       "      <td>...</td>\n",
       "      <td>2026-04-01</td>\n",
       "      <td>Sunday</td>\n",
       "      <td>201517</td>\n",
       "      <td>Q4W05</td>\n",
       "      <td>28</td>\n",
       "      <td>27</td>\n",
       "      <td>7+ Days to Draw</td>\n",
       "      <td>6.0</td>\n",
       "      <td>6.0</td>\n",
       "      <td>1.0</td>\n",
       "    </tr>\n",
       "    <tr>\n",
       "      <th>123230</th>\n",
       "      <td>43750608</td>\n",
       "      <td>22</td>\n",
       "      <td>20</td>\n",
       "      <td>Lotto/Powerball</td>\n",
       "      <td>Lotto</td>\n",
       "      <td>Lotto</td>\n",
       "      <td>Lotto Powerball</td>\n",
       "      <td>6</td>\n",
       "      <td>Active</td>\n",
       "      <td>Unknown</td>\n",
       "      <td>...</td>\n",
       "      <td>2027-06-01</td>\n",
       "      <td>Monday</td>\n",
       "      <td>201627</td>\n",
       "      <td>Q1W01</td>\n",
       "      <td>3</td>\n",
       "      <td>2</td>\n",
       "      <td>1 Day to Draw</td>\n",
       "      <td>0.0</td>\n",
       "      <td>0.0</td>\n",
       "      <td>0.0</td>\n",
       "    </tr>\n",
       "    <tr>\n",
       "      <th>158107</th>\n",
       "      <td>50432891</td>\n",
       "      <td>22</td>\n",
       "      <td>20</td>\n",
       "      <td>Lotto/Powerball</td>\n",
       "      <td>Lotto</td>\n",
       "      <td>Lotto</td>\n",
       "      <td>Lotto Powerball</td>\n",
       "      <td>6</td>\n",
       "      <td>Active</td>\n",
       "      <td>Unknown</td>\n",
       "      <td>...</td>\n",
       "      <td>2005-09-01</td>\n",
       "      <td>Monday</td>\n",
       "      <td>201637</td>\n",
       "      <td>Q1W11</td>\n",
       "      <td>3</td>\n",
       "      <td>2</td>\n",
       "      <td>1 Day to Draw</td>\n",
       "      <td>0.0</td>\n",
       "      <td>0.0</td>\n",
       "      <td>0.0</td>\n",
       "    </tr>\n",
       "  </tbody>\n",
       "</table>\n",
       "<p>5 rows × 32 columns</p>\n",
       "</div>"
      ],
      "text/plain": [
       "        factDrawSalesKey  dimProductKey  product_number product_description  \\\n",
       "62              15733412             22              20     Lotto/Powerball   \n",
       "14306           42700348             22              20     Lotto/Powerball   \n",
       "78672           15989662             22              20     Lotto/Powerball   \n",
       "123230          43750608             22              20     Lotto/Powerball   \n",
       "158107          50432891             22              20     Lotto/Powerball   \n",
       "\n",
       "       product_family_description msbi_product_description  \\\n",
       "62                          Lotto                    Lotto   \n",
       "14306                       Lotto                    Lotto   \n",
       "78672                       Lotto                    Lotto   \n",
       "123230                      Lotto                    Lotto   \n",
       "158107                      Lotto                    Lotto   \n",
       "\n",
       "       mylotto_product_description  dimRetailerKey  \\\n",
       "62                 Lotto Powerball               6   \n",
       "14306              Lotto Powerball               6   \n",
       "78672              Lotto Powerball               6   \n",
       "123230             Lotto Powerball               6   \n",
       "158107             Lotto Powerball               6   \n",
       "\n",
       "       retail_outlet_status_description industry_name         ...          \\\n",
       "62                               Active       Unknown         ...           \n",
       "14306                            Active       Unknown         ...           \n",
       "78672                            Active       Unknown         ...           \n",
       "123230                           Active       Unknown         ...           \n",
       "158107                           Active       Unknown         ...           \n",
       "\n",
       "       month and day   Week day  Year and week quarter and week  \\\n",
       "62        2018-04-01   Saturday         201516         Q4W03      \n",
       "14306     2015-06-01  Wednesday         201625          Q4W12     \n",
       "78672     2026-04-01     Sunday         201517         Q4W05      \n",
       "123230    2027-06-01     Monday         201627         Q1W01      \n",
       "158107    2005-09-01     Monday         201637          Q1W11     \n",
       "\n",
       "       dimPurchasePeriodkey purchase_days_to_draw  \\\n",
       "62                        1                     0   \n",
       "14306                     4                     3   \n",
       "78672                    28                    27   \n",
       "123230                    3                     2   \n",
       "158107                    3                     2   \n",
       "\n",
       "       purchase_period_summary_desc drawSalesAmount ticketPurchaseAmount  \\\n",
       "62                          Unknown            -6.0                 -6.0   \n",
       "14306                2 Days to Draw             0.0                  0.0   \n",
       "78672               7+ Days to Draw             6.0                  6.0   \n",
       "123230                1 Day to Draw             0.0                  0.0   \n",
       "158107                1 Day to Draw             0.0                  0.0   \n",
       "\n",
       "       ticketPurchaseCount  \n",
       "62                     0.0  \n",
       "14306                  0.0  \n",
       "78672                  1.0  \n",
       "123230                 0.0  \n",
       "158107                 0.0  \n",
       "\n",
       "[5 rows x 32 columns]"
      ]
     },
     "execution_count": 10,
     "metadata": {},
     "output_type": "execute_result"
    }
   ],
   "source": [
    "pb_file.head()"
   ]
  },
  {
   "cell_type": "code",
   "execution_count": 11,
   "metadata": {
    "collapsed": false
   },
   "outputs": [
    {
     "name": "stderr",
     "output_type": "stream",
     "text": [
      "d:\\Users\\Admin\\Anaconda3\\lib\\site-packages\\IPython\\core\\interactiveshell.py:2723: DtypeWarning: Columns (12) have mixed types. Specify dtype option on import or set low_memory=False.\n",
      "  interactivity=interactivity, compiler=compiler, result=result)\n"
     ]
    },
    {
     "data": {
      "text/html": [
       "<div>\n",
       "<table border=\"1\" class=\"dataframe\">\n",
       "  <thead>\n",
       "    <tr style=\"text-align: right;\">\n",
       "      <th></th>\n",
       "      <th>dimDrawKey</th>\n",
       "      <th>drawNumber</th>\n",
       "      <th>productNumber</th>\n",
       "      <th>drawProduct</th>\n",
       "      <th>drawDescription</th>\n",
       "      <th>drawDate</th>\n",
       "      <th>jackpot</th>\n",
       "      <th>jackpotCycle</th>\n",
       "      <th>supplementaryJackpot</th>\n",
       "      <th>promotion</th>\n",
       "      <th>...</th>\n",
       "      <th>familyjackpot</th>\n",
       "      <th>currentDraw</th>\n",
       "      <th>currentDrawDay</th>\n",
       "      <th>drawDatetime</th>\n",
       "      <th>currentDrawSameJackpot</th>\n",
       "      <th>JackpotAmount</th>\n",
       "      <th>PreviousDrawSameJackpot</th>\n",
       "      <th>CurrentDrawSameJackpotSameDay</th>\n",
       "      <th>PreviousDrawSameJackpotSameDay</th>\n",
       "      <th>PreviousDrawSameJackpotSameDayRank</th>\n",
       "    </tr>\n",
       "  </thead>\n",
       "  <tbody>\n",
       "    <tr>\n",
       "      <th>0</th>\n",
       "      <td>0</td>\n",
       "      <td>-1</td>\n",
       "      <td>0</td>\n",
       "      <td>Unknown</td>\n",
       "      <td>Unknown</td>\n",
       "      <td>0</td>\n",
       "      <td>Unknown</td>\n",
       "      <td>0</td>\n",
       "      <td>Unknown</td>\n",
       "      <td>Unknown</td>\n",
       "      <td>...</td>\n",
       "      <td>Unknown</td>\n",
       "      <td>No</td>\n",
       "      <td>No</td>\n",
       "      <td>1/01/1900 0:00</td>\n",
       "      <td>No</td>\n",
       "      <td>0</td>\n",
       "      <td>No</td>\n",
       "      <td>No</td>\n",
       "      <td>No</td>\n",
       "      <td>NaN</td>\n",
       "    </tr>\n",
       "    <tr>\n",
       "      <th>1</th>\n",
       "      <td>1</td>\n",
       "      <td>1</td>\n",
       "      <td>13</td>\n",
       "      <td>Big Wednesday</td>\n",
       "      <td>1 - Big Wednesday</td>\n",
       "      <td>20051026</td>\n",
       "      <td>Unknown</td>\n",
       "      <td>0</td>\n",
       "      <td>No Jackpot</td>\n",
       "      <td>No Promotion</td>\n",
       "      <td>...</td>\n",
       "      <td>Unknown</td>\n",
       "      <td>No</td>\n",
       "      <td>No</td>\n",
       "      <td>26/10/2005 19:31</td>\n",
       "      <td>No</td>\n",
       "      <td>0</td>\n",
       "      <td>No</td>\n",
       "      <td>No</td>\n",
       "      <td>No</td>\n",
       "      <td>NaN</td>\n",
       "    </tr>\n",
       "    <tr>\n",
       "      <th>2</th>\n",
       "      <td>2</td>\n",
       "      <td>1</td>\n",
       "      <td>25</td>\n",
       "      <td>Bullseye</td>\n",
       "      <td>1 - Bullseye</td>\n",
       "      <td>20091019</td>\n",
       "      <td>$100k</td>\n",
       "      <td>1</td>\n",
       "      <td>No Jackpot</td>\n",
       "      <td>No Promotion</td>\n",
       "      <td>...</td>\n",
       "      <td>$100k</td>\n",
       "      <td>No</td>\n",
       "      <td>No</td>\n",
       "      <td>19/10/2009 18:02</td>\n",
       "      <td>No</td>\n",
       "      <td>100000</td>\n",
       "      <td>No</td>\n",
       "      <td>No</td>\n",
       "      <td>No</td>\n",
       "      <td>NaN</td>\n",
       "    </tr>\n",
       "    <tr>\n",
       "      <th>3</th>\n",
       "      <td>3</td>\n",
       "      <td>1</td>\n",
       "      <td>22</td>\n",
       "      <td>Keno</td>\n",
       "      <td>1 - Keno</td>\n",
       "      <td>19941031</td>\n",
       "      <td>Unknown</td>\n",
       "      <td>0</td>\n",
       "      <td>Unknown</td>\n",
       "      <td>Unknown</td>\n",
       "      <td>...</td>\n",
       "      <td>Unknown</td>\n",
       "      <td>No</td>\n",
       "      <td>No</td>\n",
       "      <td>31/10/1994 18:01</td>\n",
       "      <td>No</td>\n",
       "      <td>0</td>\n",
       "      <td>No</td>\n",
       "      <td>No</td>\n",
       "      <td>No</td>\n",
       "      <td>NaN</td>\n",
       "    </tr>\n",
       "    <tr>\n",
       "      <th>4</th>\n",
       "      <td>4</td>\n",
       "      <td>1</td>\n",
       "      <td>20</td>\n",
       "      <td>Lotto Powerball</td>\n",
       "      <td>1 - Lotto Powerball</td>\n",
       "      <td>19870801</td>\n",
       "      <td>Unknown</td>\n",
       "      <td>0</td>\n",
       "      <td>Unknown</td>\n",
       "      <td>Unknown</td>\n",
       "      <td>...</td>\n",
       "      <td>Unknown</td>\n",
       "      <td>No</td>\n",
       "      <td>No</td>\n",
       "      <td>1/08/1987 19:01</td>\n",
       "      <td>No</td>\n",
       "      <td>0</td>\n",
       "      <td>No</td>\n",
       "      <td>No</td>\n",
       "      <td>No</td>\n",
       "      <td>NaN</td>\n",
       "    </tr>\n",
       "  </tbody>\n",
       "</table>\n",
       "<p>5 rows × 42 columns</p>\n",
       "</div>"
      ],
      "text/plain": [
       "   dimDrawKey  drawNumber  productNumber      drawProduct  \\\n",
       "0           0          -1              0          Unknown   \n",
       "1           1           1             13    Big Wednesday   \n",
       "2           2           1             25         Bullseye   \n",
       "3           3           1             22             Keno   \n",
       "4           4           1             20  Lotto Powerball   \n",
       "\n",
       "       drawDescription  drawDate  jackpot  jackpotCycle supplementaryJackpot  \\\n",
       "0              Unknown         0  Unknown             0              Unknown   \n",
       "1    1 - Big Wednesday  20051026  Unknown             0           No Jackpot   \n",
       "2         1 - Bullseye  20091019    $100k             1           No Jackpot   \n",
       "3             1 - Keno  19941031  Unknown             0              Unknown   \n",
       "4  1 - Lotto Powerball  19870801  Unknown             0              Unknown   \n",
       "\n",
       "      promotion                ...                  familyjackpot  \\\n",
       "0       Unknown                ...                        Unknown   \n",
       "1  No Promotion                ...                        Unknown   \n",
       "2  No Promotion                ...                          $100k   \n",
       "3       Unknown                ...                        Unknown   \n",
       "4       Unknown                ...                        Unknown   \n",
       "\n",
       "   currentDraw currentDrawDay      drawDatetime currentDrawSameJackpot  \\\n",
       "0           No             No    1/01/1900 0:00                     No   \n",
       "1           No             No  26/10/2005 19:31                     No   \n",
       "2           No             No  19/10/2009 18:02                     No   \n",
       "3           No             No  31/10/1994 18:01                     No   \n",
       "4           No             No   1/08/1987 19:01                     No   \n",
       "\n",
       "  JackpotAmount PreviousDrawSameJackpot  CurrentDrawSameJackpotSameDay  \\\n",
       "0             0                      No                             No   \n",
       "1             0                      No                             No   \n",
       "2        100000                      No                             No   \n",
       "3             0                      No                             No   \n",
       "4             0                      No                             No   \n",
       "\n",
       "   PreviousDrawSameJackpotSameDay PreviousDrawSameJackpotSameDayRank  \n",
       "0                              No                                NaN  \n",
       "1                              No                                NaN  \n",
       "2                              No                                NaN  \n",
       "3                              No                                NaN  \n",
       "4                              No                                NaN  \n",
       "\n",
       "[5 rows x 42 columns]"
      ]
     },
     "execution_count": 11,
     "metadata": {},
     "output_type": "execute_result"
    }
   ],
   "source": [
    "draw_file=pd.read_csv(\"..\\\\lotto dataset\\\\dimDraw.csv\")\n",
    "draw_file.head()"
   ]
  },
  {
   "cell_type": "code",
   "execution_count": 11,
   "metadata": {
    "collapsed": false
   },
   "outputs": [
    {
     "name": "stdout",
     "output_type": "stream",
     "text": [
      "In [11] used 1.547 MiB RAM in 0.008s, peaked 0.000 MiB above current, total RAM usage 2557.430 MiB\n"
     ]
    }
   ],
   "source": [
    "rain=pd.read_csv(\"Rain_1.csv\",nrows=10,index_col=None)"
   ]
  },
  {
   "cell_type": "code",
   "execution_count": 12,
   "metadata": {
    "collapsed": false
   },
   "outputs": [
    {
     "data": {
      "text/html": [
       "<div>\n",
       "<table border=\"1\" class=\"dataframe\">\n",
       "  <thead>\n",
       "    <tr style=\"text-align: right;\">\n",
       "      <th></th>\n",
       "      <th>Station</th>\n",
       "      <th>Date.local.</th>\n",
       "      <th>Amount.mm.</th>\n",
       "      <th>SofG</th>\n",
       "      <th>Deficit.mm.</th>\n",
       "      <th>Runoff.mm.</th>\n",
       "      <th>Period.Hrs.</th>\n",
       "      <th>Freq</th>\n",
       "    </tr>\n",
       "  </thead>\n",
       "  <tbody>\n",
       "    <tr>\n",
       "      <th>0</th>\n",
       "      <td>Auckland, Mangere Ews</td>\n",
       "      <td>20150101:0900</td>\n",
       "      <td>4</td>\n",
       "      <td>NaN</td>\n",
       "      <td>117.3</td>\n",
       "      <td>0</td>\n",
       "      <td>24</td>\n",
       "      <td>D</td>\n",
       "    </tr>\n",
       "    <tr>\n",
       "      <th>1</th>\n",
       "      <td>Auckland, Mangere Ews</td>\n",
       "      <td>20150102:0900</td>\n",
       "      <td>0</td>\n",
       "      <td>NaN</td>\n",
       "      <td>119.8</td>\n",
       "      <td>0</td>\n",
       "      <td>24</td>\n",
       "      <td>D</td>\n",
       "    </tr>\n",
       "  </tbody>\n",
       "</table>\n",
       "</div>"
      ],
      "text/plain": [
       "                 Station    Date.local.  Amount.mm.  SofG  Deficit.mm.  \\\n",
       "0  Auckland, Mangere Ews  20150101:0900           4   NaN        117.3   \n",
       "1  Auckland, Mangere Ews  20150102:0900           0   NaN        119.8   \n",
       "\n",
       "   Runoff.mm.  Period.Hrs. Freq  \n",
       "0           0           24    D  \n",
       "1           0           24    D  "
      ]
     },
     "execution_count": 12,
     "metadata": {},
     "output_type": "execute_result"
    },
    {
     "name": "stdout",
     "output_type": "stream",
     "text": [
      "In [12] used 0.012 MiB RAM in 0.013s, peaked 0.000 MiB above current, total RAM usage 2557.441 MiB\n"
     ]
    }
   ],
   "source": [
    "rain.head(2)"
   ]
  },
  {
   "cell_type": "code",
   "execution_count": 18,
   "metadata": {
    "collapsed": false
   },
   "outputs": [
    {
     "data": {
      "text/plain": [
       "(27669, 3)"
      ]
     },
     "execution_count": 18,
     "metadata": {},
     "output_type": "execute_result"
    },
    {
     "name": "stdout",
     "output_type": "stream",
     "text": [
      "In [18] used 0.895 MiB RAM in 0.044s, peaked 0.000 MiB above current, total RAM usage 80.273 MiB\n"
     ]
    }
   ],
   "source": [
    "#rain=pd.read_csv(\"Rain_1.csv\",usecols=[\"Station\",\"\",\"\"],index_col=None,nrows=10)\n",
    "#rain=pd.read_csv(\".\\\\weather\\\\Rain_1.csv\",usecols=[0,1,2],index_col=None,nrows=10)\n",
    "rain_1=pd.read_csv(\".\\\\weather\\\\Rain_1.csv\",usecols=[0,1,2],index_col=None)\n",
    "rain_2=pd.read_csv(\".\\\\weather\\\\Rain_2.csv\",usecols=[0,1,2],index_col=None)\n",
    "rain_3=pd.read_csv(\".\\\\weather\\\\Rain_3.csv\",usecols=[0,1,2],index_col=None)\n",
    "rain_4=pd.read_csv(\".\\\\weather\\\\Rain_4.csv\",usecols=[0,1,2],index_col=None)\n",
    "rain=pd.concat([rain_1,rain_2,rain_3,rain_4])\n",
    "rain.shape"
   ]
  },
  {
   "cell_type": "code",
   "execution_count": 17,
   "metadata": {
    "collapsed": false
   },
   "outputs": [
    {
     "data": {
      "text/html": [
       "<div>\n",
       "<table border=\"1\" class=\"dataframe\">\n",
       "  <thead>\n",
       "    <tr style=\"text-align: right;\">\n",
       "      <th></th>\n",
       "      <th>Station</th>\n",
       "      <th>Date.local.</th>\n",
       "      <th>Amount.mm.</th>\n",
       "    </tr>\n",
       "  </thead>\n",
       "  <tbody>\n",
       "    <tr>\n",
       "      <th>0</th>\n",
       "      <td>Auckland, Mangere Ews</td>\n",
       "      <td>20150101:0900</td>\n",
       "      <td>4</td>\n",
       "    </tr>\n",
       "    <tr>\n",
       "      <th>1</th>\n",
       "      <td>Auckland, Mangere Ews</td>\n",
       "      <td>20150102:0900</td>\n",
       "      <td>0</td>\n",
       "    </tr>\n",
       "  </tbody>\n",
       "</table>\n",
       "</div>"
      ],
      "text/plain": [
       "                 Station    Date.local.  Amount.mm.\n",
       "0  Auckland, Mangere Ews  20150101:0900           4\n",
       "1  Auckland, Mangere Ews  20150102:0900           0"
      ]
     },
     "execution_count": 17,
     "metadata": {},
     "output_type": "execute_result"
    },
    {
     "name": "stdout",
     "output_type": "stream",
     "text": [
      "In [17] used 0.004 MiB RAM in 0.011s, peaked 0.000 MiB above current, total RAM usage 79.379 MiB\n"
     ]
    }
   ],
   "source": [
    "rain.head(2)"
   ]
  },
  {
   "cell_type": "code",
   "execution_count": 20,
   "metadata": {
    "collapsed": false
   },
   "outputs": [
    {
     "data": {
      "text/plain": [
       "38"
      ]
     },
     "execution_count": 20,
     "metadata": {},
     "output_type": "execute_result"
    },
    {
     "name": "stdout",
     "output_type": "stream",
     "text": [
      "In [20] used 0.000 MiB RAM in 0.006s, peaked 0.000 MiB above current, total RAM usage 80.422 MiB\n"
     ]
    }
   ],
   "source": [
    "len(rain.Station.unique())"
   ]
  },
  {
   "cell_type": "code",
   "execution_count": 21,
   "metadata": {
    "collapsed": false
   },
   "outputs": [
    {
     "data": {
      "text/plain": [
       "array(['Auckland, Mangere Ews', 'Auckland, Motat Ews',\n",
       "       'Auckland, North Shore Albany Ews', 'Hamilton Aws',\n",
       "       'Lake Karapiro Cws', 'Pukekohe Ews', 'Te Kuiti Ews',\n",
       "       'Warkworth Ews', 'Whangarei Ews', 'Firth Of Thames Ews',\n",
       "       'Gisborne Aws', 'Masterton Aero Aws', 'Napier Ews',\n",
       "       'New Plymouth Aws', 'Rotorua Ews', 'Taupo Cws', 'Tauranga Aero Aws',\n",
       "       'Wanganui Aws', 'Whakatane Ews', 'Blenheim Research Ews',\n",
       "       'Kaikoura, Middle Creek', 'Mana Island Aws', 'Maungaraki 3',\n",
       "       'Nelson Aero', 'Palmerston North Aws', 'Paraparaumu Aero Aws',\n",
       "       'Richmond Ews', 'Upper Hutt, Trentham Ews',\n",
       "       'Wellington, Kelburn Aws', 'Ashburton Aero Aws',\n",
       "       'Christchurch Aero', 'Dunedin Aero Aws', 'Greymouth Aero Ews',\n",
       "       'Invercargill Aero', 'Leeston Raws', 'Queenstown Ews',\n",
       "       'Timaru Aero Aws', 'Waimate Cws'], dtype=object)"
      ]
     },
     "execution_count": 21,
     "metadata": {},
     "output_type": "execute_result"
    },
    {
     "name": "stdout",
     "output_type": "stream",
     "text": [
      "In [21] used 0.000 MiB RAM in 0.003s, peaked 0.000 MiB above current, total RAM usage 80.422 MiB\n"
     ]
    }
   ],
   "source": [
    "rain.Station.unique()"
   ]
  },
  {
   "cell_type": "code",
   "execution_count": 18,
   "metadata": {
    "collapsed": false
   },
   "outputs": [
    {
     "data": {
      "text/plain": [
       "(27669, 3)"
      ]
     },
     "execution_count": 18,
     "metadata": {},
     "output_type": "execute_result"
    },
    {
     "name": "stdout",
     "output_type": "stream",
     "text": [
      "In [18] used 0.895 MiB RAM in 0.044s, peaked 0.000 MiB above current, total RAM usage 80.273 MiB\n"
     ]
    }
   ],
   "source": [
    "#rain=pd.read_csv(\"Rain_1.csv\",usecols=[\"Station\",\"\",\"\"],index_col=None,nrows=10)\n",
    "#rain=pd.read_csv(\".\\\\weather\\\\Rain_1.csv\",usecols=[0,1,2],index_col=None,nrows=10)\n",
    "rain_1=pd.read_csv(\".\\\\weather\\\\Rain_1.csv\",usecols=[0,1,2],index_col=None)\n",
    "rain_2=pd.read_csv(\".\\\\weather\\\\Rain_2.csv\",usecols=[0,1,2],index_col=None)\n",
    "rain_3=pd.read_csv(\".\\\\weather\\\\Rain_3.csv\",usecols=[0,1,2],index_col=None)\n",
    "rain_4=pd.read_csv(\".\\\\weather\\\\Rain_4.csv\",usecols=[0,1,2],index_col=None)\n",
    "rain=pd.concat([rain_1,rain_2,rain_3,rain_4])\n",
    "rain.shape"
   ]
  },
  {
   "cell_type": "code",
   "execution_count": 22,
   "metadata": {
    "collapsed": false
   },
   "outputs": [
    {
     "data": {
      "text/html": [
       "<div>\n",
       "<table border=\"1\" class=\"dataframe\">\n",
       "  <thead>\n",
       "    <tr style=\"text-align: right;\">\n",
       "      <th></th>\n",
       "      <th>Station</th>\n",
       "      <th>Date.local.</th>\n",
       "      <th>Amount.Hrs.</th>\n",
       "      <th>Period.Hrs.</th>\n",
       "      <th>Freq</th>\n",
       "    </tr>\n",
       "  </thead>\n",
       "  <tbody>\n",
       "    <tr>\n",
       "      <th>0</th>\n",
       "      <td>Auckland, Mangere Ews</td>\n",
       "      <td>20150101:2359</td>\n",
       "      <td>13.3</td>\n",
       "      <td>24</td>\n",
       "      <td>D</td>\n",
       "    </tr>\n",
       "    <tr>\n",
       "      <th>1</th>\n",
       "      <td>Auckland, Mangere Ews</td>\n",
       "      <td>20150102:2359</td>\n",
       "      <td>13.3</td>\n",
       "      <td>24</td>\n",
       "      <td>D</td>\n",
       "    </tr>\n",
       "  </tbody>\n",
       "</table>\n",
       "</div>"
      ],
      "text/plain": [
       "                 Station    Date.local.  Amount.Hrs.  Period.Hrs. Freq\n",
       "0  Auckland, Mangere Ews  20150101:2359         13.3           24    D\n",
       "1  Auckland, Mangere Ews  20150102:2359         13.3           24    D"
      ]
     },
     "execution_count": 22,
     "metadata": {},
     "output_type": "execute_result"
    },
    {
     "name": "stdout",
     "output_type": "stream",
     "text": [
      "In [22] used 0.516 MiB RAM in 0.017s, peaked 0.000 MiB above current, total RAM usage 80.938 MiB\n"
     ]
    }
   ],
   "source": [
    "Sunshine_1=pd.read_csv(\".\\\\weather\\\\Sunshine_1.csv\",nrows=2,index_col=None)\n",
    "Sunshine_1"
   ]
  },
  {
   "cell_type": "code",
   "execution_count": 23,
   "metadata": {
    "collapsed": false
   },
   "outputs": [
    {
     "data": {
      "text/plain": [
       "(13257, 3)"
      ]
     },
     "execution_count": 23,
     "metadata": {},
     "output_type": "execute_result"
    },
    {
     "name": "stdout",
     "output_type": "stream",
     "text": [
      "In [23] used 1.004 MiB RAM in 0.029s, peaked 0.000 MiB above current, total RAM usage 81.941 MiB\n"
     ]
    }
   ],
   "source": [
    "Sunshine_1=pd.read_csv(\".\\\\weather\\\\Sunshine_1.csv\",usecols=[0,1,2],index_col=None)\n",
    "Sunshine_2=pd.read_csv(\".\\\\weather\\\\Sunshine_2.csv\",usecols=[0,1,2],index_col=None)\n",
    "Sunshine_3=pd.read_csv(\".\\\\weather\\\\Sunshine_3.csv\",usecols=[0,1,2],index_col=None)\n",
    "Sunshine_4=pd.read_csv(\".\\\\weather\\\\Sunshine_4.csv\",usecols=[0,1,2],index_col=None)\n",
    "sunshine=pd.concat([Sunshine_1,Sunshine_2,Sunshine_3,Sunshine_4])\n",
    "sunshine.shape"
   ]
  },
  {
   "cell_type": "code",
   "execution_count": 24,
   "metadata": {
    "collapsed": false
   },
   "outputs": [
    {
     "data": {
      "text/html": [
       "<div>\n",
       "<table border=\"1\" class=\"dataframe\">\n",
       "  <thead>\n",
       "    <tr style=\"text-align: right;\">\n",
       "      <th></th>\n",
       "      <th>Station</th>\n",
       "      <th>Date.local.</th>\n",
       "      <th>Dir.DegT.</th>\n",
       "      <th>Speed.m.s.</th>\n",
       "      <th>Dir.StdDev</th>\n",
       "      <th>Spd.StdDev</th>\n",
       "      <th>Period.Hrs.</th>\n",
       "      <th>Freq</th>\n",
       "    </tr>\n",
       "  </thead>\n",
       "  <tbody>\n",
       "    <tr>\n",
       "      <th>0</th>\n",
       "      <td>Auckland, Mangere Ews</td>\n",
       "      <td>20150101:0900</td>\n",
       "      <td>206</td>\n",
       "      <td>5.7</td>\n",
       "      <td>13</td>\n",
       "      <td>1.5</td>\n",
       "      <td>1</td>\n",
       "      <td>H</td>\n",
       "    </tr>\n",
       "    <tr>\n",
       "      <th>1</th>\n",
       "      <td>Auckland, Mangere Ews</td>\n",
       "      <td>20150102:0900</td>\n",
       "      <td>278</td>\n",
       "      <td>1.1</td>\n",
       "      <td>18</td>\n",
       "      <td>0.5</td>\n",
       "      <td>1</td>\n",
       "      <td>H</td>\n",
       "    </tr>\n",
       "  </tbody>\n",
       "</table>\n",
       "</div>"
      ],
      "text/plain": [
       "                 Station    Date.local.  Dir.DegT.  Speed.m.s.  Dir.StdDev  \\\n",
       "0  Auckland, Mangere Ews  20150101:0900        206         5.7          13   \n",
       "1  Auckland, Mangere Ews  20150102:0900        278         1.1          18   \n",
       "\n",
       "   Spd.StdDev  Period.Hrs. Freq  \n",
       "0         1.5            1    H  \n",
       "1         0.5            1    H  "
      ]
     },
     "execution_count": 24,
     "metadata": {},
     "output_type": "execute_result"
    },
    {
     "name": "stdout",
     "output_type": "stream",
     "text": [
      "In [24] used 1.379 MiB RAM in 0.019s, peaked 0.000 MiB above current, total RAM usage 83.320 MiB\n"
     ]
    }
   ],
   "source": [
    "Surface_Wind_1=pd.read_csv(\".\\\\weather\\\\Surface Wind_1.csv\",nrows=2,index_col=None)\n",
    "Surface_Wind_1\n"
   ]
  },
  {
   "cell_type": "code",
   "execution_count": 25,
   "metadata": {
    "collapsed": false,
    "scrolled": true
   },
   "outputs": [
    {
     "data": {
      "text/plain": [
       "(11712, 6)"
      ]
     },
     "execution_count": 25,
     "metadata": {},
     "output_type": "execute_result"
    },
    {
     "name": "stdout",
     "output_type": "stream",
     "text": [
      "In [25] used 1.340 MiB RAM in 0.040s, peaked 0.000 MiB above current, total RAM usage 84.660 MiB\n"
     ]
    }
   ],
   "source": [
    "Surface_Wind_1=pd.read_csv(\".\\\\weather\\\\Surface Wind_1.csv\",usecols=[0,1,2,3,4,5],index_col=None)\n",
    "Surface_Wind_2=pd.read_csv(\".\\\\weather\\\\Surface Wind_2.csv\",usecols=[0,1,2,3,4,5],index_col=None)\n",
    "Surface_Wind_3=pd.read_csv(\".\\\\weather\\\\Surface Wind_3.csv\",usecols=[0,1,2,3,4,5],index_col=None)\n",
    "Surface_Wind_4=pd.read_csv(\".\\\\weather\\\\Surface Wind_4.csv\",usecols=[0,1,2,3,4,5],index_col=None)\n",
    "surface_wind=pd.concat([Surface_Wind_1,Surface_Wind_2,Surface_Wind_3,Surface_Wind_4])\n",
    "surface_wind.shape"
   ]
  },
  {
   "cell_type": "code",
   "execution_count": 27,
   "metadata": {
    "collapsed": false
   },
   "outputs": [
    {
     "data": {
      "text/html": [
       "<div>\n",
       "<table border=\"1\" class=\"dataframe\">\n",
       "  <thead>\n",
       "    <tr style=\"text-align: right;\">\n",
       "      <th></th>\n",
       "      <th>Station</th>\n",
       "      <th>Date.local.</th>\n",
       "      <th>Tair.C.</th>\n",
       "      <th>Twet.C.</th>\n",
       "      <th>RH...</th>\n",
       "      <th>Tdew.C.</th>\n",
       "    </tr>\n",
       "  </thead>\n",
       "  <tbody>\n",
       "    <tr>\n",
       "      <th>0</th>\n",
       "      <td>Auckland, Mangere Ews</td>\n",
       "      <td>20150101:0900</td>\n",
       "      <td>19.3</td>\n",
       "      <td>15.8</td>\n",
       "      <td>68</td>\n",
       "      <td>13.3</td>\n",
       "    </tr>\n",
       "    <tr>\n",
       "      <th>1</th>\n",
       "      <td>Auckland, Mangere Ews</td>\n",
       "      <td>20150102:0900</td>\n",
       "      <td>19.8</td>\n",
       "      <td>16.4</td>\n",
       "      <td>69</td>\n",
       "      <td>14.0</td>\n",
       "    </tr>\n",
       "  </tbody>\n",
       "</table>\n",
       "</div>"
      ],
      "text/plain": [
       "                 Station    Date.local.  Tair.C.  Twet.C.  RH...  Tdew.C.\n",
       "0  Auckland, Mangere Ews  20150101:0900     19.3     15.8     68     13.3\n",
       "1  Auckland, Mangere Ews  20150102:0900     19.8     16.4     69     14.0"
      ]
     },
     "execution_count": 27,
     "metadata": {},
     "output_type": "execute_result"
    },
    {
     "name": "stdout",
     "output_type": "stream",
     "text": [
      "In [27] used 0.012 MiB RAM in 0.019s, peaked 0.000 MiB above current, total RAM usage 85.934 MiB\n"
     ]
    }
   ],
   "source": [
    "ScreenObs_1=pd.read_csv(\".\\\\weather\\\\ScreenObs_1.csv\",nrows=2,index_col=None)\n",
    "ScreenObs_1\n"
   ]
  },
  {
   "cell_type": "code",
   "execution_count": 28,
   "metadata": {
    "collapsed": false
   },
   "outputs": [
    {
     "data": {
      "text/plain": [
       "(9198, 6)"
      ]
     },
     "execution_count": 28,
     "metadata": {},
     "output_type": "execute_result"
    },
    {
     "name": "stdout",
     "output_type": "stream",
     "text": [
      "In [28] used 1.012 MiB RAM in 0.028s, peaked 0.000 MiB above current, total RAM usage 86.945 MiB\n"
     ]
    }
   ],
   "source": [
    "ScreenObs_1=pd.read_csv(\".\\\\weather\\\\ScreenObs_1.csv\",usecols=[0,1,2,3,4,5],index_col=None)\n",
    "ScreenObs_2=pd.read_csv(\".\\\\weather\\\\ScreenObs_2.csv\",usecolbs=[0,1,2,3,4,5],index_col=None)\n",
    "ScreenObs_3=pd.read_csv(\".\\\\weather\\\\ScreenObs_3.csv\",usecols=[0,1,2,3,4,5],index_col=None)\n",
    "ScreenObs_4=pd.read_csv(\".\\\\weather\\\\ScreenObs_4.csv\",usecols=[0,1,2,3,4,5],index_col=None)\n",
    "screenObs=pd.concat([ScreenObs_1,ScreenObs_2,ScreenObs_3,ScreenObs_4])\n",
    "screenObs.shape"
   ]
  },
  {
   "cell_type": "code",
   "execution_count": 29,
   "metadata": {
    "collapsed": false
   },
   "outputs": [
    {
     "data": {
      "text/html": [
       "<div>\n",
       "<table border=\"1\" class=\"dataframe\">\n",
       "  <thead>\n",
       "    <tr style=\"text-align: right;\">\n",
       "      <th></th>\n",
       "      <th>Station</th>\n",
       "      <th>Date.local.</th>\n",
       "      <th>Dir.DegT.</th>\n",
       "      <th>Speed.m.s.</th>\n",
       "      <th>Period.Hrs.</th>\n",
       "      <th>Freq</th>\n",
       "    </tr>\n",
       "  </thead>\n",
       "  <tbody>\n",
       "    <tr>\n",
       "      <th>0</th>\n",
       "      <td>Auckland, Mangere Ews</td>\n",
       "      <td>20150101:2359</td>\n",
       "      <td>223</td>\n",
       "      <td>13.9</td>\n",
       "      <td>24</td>\n",
       "      <td>D</td>\n",
       "    </tr>\n",
       "  </tbody>\n",
       "</table>\n",
       "</div>"
      ],
      "text/plain": [
       "                 Station    Date.local.  Dir.DegT.  Speed.m.s.  Period.Hrs.  \\\n",
       "0  Auckland, Mangere Ews  20150101:2359        223        13.9           24   \n",
       "\n",
       "  Freq  \n",
       "0    D  "
      ]
     },
     "execution_count": 29,
     "metadata": {},
     "output_type": "execute_result"
    },
    {
     "name": "stdout",
     "output_type": "stream",
     "text": [
      "In [29] used 0.000 MiB RAM in 0.012s, peaked 0.000 MiB above current, total RAM usage 86.945 MiB\n"
     ]
    }
   ],
   "source": [
    "Max_Gust_1=pd.read_csv(\".\\\\weather\\\\Max Gust_1.csv\",nrows=1,index_col=None)\n",
    "Max_Gust_1\n"
   ]
  },
  {
   "cell_type": "code",
   "execution_count": 31,
   "metadata": {
    "collapsed": false
   },
   "outputs": [
    {
     "data": {
      "text/plain": [
       "(23167, 6)"
      ]
     },
     "execution_count": 31,
     "metadata": {},
     "output_type": "execute_result"
    },
    {
     "name": "stdout",
     "output_type": "stream",
     "text": [
      "In [31] used 1.094 MiB RAM in 0.047s, peaked 0.000 MiB above current, total RAM usage 88.039 MiB\n"
     ]
    }
   ],
   "source": [
    "Max_Gust_1=pd.read_csv(\".\\\\weather\\\\Max Gust_1.csv\",usecols=[0,1,2,3,4,5],index_col=None)\n",
    "Max_Gust_2=pd.read_csv(\".\\\\weather\\\\Max Gust_2.csv\",usecols=[0,1,2,3,4,5],index_col=None)\n",
    "Max_Gust_3=pd.read_csv(\".\\\\weather\\\\Max Gust_3.csv\",usecols=[0,1,2,3,4,5],index_col=None)\n",
    "Max_Gust_4=pd.read_csv(\".\\\\weather\\\\Max Gust_4.csv\",usecols=[0,1,2,3,4,5],index_col=None)\n",
    "max_Gust=pd.concat([Max_Gust_1,Max_Gust_2,Max_Gust_3,Max_Gust_4])\n",
    "max_Gust.shape"
   ]
  },
  {
   "cell_type": "code",
   "execution_count": 32,
   "metadata": {
    "collapsed": false
   },
   "outputs": [
    {
     "data": {
      "text/html": [
       "<div>\n",
       "<table border=\"1\" class=\"dataframe\">\n",
       "  <thead>\n",
       "    <tr style=\"text-align: right;\">\n",
       "      <th></th>\n",
       "      <th>Station</th>\n",
       "      <th>Date.local.</th>\n",
       "      <th>Dir.DegT.</th>\n",
       "      <th>Speed.m.s.</th>\n",
       "      <th>Period.Hrs.</th>\n",
       "      <th>Freq</th>\n",
       "    </tr>\n",
       "  </thead>\n",
       "  <tbody>\n",
       "    <tr>\n",
       "      <th>0</th>\n",
       "      <td>Auckland, Mangere Ews</td>\n",
       "      <td>20150101:2359</td>\n",
       "      <td>223</td>\n",
       "      <td>13.9</td>\n",
       "      <td>24</td>\n",
       "      <td>D</td>\n",
       "    </tr>\n",
       "  </tbody>\n",
       "</table>\n",
       "</div>"
      ],
      "text/plain": [
       "                 Station    Date.local.  Dir.DegT.  Speed.m.s.  Period.Hrs.  \\\n",
       "0  Auckland, Mangere Ews  20150101:2359        223        13.9           24   \n",
       "\n",
       "  Freq  \n",
       "0    D  "
      ]
     },
     "execution_count": 32,
     "metadata": {},
     "output_type": "execute_result"
    },
    {
     "name": "stdout",
     "output_type": "stream",
     "text": [
      "In [32] used 1.000 MiB RAM in 0.017s, peaked 0.000 MiB above current, total RAM usage 89.039 MiB\n"
     ]
    }
   ],
   "source": [
    "Max_min_1=pd.read_csv(\".\\\\weather\\\\Max Gust_1.csv\",nrows=1,index_col=None)\n",
    "Max_min_1"
   ]
  },
  {
   "cell_type": "code",
   "execution_count": 34,
   "metadata": {
    "collapsed": false
   },
   "outputs": [
    {
     "data": {
      "text/plain": [
       "(27822, 6)"
      ]
     },
     "execution_count": 34,
     "metadata": {},
     "output_type": "execute_result"
    },
    {
     "name": "stdout",
     "output_type": "stream",
     "text": [
      "In [34] used 1.961 MiB RAM in 0.072s, peaked 0.000 MiB above current, total RAM usage 93.367 MiB\n"
     ]
    }
   ],
   "source": [
    "Max_min_1=pd.read_csv(\".\\\\weather\\\\Max_min_1.csv\",usecols=[0,1,2,3,4,5],index_col=None)\n",
    "Max_min_2=pd.read_csv(\".\\\\weather\\\\Max_min_2.csv\",usecols=[0,1,2,3,4,5],index_col=None)\n",
    "Max_min_3=pd.read_csv(\".\\\\weather\\\\Max_min_3.csv\",usecols=[0,1,2,3,4,5],index_col=None)\n",
    "Max_min_4=pd.read_csv(\".\\\\weather\\\\Max_min_4.csv\",usecols=[0,1,2,3,4,5],index_col=None)\n",
    "max_min=pd.concat([Max_min_1,Max_min_2,Max_min_3,Max_min_4])\n",
    "max_min.shape"
   ]
  },
  {
   "cell_type": "code",
   "execution_count": 39,
   "metadata": {
    "collapsed": false
   },
   "outputs": [
    {
     "name": "stdout",
     "output_type": "stream",
     "text": [
      "In [39] used 96.523 MiB RAM in 14.848s, peaked 12.488 MiB above current, total RAM usage 230.293 MiB\n"
     ]
    }
   ],
   "source": [
    "writer = pd.ExcelWriter(\"weather.xls\")\n",
    "rain.to_excel(writer,sheet_name=\"rain\")\n",
    "sunshine.to_excel(writer,sheet_name=\"sunshine\")\n",
    "surface_wind.to_excel(writer,sheet_name=\"surface_wind\")\n",
    "max_Gust.to_excel(writer,sheet_name=\"max_Gust\")\n",
    "max_min.to_excel(writer,sheet_name=\"max_min\")\n",
    "screenObs.to_excel(writer,sheet_name=\"screenObs\")\n",
    "writer.save()"
   ]
  },
  {
   "cell_type": "code",
   "execution_count": 13,
   "metadata": {
    "collapsed": false
   },
   "outputs": [
    {
     "data": {
      "text/html": [
       "<div>\n",
       "<table border=\"1\" class=\"dataframe\">\n",
       "  <thead>\n",
       "    <tr style=\"text-align: right;\">\n",
       "      <th></th>\n",
       "      <th>Station</th>\n",
       "      <th>Date.local.</th>\n",
       "      <th>Dir.DegT.</th>\n",
       "      <th>Speed.m.s.</th>\n",
       "      <th>Period.Hrs.</th>\n",
       "      <th>Freq</th>\n",
       "    </tr>\n",
       "  </thead>\n",
       "  <tbody>\n",
       "    <tr>\n",
       "      <th>0</th>\n",
       "      <td>Auckland, Mangere Ews</td>\n",
       "      <td>20150101:2359</td>\n",
       "      <td>223</td>\n",
       "      <td>13.9</td>\n",
       "      <td>24</td>\n",
       "      <td>D</td>\n",
       "    </tr>\n",
       "    <tr>\n",
       "      <th>1</th>\n",
       "      <td>Auckland, Mangere Ews</td>\n",
       "      <td>20150102:2359</td>\n",
       "      <td>235</td>\n",
       "      <td>12.4</td>\n",
       "      <td>24</td>\n",
       "      <td>D</td>\n",
       "    </tr>\n",
       "  </tbody>\n",
       "</table>\n",
       "</div>"
      ],
      "text/plain": [
       "                 Station    Date.local.  Dir.DegT.  Speed.m.s.  Period.Hrs.  \\\n",
       "0  Auckland, Mangere Ews  20150101:2359        223        13.9           24   \n",
       "1  Auckland, Mangere Ews  20150102:2359        235        12.4           24   \n",
       "\n",
       "  Freq  \n",
       "0    D  \n",
       "1    D  "
      ]
     },
     "execution_count": 13,
     "metadata": {},
     "output_type": "execute_result"
    },
    {
     "name": "stdout",
     "output_type": "stream",
     "text": [
      "In [13] used 0.000 MiB RAM in 0.031s, peaked 0.000 MiB above current, total RAM usage 2557.441 MiB\n"
     ]
    }
   ],
   "source": [
    "max_gust=pd.read_csv(\"Max Gust_1.csv\",nrows=10,index_col=None)\n",
    "max_gust.head(2)"
   ]
  },
  {
   "cell_type": "code",
   "execution_count": null,
   "metadata": {
    "collapsed": true
   },
   "outputs": [],
   "source": [
    "zone_name\n",
    "city_name\n",
    "retailer_status_description"
   ]
  },
  {
   "cell_type": "code",
   "execution_count": 42,
   "metadata": {
    "collapsed": false
   },
   "outputs": [
    {
     "data": {
      "text/html": [
       "<div>\n",
       "<table border=\"1\" class=\"dataframe\">\n",
       "  <thead>\n",
       "    <tr style=\"text-align: right;\">\n",
       "      <th></th>\n",
       "      <th>dim_retailer_key</th>\n",
       "      <th>zone_name</th>\n",
       "    </tr>\n",
       "  </thead>\n",
       "  <tbody>\n",
       "    <tr>\n",
       "      <th>0</th>\n",
       "      <td>1</td>\n",
       "      <td>00 Unknown Zone</td>\n",
       "    </tr>\n",
       "    <tr>\n",
       "      <th>1</th>\n",
       "      <td>2</td>\n",
       "      <td>00 Unknown Zone</td>\n",
       "    </tr>\n",
       "    <tr>\n",
       "      <th>2</th>\n",
       "      <td>3</td>\n",
       "      <td>00 Unknown Zone</td>\n",
       "    </tr>\n",
       "    <tr>\n",
       "      <th>3</th>\n",
       "      <td>4</td>\n",
       "      <td>00 Unknown Zone</td>\n",
       "    </tr>\n",
       "    <tr>\n",
       "      <th>4</th>\n",
       "      <td>5</td>\n",
       "      <td>00 Unknown Zone</td>\n",
       "    </tr>\n",
       "  </tbody>\n",
       "</table>\n",
       "</div>"
      ],
      "text/plain": [
       "   dim_retailer_key        zone_name\n",
       "0                 1  00 Unknown Zone\n",
       "1                 2  00 Unknown Zone\n",
       "2                 3  00 Unknown Zone\n",
       "3                 4  00 Unknown Zone\n",
       "4                 5  00 Unknown Zone"
      ]
     },
     "execution_count": 42,
     "metadata": {},
     "output_type": "execute_result"
    },
    {
     "name": "stdout",
     "output_type": "stream",
     "text": [
      "In [42] used 0.000 MiB RAM in 0.031s, peaked 0.000 MiB above current, total RAM usage 233.141 MiB\n"
     ]
    }
   ],
   "source": [
    "retailer=pd.read_csv(\"dimRetailerMDP.csv\",usecols=[\"dim_retailer_key\",\"zone_name\"],index_col=None)\n",
    "retailer.head()"
   ]
  },
  {
   "cell_type": "code",
   "execution_count": 43,
   "metadata": {
    "collapsed": false
   },
   "outputs": [
    {
     "name": "stdout",
     "output_type": "stream",
     "text": [
      "In [43] used 0.008 MiB RAM in 0.003s, peaked 0.000 MiB above current, total RAM usage 233.148 MiB\n"
     ]
    }
   ],
   "source": [
    "retailer=retailer[retailer.zone_name!='Unknown Zone']"
   ]
  },
  {
   "cell_type": "code",
   "execution_count": 46,
   "metadata": {
    "collapsed": false
   },
   "outputs": [
    {
     "data": {
      "text/html": [
       "<div>\n",
       "<table border=\"1\" class=\"dataframe\">\n",
       "  <thead>\n",
       "    <tr style=\"text-align: right;\">\n",
       "      <th></th>\n",
       "      <th>Station</th>\n",
       "      <th>Date.local.</th>\n",
       "      <th>Amount.mm.</th>\n",
       "    </tr>\n",
       "  </thead>\n",
       "  <tbody>\n",
       "    <tr>\n",
       "      <th>0</th>\n",
       "      <td>Auckland, Mangere Ews</td>\n",
       "      <td>20150101:0900</td>\n",
       "      <td>4.0</td>\n",
       "    </tr>\n",
       "    <tr>\n",
       "      <th>1</th>\n",
       "      <td>Auckland, Mangere Ews</td>\n",
       "      <td>20150102:0900</td>\n",
       "      <td>0.0</td>\n",
       "    </tr>\n",
       "    <tr>\n",
       "      <th>2</th>\n",
       "      <td>Auckland, Mangere Ews</td>\n",
       "      <td>20150103:0900</td>\n",
       "      <td>0.0</td>\n",
       "    </tr>\n",
       "    <tr>\n",
       "      <th>3</th>\n",
       "      <td>Auckland, Mangere Ews</td>\n",
       "      <td>20150104:0900</td>\n",
       "      <td>0.0</td>\n",
       "    </tr>\n",
       "    <tr>\n",
       "      <th>4</th>\n",
       "      <td>Auckland, Mangere Ews</td>\n",
       "      <td>20150105:0900</td>\n",
       "      <td>0.0</td>\n",
       "    </tr>\n",
       "    <tr>\n",
       "      <th>5</th>\n",
       "      <td>Auckland, Mangere Ews</td>\n",
       "      <td>20150106:0900</td>\n",
       "      <td>0.0</td>\n",
       "    </tr>\n",
       "    <tr>\n",
       "      <th>6</th>\n",
       "      <td>Auckland, Mangere Ews</td>\n",
       "      <td>20150107:0900</td>\n",
       "      <td>0.0</td>\n",
       "    </tr>\n",
       "    <tr>\n",
       "      <th>7</th>\n",
       "      <td>Auckland, Mangere Ews</td>\n",
       "      <td>20150108:0900</td>\n",
       "      <td>0.0</td>\n",
       "    </tr>\n",
       "    <tr>\n",
       "      <th>8</th>\n",
       "      <td>Auckland, Mangere Ews</td>\n",
       "      <td>20150109:0900</td>\n",
       "      <td>0.0</td>\n",
       "    </tr>\n",
       "    <tr>\n",
       "      <th>9</th>\n",
       "      <td>Auckland, Mangere Ews</td>\n",
       "      <td>20150110:0900</td>\n",
       "      <td>0.0</td>\n",
       "    </tr>\n",
       "    <tr>\n",
       "      <th>10</th>\n",
       "      <td>Auckland, Mangere Ews</td>\n",
       "      <td>20150111:0900</td>\n",
       "      <td>0.0</td>\n",
       "    </tr>\n",
       "    <tr>\n",
       "      <th>11</th>\n",
       "      <td>Auckland, Mangere Ews</td>\n",
       "      <td>20150112:0900</td>\n",
       "      <td>0.0</td>\n",
       "    </tr>\n",
       "    <tr>\n",
       "      <th>12</th>\n",
       "      <td>Auckland, Mangere Ews</td>\n",
       "      <td>20150113:0900</td>\n",
       "      <td>0.0</td>\n",
       "    </tr>\n",
       "    <tr>\n",
       "      <th>13</th>\n",
       "      <td>Auckland, Mangere Ews</td>\n",
       "      <td>20150114:0900</td>\n",
       "      <td>0.0</td>\n",
       "    </tr>\n",
       "    <tr>\n",
       "      <th>14</th>\n",
       "      <td>Auckland, Mangere Ews</td>\n",
       "      <td>20150115:0900</td>\n",
       "      <td>0.0</td>\n",
       "    </tr>\n",
       "    <tr>\n",
       "      <th>15</th>\n",
       "      <td>Auckland, Mangere Ews</td>\n",
       "      <td>20150116:0900</td>\n",
       "      <td>0.0</td>\n",
       "    </tr>\n",
       "    <tr>\n",
       "      <th>16</th>\n",
       "      <td>Auckland, Mangere Ews</td>\n",
       "      <td>20150117:0900</td>\n",
       "      <td>0.0</td>\n",
       "    </tr>\n",
       "    <tr>\n",
       "      <th>17</th>\n",
       "      <td>Auckland, Mangere Ews</td>\n",
       "      <td>20150118:0900</td>\n",
       "      <td>2.4</td>\n",
       "    </tr>\n",
       "    <tr>\n",
       "      <th>18</th>\n",
       "      <td>Auckland, Mangere Ews</td>\n",
       "      <td>20150119:0900</td>\n",
       "      <td>0.4</td>\n",
       "    </tr>\n",
       "    <tr>\n",
       "      <th>19</th>\n",
       "      <td>Auckland, Mangere Ews</td>\n",
       "      <td>20150120:0900</td>\n",
       "      <td>0.0</td>\n",
       "    </tr>\n",
       "    <tr>\n",
       "      <th>20</th>\n",
       "      <td>Auckland, Mangere Ews</td>\n",
       "      <td>20150121:0900</td>\n",
       "      <td>0.0</td>\n",
       "    </tr>\n",
       "    <tr>\n",
       "      <th>21</th>\n",
       "      <td>Auckland, Mangere Ews</td>\n",
       "      <td>20150122:0900</td>\n",
       "      <td>0.0</td>\n",
       "    </tr>\n",
       "    <tr>\n",
       "      <th>22</th>\n",
       "      <td>Auckland, Mangere Ews</td>\n",
       "      <td>20150123:0900</td>\n",
       "      <td>0.0</td>\n",
       "    </tr>\n",
       "    <tr>\n",
       "      <th>23</th>\n",
       "      <td>Auckland, Mangere Ews</td>\n",
       "      <td>20150124:0900</td>\n",
       "      <td>0.0</td>\n",
       "    </tr>\n",
       "    <tr>\n",
       "      <th>24</th>\n",
       "      <td>Auckland, Mangere Ews</td>\n",
       "      <td>20150125:0900</td>\n",
       "      <td>0.0</td>\n",
       "    </tr>\n",
       "    <tr>\n",
       "      <th>25</th>\n",
       "      <td>Auckland, Mangere Ews</td>\n",
       "      <td>20150126:0900</td>\n",
       "      <td>0.0</td>\n",
       "    </tr>\n",
       "    <tr>\n",
       "      <th>26</th>\n",
       "      <td>Auckland, Mangere Ews</td>\n",
       "      <td>20150127:0900</td>\n",
       "      <td>0.0</td>\n",
       "    </tr>\n",
       "    <tr>\n",
       "      <th>27</th>\n",
       "      <td>Auckland, Mangere Ews</td>\n",
       "      <td>20150128:0900</td>\n",
       "      <td>0.0</td>\n",
       "    </tr>\n",
       "    <tr>\n",
       "      <th>28</th>\n",
       "      <td>Auckland, Mangere Ews</td>\n",
       "      <td>20150129:0900</td>\n",
       "      <td>0.0</td>\n",
       "    </tr>\n",
       "    <tr>\n",
       "      <th>29</th>\n",
       "      <td>Auckland, Mangere Ews</td>\n",
       "      <td>20150130:0900</td>\n",
       "      <td>0.0</td>\n",
       "    </tr>\n",
       "    <tr>\n",
       "      <th>...</th>\n",
       "      <td>...</td>\n",
       "      <td>...</td>\n",
       "      <td>...</td>\n",
       "    </tr>\n",
       "    <tr>\n",
       "      <th>791</th>\n",
       "      <td>Auckland, Mangere Ews</td>\n",
       "      <td>20170302:0900</td>\n",
       "      <td>0.0</td>\n",
       "    </tr>\n",
       "    <tr>\n",
       "      <th>792</th>\n",
       "      <td>Auckland, Mangere Ews</td>\n",
       "      <td>20170303:0900</td>\n",
       "      <td>0.0</td>\n",
       "    </tr>\n",
       "    <tr>\n",
       "      <th>793</th>\n",
       "      <td>Auckland, Mangere Ews</td>\n",
       "      <td>20170304:0900</td>\n",
       "      <td>0.0</td>\n",
       "    </tr>\n",
       "    <tr>\n",
       "      <th>794</th>\n",
       "      <td>Auckland, Mangere Ews</td>\n",
       "      <td>20170305:0900</td>\n",
       "      <td>0.2</td>\n",
       "    </tr>\n",
       "    <tr>\n",
       "      <th>795</th>\n",
       "      <td>Auckland, Mangere Ews</td>\n",
       "      <td>20170306:0900</td>\n",
       "      <td>0.0</td>\n",
       "    </tr>\n",
       "    <tr>\n",
       "      <th>796</th>\n",
       "      <td>Auckland, Mangere Ews</td>\n",
       "      <td>20170307:0900</td>\n",
       "      <td>0.0</td>\n",
       "    </tr>\n",
       "    <tr>\n",
       "      <th>797</th>\n",
       "      <td>Auckland, Mangere Ews</td>\n",
       "      <td>20170308:0900</td>\n",
       "      <td>40.2</td>\n",
       "    </tr>\n",
       "    <tr>\n",
       "      <th>798</th>\n",
       "      <td>Auckland, Mangere Ews</td>\n",
       "      <td>20170309:0900</td>\n",
       "      <td>4.8</td>\n",
       "    </tr>\n",
       "    <tr>\n",
       "      <th>799</th>\n",
       "      <td>Auckland, Mangere Ews</td>\n",
       "      <td>20170310:0900</td>\n",
       "      <td>0.0</td>\n",
       "    </tr>\n",
       "    <tr>\n",
       "      <th>800</th>\n",
       "      <td>Auckland, Mangere Ews</td>\n",
       "      <td>20170311:0900</td>\n",
       "      <td>100.0</td>\n",
       "    </tr>\n",
       "    <tr>\n",
       "      <th>801</th>\n",
       "      <td>Auckland, Mangere Ews</td>\n",
       "      <td>20170312:0900</td>\n",
       "      <td>1.0</td>\n",
       "    </tr>\n",
       "    <tr>\n",
       "      <th>802</th>\n",
       "      <td>Auckland, Mangere Ews</td>\n",
       "      <td>20170313:0900</td>\n",
       "      <td>0.0</td>\n",
       "    </tr>\n",
       "    <tr>\n",
       "      <th>803</th>\n",
       "      <td>Auckland, Mangere Ews</td>\n",
       "      <td>20170314:0900</td>\n",
       "      <td>0.0</td>\n",
       "    </tr>\n",
       "    <tr>\n",
       "      <th>804</th>\n",
       "      <td>Auckland, Mangere Ews</td>\n",
       "      <td>20170315:0900</td>\n",
       "      <td>0.0</td>\n",
       "    </tr>\n",
       "    <tr>\n",
       "      <th>805</th>\n",
       "      <td>Auckland, Mangere Ews</td>\n",
       "      <td>20170316:0900</td>\n",
       "      <td>0.0</td>\n",
       "    </tr>\n",
       "    <tr>\n",
       "      <th>806</th>\n",
       "      <td>Auckland, Mangere Ews</td>\n",
       "      <td>20170317:0900</td>\n",
       "      <td>0.0</td>\n",
       "    </tr>\n",
       "    <tr>\n",
       "      <th>807</th>\n",
       "      <td>Auckland, Mangere Ews</td>\n",
       "      <td>20170318:0900</td>\n",
       "      <td>0.0</td>\n",
       "    </tr>\n",
       "    <tr>\n",
       "      <th>808</th>\n",
       "      <td>Auckland, Mangere Ews</td>\n",
       "      <td>20170319:0900</td>\n",
       "      <td>0.0</td>\n",
       "    </tr>\n",
       "    <tr>\n",
       "      <th>809</th>\n",
       "      <td>Auckland, Mangere Ews</td>\n",
       "      <td>20170320:0900</td>\n",
       "      <td>0.0</td>\n",
       "    </tr>\n",
       "    <tr>\n",
       "      <th>810</th>\n",
       "      <td>Auckland, Mangere Ews</td>\n",
       "      <td>20170321:0900</td>\n",
       "      <td>2.6</td>\n",
       "    </tr>\n",
       "    <tr>\n",
       "      <th>811</th>\n",
       "      <td>Auckland, Mangere Ews</td>\n",
       "      <td>20170322:0900</td>\n",
       "      <td>0.0</td>\n",
       "    </tr>\n",
       "    <tr>\n",
       "      <th>812</th>\n",
       "      <td>Auckland, Mangere Ews</td>\n",
       "      <td>20170323:0900</td>\n",
       "      <td>0.0</td>\n",
       "    </tr>\n",
       "    <tr>\n",
       "      <th>813</th>\n",
       "      <td>Auckland, Mangere Ews</td>\n",
       "      <td>20170324:0900</td>\n",
       "      <td>0.2</td>\n",
       "    </tr>\n",
       "    <tr>\n",
       "      <th>814</th>\n",
       "      <td>Auckland, Mangere Ews</td>\n",
       "      <td>20170325:0900</td>\n",
       "      <td>0.0</td>\n",
       "    </tr>\n",
       "    <tr>\n",
       "      <th>815</th>\n",
       "      <td>Auckland, Mangere Ews</td>\n",
       "      <td>20170326:0900</td>\n",
       "      <td>0.2</td>\n",
       "    </tr>\n",
       "    <tr>\n",
       "      <th>816</th>\n",
       "      <td>Auckland, Mangere Ews</td>\n",
       "      <td>20170327:0900</td>\n",
       "      <td>55.0</td>\n",
       "    </tr>\n",
       "    <tr>\n",
       "      <th>817</th>\n",
       "      <td>Auckland, Mangere Ews</td>\n",
       "      <td>20170328:0900</td>\n",
       "      <td>7.2</td>\n",
       "    </tr>\n",
       "    <tr>\n",
       "      <th>818</th>\n",
       "      <td>Auckland, Mangere Ews</td>\n",
       "      <td>20170329:0900</td>\n",
       "      <td>42.0</td>\n",
       "    </tr>\n",
       "    <tr>\n",
       "      <th>819</th>\n",
       "      <td>Auckland, Mangere Ews</td>\n",
       "      <td>20170330:0900</td>\n",
       "      <td>16.0</td>\n",
       "    </tr>\n",
       "    <tr>\n",
       "      <th>820</th>\n",
       "      <td>Auckland, Mangere Ews</td>\n",
       "      <td>20170331:0900</td>\n",
       "      <td>0.0</td>\n",
       "    </tr>\n",
       "  </tbody>\n",
       "</table>\n",
       "<p>821 rows × 3 columns</p>\n",
       "</div>"
      ],
      "text/plain": [
       "                   Station    Date.local.  Amount.mm.\n",
       "0    Auckland, Mangere Ews  20150101:0900         4.0\n",
       "1    Auckland, Mangere Ews  20150102:0900         0.0\n",
       "2    Auckland, Mangere Ews  20150103:0900         0.0\n",
       "3    Auckland, Mangere Ews  20150104:0900         0.0\n",
       "4    Auckland, Mangere Ews  20150105:0900         0.0\n",
       "5    Auckland, Mangere Ews  20150106:0900         0.0\n",
       "6    Auckland, Mangere Ews  20150107:0900         0.0\n",
       "7    Auckland, Mangere Ews  20150108:0900         0.0\n",
       "8    Auckland, Mangere Ews  20150109:0900         0.0\n",
       "9    Auckland, Mangere Ews  20150110:0900         0.0\n",
       "10   Auckland, Mangere Ews  20150111:0900         0.0\n",
       "11   Auckland, Mangere Ews  20150112:0900         0.0\n",
       "12   Auckland, Mangere Ews  20150113:0900         0.0\n",
       "13   Auckland, Mangere Ews  20150114:0900         0.0\n",
       "14   Auckland, Mangere Ews  20150115:0900         0.0\n",
       "15   Auckland, Mangere Ews  20150116:0900         0.0\n",
       "16   Auckland, Mangere Ews  20150117:0900         0.0\n",
       "17   Auckland, Mangere Ews  20150118:0900         2.4\n",
       "18   Auckland, Mangere Ews  20150119:0900         0.4\n",
       "19   Auckland, Mangere Ews  20150120:0900         0.0\n",
       "20   Auckland, Mangere Ews  20150121:0900         0.0\n",
       "21   Auckland, Mangere Ews  20150122:0900         0.0\n",
       "22   Auckland, Mangere Ews  20150123:0900         0.0\n",
       "23   Auckland, Mangere Ews  20150124:0900         0.0\n",
       "24   Auckland, Mangere Ews  20150125:0900         0.0\n",
       "25   Auckland, Mangere Ews  20150126:0900         0.0\n",
       "26   Auckland, Mangere Ews  20150127:0900         0.0\n",
       "27   Auckland, Mangere Ews  20150128:0900         0.0\n",
       "28   Auckland, Mangere Ews  20150129:0900         0.0\n",
       "29   Auckland, Mangere Ews  20150130:0900         0.0\n",
       "..                     ...            ...         ...\n",
       "791  Auckland, Mangere Ews  20170302:0900         0.0\n",
       "792  Auckland, Mangere Ews  20170303:0900         0.0\n",
       "793  Auckland, Mangere Ews  20170304:0900         0.0\n",
       "794  Auckland, Mangere Ews  20170305:0900         0.2\n",
       "795  Auckland, Mangere Ews  20170306:0900         0.0\n",
       "796  Auckland, Mangere Ews  20170307:0900         0.0\n",
       "797  Auckland, Mangere Ews  20170308:0900        40.2\n",
       "798  Auckland, Mangere Ews  20170309:0900         4.8\n",
       "799  Auckland, Mangere Ews  20170310:0900         0.0\n",
       "800  Auckland, Mangere Ews  20170311:0900       100.0\n",
       "801  Auckland, Mangere Ews  20170312:0900         1.0\n",
       "802  Auckland, Mangere Ews  20170313:0900         0.0\n",
       "803  Auckland, Mangere Ews  20170314:0900         0.0\n",
       "804  Auckland, Mangere Ews  20170315:0900         0.0\n",
       "805  Auckland, Mangere Ews  20170316:0900         0.0\n",
       "806  Auckland, Mangere Ews  20170317:0900         0.0\n",
       "807  Auckland, Mangere Ews  20170318:0900         0.0\n",
       "808  Auckland, Mangere Ews  20170319:0900         0.0\n",
       "809  Auckland, Mangere Ews  20170320:0900         0.0\n",
       "810  Auckland, Mangere Ews  20170321:0900         2.6\n",
       "811  Auckland, Mangere Ews  20170322:0900         0.0\n",
       "812  Auckland, Mangere Ews  20170323:0900         0.0\n",
       "813  Auckland, Mangere Ews  20170324:0900         0.2\n",
       "814  Auckland, Mangere Ews  20170325:0900         0.0\n",
       "815  Auckland, Mangere Ews  20170326:0900         0.2\n",
       "816  Auckland, Mangere Ews  20170327:0900        55.0\n",
       "817  Auckland, Mangere Ews  20170328:0900         7.2\n",
       "818  Auckland, Mangere Ews  20170329:0900        42.0\n",
       "819  Auckland, Mangere Ews  20170330:0900        16.0\n",
       "820  Auckland, Mangere Ews  20170331:0900         0.0\n",
       "\n",
       "[821 rows x 3 columns]"
      ]
     },
     "execution_count": 46,
     "metadata": {},
     "output_type": "execute_result"
    },
    {
     "name": "stdout",
     "output_type": "stream",
     "text": [
      "In [46] used 0.031 MiB RAM in 0.031s, peaked 0.000 MiB above current, total RAM usage 233.180 MiB\n"
     ]
    }
   ],
   "source": [
    "rain[(rain.Station=='Auckland, Mangere Ews')&(rain[[\"Date.local.\"]])]"
   ]
  },
  {
   "cell_type": "code",
   "execution_count": 56,
   "metadata": {
    "collapsed": false
   },
   "outputs": [
    {
     "name": "stdout",
     "output_type": "stream",
     "text": [
      "In [56] used 13.484 MiB RAM in 2.973s, peaked 26.480 MiB above current, total RAM usage 287.723 MiB\n"
     ]
    }
   ],
   "source": [
    "rain_new=pd.read_excel(\"weather.xls\",sheetname=\"rain\",index_col=None,parse_cols=[0,1,2,3])"
   ]
  },
  {
   "cell_type": "code",
   "execution_count": 57,
   "metadata": {
    "collapsed": false
   },
   "outputs": [
    {
     "data": {
      "text/html": [
       "<div>\n",
       "<table border=\"1\" class=\"dataframe\">\n",
       "  <thead>\n",
       "    <tr style=\"text-align: right;\">\n",
       "      <th></th>\n",
       "      <th>Station</th>\n",
       "      <th>Date</th>\n",
       "      <th>Amount.mm.</th>\n",
       "    </tr>\n",
       "  </thead>\n",
       "  <tbody>\n",
       "    <tr>\n",
       "      <th>0</th>\n",
       "      <td>Auckland, Mangere Ews</td>\n",
       "      <td>01-01-2015</td>\n",
       "      <td>4.0</td>\n",
       "    </tr>\n",
       "    <tr>\n",
       "      <th>1</th>\n",
       "      <td>Auckland, Mangere Ews</td>\n",
       "      <td>02-01-2015</td>\n",
       "      <td>0.0</td>\n",
       "    </tr>\n",
       "  </tbody>\n",
       "</table>\n",
       "</div>"
      ],
      "text/plain": [
       "                 Station        Date  Amount.mm.\n",
       "0  Auckland, Mangere Ews  01-01-2015         4.0\n",
       "1  Auckland, Mangere Ews  02-01-2015         0.0"
      ]
     },
     "execution_count": 57,
     "metadata": {},
     "output_type": "execute_result"
    },
    {
     "name": "stdout",
     "output_type": "stream",
     "text": [
      "In [57] used 0.008 MiB RAM in 0.007s, peaked 0.000 MiB above current, total RAM usage 287.730 MiB\n"
     ]
    }
   ],
   "source": [
    "rain_new.head(2)"
   ]
  },
  {
   "cell_type": "code",
   "execution_count": 75,
   "metadata": {
    "collapsed": false
   },
   "outputs": [
    {
     "name": "stdout",
     "output_type": "stream",
     "text": [
      "In [75] used 0.004 MiB RAM in 0.117s, peaked 0.000 MiB above current, total RAM usage 288.270 MiB\n"
     ]
    }
   ],
   "source": [
    "#rain_new[ s in rain_new.Station if \"Auckland\" in s ]\n",
    "akl_rain=rain_new[rain_new.Station.str.contains(\"Auckland\")].groupby(\"Date\")\n",
    "akl_rain_avg=akl_rain[[\"Amount.mm.\"]].apply(np.mean)\n",
    "akl_rain_avg.to_csv(\"akl_rain_avg.csv\")\n",
    "\n",
    "#rain_new[ s in rain_new.Station if \"Auckland\" in s ]\n",
    "wgtn_rain=rain_new[rain_new.Station.str.contains(\"Wellington\")].groupby(\"Date\")\n",
    "wgtn_rain_avg=akl_rain[[\"Amount.mm.\"]].apply(np.mean)\n",
    "wgtn_rain_avg.to_csv(\"wgtn_rain_avg.csv\")\n",
    "\n",
    "#rain_new[ s in rain_new.Station if \"Auckland\" in s ]\n",
    "chch_rain=rain_new[rain_new.Station.str.contains(\"Christchurch\")].groupby(\"Date\")\n",
    "chch_rain_avg=akl_rain[[\"Amount.mm.\"]].apply(np.mean)\n",
    "chch_rain_avg.to_csv(\"chch_rain_avg.csv\")"
   ]
  },
  {
   "cell_type": "code",
   "execution_count": 78,
   "metadata": {
    "collapsed": false
   },
   "outputs": [
    {
     "data": {
      "text/html": [
       "<div>\n",
       "<table border=\"1\" class=\"dataframe\">\n",
       "  <thead>\n",
       "    <tr style=\"text-align: right;\">\n",
       "      <th></th>\n",
       "      <th>Station</th>\n",
       "      <th>Date</th>\n",
       "      <th>Hours of sunshine</th>\n",
       "    </tr>\n",
       "  </thead>\n",
       "  <tbody>\n",
       "    <tr>\n",
       "      <th>0</th>\n",
       "      <td>Auckland, Mangere Ews</td>\n",
       "      <td>01-01-2015</td>\n",
       "      <td>13.3</td>\n",
       "    </tr>\n",
       "    <tr>\n",
       "      <th>1</th>\n",
       "      <td>Auckland, Mangere Ews</td>\n",
       "      <td>02-01-2015</td>\n",
       "      <td>13.3</td>\n",
       "    </tr>\n",
       "  </tbody>\n",
       "</table>\n",
       "</div>"
      ],
      "text/plain": [
       "                 Station        Date  Hours of sunshine\n",
       "0  Auckland, Mangere Ews  01-01-2015               13.3\n",
       "1  Auckland, Mangere Ews  02-01-2015               13.3"
      ]
     },
     "execution_count": 78,
     "metadata": {},
     "output_type": "execute_result"
    },
    {
     "name": "stdout",
     "output_type": "stream",
     "text": [
      "In [78] used 22.047 MiB RAM in 2.860s, peaked 7.176 MiB above current, total RAM usage 310.320 MiB\n"
     ]
    }
   ],
   "source": [
    "sunhr_new=pd.read_excel(\"weather.xls\",sheetname=\"sunshine\",index_col=None,parse_cols=[0,1,2,3])\n",
    "sunhr_new.head(2)"
   ]
  },
  {
   "cell_type": "code",
   "execution_count": 80,
   "metadata": {
    "collapsed": false
   },
   "outputs": [
    {
     "name": "stdout",
     "output_type": "stream",
     "text": [
      "In [80] used 0.367 MiB RAM in 0.340s, peaked 0.000 MiB above current, total RAM usage 310.688 MiB\n"
     ]
    }
   ],
   "source": [
    "#rain_new[ s in rain_new.Station if \"Auckland\" in s ]\n",
    "akl_sunhr=sunhr_new[sunhr_new.Station.str.contains(\"Auckland\")].groupby(\"Date\")\n",
    "akl_sunhr_avg=akl_sunhr[[\"Hours of sunshine\"]].apply(np.mean)\n",
    "akl_sunhr_avg.to_csv(\"akl_sunhr_avg.csv\")\n",
    "\n",
    "#sunhr_new[ s in sunhr_new.Station if \"Auckland\" in s ]\n",
    "wgtn_sunhr=sunhr_new[sunhr_new.Station.str.contains(\"Wellington\")].groupby(\"Date\")\n",
    "wgtn_sunhr_avg=akl_sunhr[[\"Hours of sunshine\"]].apply(np.mean)\n",
    "wgtn_sunhr_avg.to_csv(\"wgtn_sunhr_avg.csv\")\n",
    "\n",
    "#sunhr_new[ s in sunhr_new.Station if \"Auckland\" in s ]\n",
    "chch_sunhr=sunhr_new[sunhr_new.Station.str.contains(\"Christchurch\")].groupby(\"Date\")\n",
    "chch_sunhr_avg=akl_sunhr[[\"Hours of sunshine\"]].apply(np.mean)\n",
    "chch_sunhr_avg.to_csv(\"chch_sunhr_avg.csv\")"
   ]
  },
  {
   "cell_type": "code",
   "execution_count": 84,
   "metadata": {
    "collapsed": false
   },
   "outputs": [
    {
     "data": {
      "text/html": [
       "<div>\n",
       "<table border=\"1\" class=\"dataframe\">\n",
       "  <thead>\n",
       "    <tr style=\"text-align: right;\">\n",
       "      <th></th>\n",
       "      <th>Station</th>\n",
       "      <th>Date.local.</th>\n",
       "      <th>Dir.DegT.</th>\n",
       "      <th>Speed.m.s.</th>\n",
       "      <th>Dir.StdDev</th>\n",
       "      <th>Spd.StdDev</th>\n",
       "    </tr>\n",
       "  </thead>\n",
       "  <tbody>\n",
       "    <tr>\n",
       "      <th>0</th>\n",
       "      <td>Auckland, Mangere Ews</td>\n",
       "      <td>20150101:0900</td>\n",
       "      <td>206</td>\n",
       "      <td>5.7</td>\n",
       "      <td>13.0</td>\n",
       "      <td>1.5</td>\n",
       "    </tr>\n",
       "    <tr>\n",
       "      <th>1</th>\n",
       "      <td>Auckland, Mangere Ews</td>\n",
       "      <td>20150102:0900</td>\n",
       "      <td>278</td>\n",
       "      <td>1.1</td>\n",
       "      <td>18.0</td>\n",
       "      <td>0.5</td>\n",
       "    </tr>\n",
       "  </tbody>\n",
       "</table>\n",
       "</div>"
      ],
      "text/plain": [
       "                 Station    Date.local.  Dir.DegT.  Speed.m.s.  Dir.StdDev  \\\n",
       "0  Auckland, Mangere Ews  20150101:0900        206         5.7        13.0   \n",
       "1  Auckland, Mangere Ews  20150102:0900        278         1.1        18.0   \n",
       "\n",
       "   Spd.StdDev  \n",
       "0         1.5  \n",
       "1         0.5  "
      ]
     },
     "execution_count": 84,
     "metadata": {},
     "output_type": "execute_result"
    },
    {
     "name": "stdout",
     "output_type": "stream",
     "text": [
      "In [84] used -23.473 MiB RAM in 2.891s, peaked 25.965 MiB above current, total RAM usage 284.809 MiB\n"
     ]
    }
   ],
   "source": [
    "windspeed_new=pd.read_excel(\"weather.xls\",sheetname=\"surface_wind\",index_col=None)\n",
    "windspeed_new.head(2)\n"
   ]
  },
  {
   "cell_type": "code",
   "execution_count": 89,
   "metadata": {
    "collapsed": false
   },
   "outputs": [
    {
     "data": {
      "text/html": [
       "<div>\n",
       "<table border=\"1\" class=\"dataframe\">\n",
       "  <thead>\n",
       "    <tr style=\"text-align: right;\">\n",
       "      <th></th>\n",
       "      <th>Station</th>\n",
       "      <th>Date</th>\n",
       "      <th>Speed</th>\n",
       "    </tr>\n",
       "  </thead>\n",
       "  <tbody>\n",
       "    <tr>\n",
       "      <th>0</th>\n",
       "      <td>Auckland, Mangere Ews</td>\n",
       "      <td>20150101:0900</td>\n",
       "      <td>5.7</td>\n",
       "    </tr>\n",
       "    <tr>\n",
       "      <th>1</th>\n",
       "      <td>Auckland, Mangere Ews</td>\n",
       "      <td>20150102:0900</td>\n",
       "      <td>1.1</td>\n",
       "    </tr>\n",
       "  </tbody>\n",
       "</table>\n",
       "</div>"
      ],
      "text/plain": [
       "                 Station           Date  Speed\n",
       "0  Auckland, Mangere Ews  20150101:0900    5.7\n",
       "1  Auckland, Mangere Ews  20150102:0900    1.1"
      ]
     },
     "execution_count": 89,
     "metadata": {},
     "output_type": "execute_result"
    },
    {
     "name": "stdout",
     "output_type": "stream",
     "text": [
      "In [89] used 0.020 MiB RAM in 0.012s, peaked 0.000 MiB above current, total RAM usage 284.840 MiB\n"
     ]
    }
   ],
   "source": [
    "windspeed_new=windspeed_new.ix[:,[\"Station\",\"Date.local.\",\"Speed.m.s.\"]]\n",
    "windspeed_new.columns=[\"Station\",\"Date\",\"Speed\"]\n",
    "windspeed_new.head(2)"
   ]
  },
  {
   "cell_type": "code",
   "execution_count": 95,
   "metadata": {
    "collapsed": false
   },
   "outputs": [
    {
     "data": {
      "text/plain": [
       "list"
      ]
     },
     "execution_count": 95,
     "metadata": {},
     "output_type": "execute_result"
    },
    {
     "name": "stdout",
     "output_type": "stream",
     "text": [
      "In [95] used 0.004 MiB RAM in 0.007s, peaked 0.000 MiB above current, total RAM usage 286.133 MiB\n"
     ]
    }
   ],
   "source": [
    "#windspeed_new.Date=\n",
    "x=[s[0:8] for s in windspeed_new.Date]\n",
    "type(x)"
   ]
  },
  {
   "cell_type": "code",
   "execution_count": 96,
   "metadata": {
    "collapsed": false
   },
   "outputs": [
    {
     "data": {
      "text/html": [
       "<div>\n",
       "<table border=\"1\" class=\"dataframe\">\n",
       "  <thead>\n",
       "    <tr style=\"text-align: right;\">\n",
       "      <th></th>\n",
       "      <th>Station</th>\n",
       "      <th>Date</th>\n",
       "      <th>Speed</th>\n",
       "    </tr>\n",
       "  </thead>\n",
       "  <tbody>\n",
       "    <tr>\n",
       "      <th>0</th>\n",
       "      <td>Auckland, Mangere Ews</td>\n",
       "      <td>20150101</td>\n",
       "      <td>5.7</td>\n",
       "    </tr>\n",
       "    <tr>\n",
       "      <th>1</th>\n",
       "      <td>Auckland, Mangere Ews</td>\n",
       "      <td>20150102</td>\n",
       "      <td>1.1</td>\n",
       "    </tr>\n",
       "  </tbody>\n",
       "</table>\n",
       "</div>"
      ],
      "text/plain": [
       "                 Station      Date  Speed\n",
       "0  Auckland, Mangere Ews  20150101    5.7\n",
       "1  Auckland, Mangere Ews  20150102    1.1"
      ]
     },
     "execution_count": 96,
     "metadata": {},
     "output_type": "execute_result"
    },
    {
     "name": "stdout",
     "output_type": "stream",
     "text": [
      "In [96] used 0.004 MiB RAM in 0.011s, peaked 0.000 MiB above current, total RAM usage 286.137 MiB\n"
     ]
    }
   ],
   "source": [
    "windspeed_new.Date=pd.Series(x)\n",
    "windspeed_new.head(2)"
   ]
  },
  {
   "cell_type": "code",
   "execution_count": 97,
   "metadata": {
    "collapsed": false
   },
   "outputs": [
    {
     "name": "stdout",
     "output_type": "stream",
     "text": [
      "In [97] used 0.465 MiB RAM in 0.361s, peaked 0.000 MiB above current, total RAM usage 286.602 MiB\n"
     ]
    }
   ],
   "source": [
    "#rain_new[ s in rain_new.Station if \"Auckland\" in s ]\n",
    "akl_windspeed=windspeed_new[windspeed_new.Station.str.contains(\"Auckland\")].groupby(\"Date\")\n",
    "akl_windspeed_avg=akl_windspeed[[\"Speed\"]].apply(np.mean)\n",
    "akl_windspeed_avg.to_csv(\"akl_windspeed_avg.csv\")\n",
    "\n",
    "#windspeed_new[ s in windspeed_new.Station if \"Auckland\" in s ]\n",
    "wgtn_windspeed=windspeed_new[windspeed_new.Station.str.contains(\"Wellington\")].groupby(\"Date\")\n",
    "wgtn_windspeed_avg=akl_windspeed[[\"Speed\"]].apply(np.mean)\n",
    "wgtn_windspeed_avg.to_csv(\"wgtn_windspeed_avg.csv\")\n",
    "\n",
    "#windspeed_new[ s in windspeed_new.Station if \"Auckland\" in s ]\n",
    "chch_windspeed=windspeed_new[windspeed_new.Station.str.contains(\"Christchurch\")].groupby(\"Date\")\n",
    "chch_windspeed_avg=akl_windspeed[[\"Speed\"]].apply(np.mean)\n",
    "chch_windspeed_avg.to_csv(\"chch_windspeed_avg.csv\")\n",
    "\n",
    "\n"
   ]
  },
  {
   "cell_type": "code",
   "execution_count": null,
   "metadata": {
    "collapsed": true
   },
   "outputs": [],
   "source": []
  },
  {
   "cell_type": "code",
   "execution_count": 68,
   "metadata": {
    "collapsed": false
   },
   "outputs": [
    {
     "data": {
      "text/plain": [
       "Amount.mm.    3.270991\n",
       "dtype: float64"
      ]
     },
     "execution_count": 68,
     "metadata": {},
     "output_type": "execute_result"
    },
    {
     "name": "stdout",
     "output_type": "stream",
     "text": [
      "In [68] used 0.012 MiB RAM in 0.029s, peaked 0.000 MiB above current, total RAM usage 288.047 MiB\n"
     ]
    }
   ],
   "source": [
    "WGTN_rain=rain_new[rain_new.Station.str.contains(\"Wellington\")][[\"Amount.mm.\"]].mean()\n",
    "WGTN_rain"
   ]
  },
  {
   "cell_type": "code",
   "execution_count": null,
   "metadata": {
    "collapsed": true
   },
   "outputs": [],
   "source": [
    "c=[s for s in rain_new.Station if ]"
   ]
  }
 ],
 "metadata": {
  "anaconda-cloud": {},
  "kernelspec": {
   "display_name": "Python [Root]",
   "language": "python",
   "name": "Python [Root]"
  },
  "language_info": {
   "codemirror_mode": {
    "name": "ipython",
    "version": 3
   },
   "file_extension": ".py",
   "mimetype": "text/x-python",
   "name": "python",
   "nbconvert_exporter": "python",
   "pygments_lexer": "ipython3",
   "version": "3.5.2"
  }
 },
 "nbformat": 4,
 "nbformat_minor": 0
}
